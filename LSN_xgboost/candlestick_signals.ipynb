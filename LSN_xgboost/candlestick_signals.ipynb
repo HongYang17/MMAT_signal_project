{
 "cells": [
  {
   "cell_type": "code",
   "execution_count": null,
   "id": "37b6e324",
   "metadata": {},
   "outputs": [],
   "source": [
    "import os\n",
    "import sys\n",
    "\n",
    "# Go up one folder from /notebooks to project root\n",
    "sys.path.append(os.path.abspath(\"..\"))\n",
    "\n",
    "from config.load_env import load_keys\n",
    "\n",
    "keys = load_keys()"
   ]
  }
 ],
 "metadata": {
  "language_info": {
   "name": "python"
  }
 },
 "nbformat": 4,
 "nbformat_minor": 5
}
