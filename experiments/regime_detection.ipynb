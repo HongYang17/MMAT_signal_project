{
 "cells": [
  {
   "metadata": {
    "ExecuteTime": {
     "end_time": "2025-07-04T09:15:38.986450Z",
     "start_time": "2025-07-04T09:12:59.480390Z"
    }
   },
   "cell_type": "code",
   "source": [
    "import os\n",
    "import pandas as pd\n",
    "import numpy as np\n",
    "from scipy.stats import linregress\n",
    "\n",
    "# === Config ===\n",
    "input_path = \"../data/BTCUSDT_1min.csv\"\n",
    "regime_dir = \"data_experiment/regime_fragments\"\n",
    "output_dir = \"data_experiment/backtest_fragments\"\n",
    "csv_path = os.path.join(output_dir, \"best_fragments_combined.csv\")\n",
    "os.makedirs(regime_dir, exist_ok=True)\n",
    "os.makedirs(output_dir, exist_ok=True)\n",
    "\n",
    "fragment_length = 720  # 12 hours\n",
    "step_size = 120        # 1 hour step\n",
    "\n",
    "# === Step 1: Load OHLCV ===\n",
    "df_btc = pd.read_csv(input_path, parse_dates=[\"timestamp\"])\n",
    "df_btc.set_index(\"timestamp\", inplace=True)\n",
    "df_close = df_btc[[\"close\"]].copy()\n",
    "\n",
    "# === Step 2: Extract sliding windows and classify regimes ===\n",
    "window_centers, regimes, vols, slopes = [], [], [], []\n",
    "\n",
    "for i in range(0, len(df_close) - fragment_length, step_size):\n",
    "    window_df = df_close.iloc[i:i + fragment_length]\n",
    "    x = np.arange(len(window_df))\n",
    "    slope = linregress(x, window_df[\"close\"]).slope\n",
    "    vol = window_df[\"close\"].pct_change().std()\n",
    "    center_time = window_df.index[len(window_df) // 2]\n",
    "\n",
    "    slopes.append(slope)\n",
    "    vols.append(vol)\n",
    "    window_centers.append(center_time)\n",
    "\n",
    "# === Step 3: Define thresholds ===\n",
    "vol_thresh = np.median(vols)\n",
    "slope_thresh = np.percentile(np.abs(slopes), 10)\n",
    "\n",
    "# === Step 4: Assign regimes ===\n",
    "for slope, vol in zip(slopes, vols):\n",
    "    if abs(slope) < slope_thresh:\n",
    "        regimes.append(\"Sideways\")\n",
    "    elif slope > 0 and vol > vol_thresh:\n",
    "        regimes.append(\"HighVol_UpTrend\")\n",
    "    elif slope > 0:\n",
    "        regimes.append(\"LowVol_UpTrend\")\n",
    "    elif slope < 0 and vol > vol_thresh:\n",
    "        regimes.append(\"HighVol_DownTrend\")\n",
    "    else:\n",
    "        regimes.append(\"LowVol_DownTrend\")\n",
    "\n",
    "# === Step 5: Slice fragments and save by regime ===\n",
    "fragments = []\n",
    "for i, center_time in enumerate(window_centers):\n",
    "    label = regimes[i]\n",
    "    start_idx = i * step_size\n",
    "    end_idx = start_idx + fragment_length\n",
    "    df_fragment = df_btc.iloc[start_idx:end_idx].copy()\n",
    "    df_fragment[\"regime_name\"] = label\n",
    "    fragments.append(df_fragment)\n",
    "\n",
    "df_all_fragments = pd.concat(fragments)\n",
    "df_all_fragments.reset_index(inplace=True)\n",
    "\n",
    "# === Step 6: Save regime-specific fragment CSVs ===\n",
    "for label in df_all_fragments[\"regime_name\"].unique():\n",
    "    df_sub = df_all_fragments[df_all_fragments[\"regime_name\"] == label].copy()\n",
    "    df_sub.to_csv(os.path.join(regime_dir, f\"fragment_data_{label}.csv\"), index=False)\n",
    "\n",
    "print(\"\\n[✓] Saved regime fragments:\")\n",
    "print(df_all_fragments[\"regime_name\"].value_counts())\n",
    "\n",
    "# === Step 7: Load and tag fragments ===\n",
    "fragment_dfs = []\n",
    "for file in os.listdir(regime_dir):\n",
    "    if file.endswith(\".csv\"):\n",
    "        df = pd.read_csv(os.path.join(regime_dir, file), parse_dates=[\"timestamp\"])\n",
    "        regime = file.replace(\"fragment_data_\", \"\").replace(\".csv\", \"\")\n",
    "        df[\"regime_name\"] = regime\n",
    "        df[\"fragment_id\"] = np.repeat(np.arange(len(df) // fragment_length), fragment_length)\n",
    "        fragment_dfs.append(df)\n",
    "\n",
    "if not fragment_dfs:\n",
    "    raise ValueError(\"No valid CSV fragments found in regime folder.\")\n",
    "\n",
    "df_all = pd.concat(fragment_dfs)\n",
    "\n",
    "# === Step 8: Compute slope & volatility per fragment ===\n",
    "features = []\n",
    "for (regime, fid), group in df_all.groupby([\"regime_name\", \"fragment_id\"]):\n",
    "    if len(group) < fragment_length:\n",
    "        continue\n",
    "    x = np.arange(len(group))\n",
    "    y = group[\"close\"].values\n",
    "    slope = linregress(x, y).slope\n",
    "    volatility = group[\"close\"].pct_change().std()\n",
    "\n",
    "    features.append({\n",
    "        \"regime_name\": regime,\n",
    "        \"fragment_id\": fid,\n",
    "        \"slope\": slope,\n",
    "        \"slope_abs\": abs(slope),\n",
    "        \"volatility\": volatility\n",
    "    })\n",
    "\n",
    "df_feat = pd.DataFrame(features)\n",
    "\n",
    "# === Step 9: Normalize and Score ===\n",
    "df_feat[\"vol_norm\"] = df_feat.groupby(\"regime_name\")[\"volatility\"].transform(\n",
    "    lambda x: (x - x.min()) / (x.max() - x.min()) if x.max() != x.min() else 0\n",
    ")\n",
    "df_feat[\"slope_norm\"] = df_feat.groupby(\"regime_name\")[\"slope_abs\"].transform(\n",
    "    lambda x: (x - x.min()) / (x.max() - x.min()) if x.max() != x.min() else 0\n",
    ")\n",
    "\n",
    "def score(row):\n",
    "    if row[\"regime_name\"] == \"Sideways\":\n",
    "        return (1 - row[\"slope_norm\"]) * (1 - row[\"vol_norm\"])\n",
    "    elif \"UpTrend\" in row[\"regime_name\"]:\n",
    "        return row[\"slope_norm\"] * (1 - row[\"vol_norm\"]) if \"LowVol\" in row[\"regime_name\"] else row[\"slope_norm\"] * row[\"vol_norm\"]\n",
    "    elif \"DownTrend\" in row[\"regime_name\"]:\n",
    "        return row[\"slope_norm\"] * (1 - row[\"vol_norm\"]) if \"LowVol\" in row[\"regime_name\"] else row[\"slope_norm\"] * row[\"vol_norm\"]\n",
    "    else:\n",
    "        return 0.0\n",
    "\n",
    "df_feat[\"score\"] = df_feat.apply(score, axis=1)\n",
    "\n",
    "# === Step 10: Select and save best-scoring fragment per regime ===\n",
    "best_fragments = df_feat.sort_values(\"score\", ascending=False).groupby(\"regime_name\").first().reset_index()\n",
    "\n",
    "selected_dfs = []\n",
    "for _, row in best_fragments.iterrows():\n",
    "    regime = row[\"regime_name\"]\n",
    "    fid = row[\"fragment_id\"]\n",
    "    path = os.path.join(regime_dir, f\"fragment_data_{regime}.csv\")\n",
    "    df = pd.read_csv(path, parse_dates=[\"timestamp\"])\n",
    "    df[\"fragment_id\"] = np.repeat(np.arange(len(df) // fragment_length), fragment_length)\n",
    "    df_best = df[df[\"fragment_id\"] == fid].copy()\n",
    "    selected_dfs.append(df_best)\n",
    "\n",
    "df_final = pd.concat(selected_dfs).sort_values(\"timestamp\")\n",
    "output_path = os.path.join(output_dir, \"best_fragments_combined.csv\")\n",
    "df_final.to_csv(output_path, index=False)\n",
    "\n",
    "print(\"Saved best 12-hour fragment per regime → {output_path}\")\n",
    "print(\" Regimes selected:\", df_final[\"regime_name\"].unique())"
   ],
   "id": "57f7e08bafd37de0",
   "outputs": [
    {
     "name": "stdout",
     "output_type": "stream",
     "text": [
      "\n",
      "[✓] Saved regime fragments:\n",
      "regime_name\n",
      "HighVol_UpTrend      817200\n",
      "HighVol_DownTrend    793440\n",
      "LowVol_UpTrend       777600\n",
      "LowVol_DownTrend     678960\n",
      "Sideways             341280\n",
      "Name: count, dtype: int64\n",
      "Saved best 12-hour fragment per regime → {output_path}\n",
      " Regimes selected: ['HighVol_DownTrend' 'HighVol_UpTrend' 'Sideways' 'LowVol_DownTrend'\n",
      " 'LowVol_UpTrend']\n"
     ]
    }
   ],
   "execution_count": 12
  },
  {
   "metadata": {
    "ExecuteTime": {
     "end_time": "2025-07-04T09:15:41.479534Z",
     "start_time": "2025-07-04T09:15:39.317553Z"
    }
   },
   "cell_type": "code",
   "source": [
    "import pandas as pd\n",
    "import plotly.graph_objects as go\n",
    "import os\n",
    "\n",
    "# === Load best regime fragments ===\n",
    "df = pd.read_csv(csv_path, parse_dates=[\"timestamp\"])\n",
    "df.set_index(\"timestamp\", inplace=True)\n",
    "\n",
    "# === Sort and group ===\n",
    "df = df.sort_index()\n",
    "regimes = df[\"regime_name\"].unique()\n",
    "top_regimes = list(regimes[:5])  # Limit to 5 plots\n",
    "\n",
    "for regime in top_regimes:\n",
    "    df_plot = df[df[\"regime_name\"] == regime].copy()\n",
    "\n",
    "    # Clamp outlier highs/lows\n",
    "    q1 = df_plot[\"close\"].quantile(0.25)\n",
    "    q3 = df_plot[\"close\"].quantile(0.75)\n",
    "    iqr = q3 - q1\n",
    "    lower = q1 - 3 * iqr\n",
    "    upper = q3 + 3 * iqr\n",
    "    df_plot[\"high\"] = df_plot[\"high\"].clip(upper=upper)\n",
    "    df_plot[\"low\"] = df_plot[\"low\"].clip(lower=lower)\n",
    "\n",
    "    # === Plot ===\n",
    "    fig = go.Figure()\n",
    "\n",
    "    fig.add_trace(go.Candlestick(\n",
    "        x=df_plot.index,\n",
    "        open=df_plot[\"open\"],\n",
    "        high=df_plot[\"high\"],\n",
    "        low=df_plot[\"low\"],\n",
    "        close=df_plot[\"close\"],\n",
    "        name=\"Price\",\n",
    "        increasing_line_color='lime',\n",
    "        decreasing_line_color='red'\n",
    "    ))\n",
    "\n",
    "    fig.update_layout(\n",
    "        title=f\"Best 12-Hour Fragment – {regime}\",\n",
    "        xaxis_title=\"Time\",\n",
    "        yaxis_title=\"Price\",\n",
    "        height=600,\n",
    "        xaxis_rangeslider_visible=False,\n",
    "        template=\"plotly_white\",\n",
    "        hovermode=\"x unified\"\n",
    "    )\n",
    "\n",
    "    fig.update_xaxes(range=[df_plot.index.min(), df_plot.index.max()])\n",
    "    fig.show()\n"
   ],
   "id": "f96559d87ded6407",
   "outputs": [
    {
     "data": {
      "application/vnd.plotly.v1+json": {
       "data": [
        {
         "close": {
          "dtype": "f8",
          "bdata": "4XoUroft7EAAAAAAwODsQB+F61HA4+xA4XoUrr/X7ECamZmZWc3sQOxRuB4FyOxAFK5H4XLK7EAAAAAAQMXsQJqZmZmpyexAAAAAAEDG7EAzMzMzE8XsQB+F61HAvuxAexSuRznA7EBmZmZmhsvsQB+F61EA1exAAAAAAEDP7EAAAAAAgMzsQAAAAACA2exAH4XrUcDW7ECuR+F6bNTsQB+F61EA2+xAAAAAAEDU7EAAAAAAgNHsQAAAAABA0exAFK5H4fLZ7EAAAAAAwNfsQAAAAAAA5uxAAAAAAMDi7EAfhetRwN7sQD0K16MA3uxAH4XrUUDa7EAAAAAAgNHsQOF6FK4/0uxAAAAAAIDS7ED2KFyP4tLsQClcj8IVyuxAZmZmZhbR7EAUrkfhAs/sQOF6FK7/yexAAAAAAMDJ7EAfhetRwMTsQLgehevhy+xACtejcK3F7EAUrkfh8sfsQB+F61FA0uxAMzMzM0vI7EAAAAAAAMHsQHE9CtdjxOxAMzMzMxPD7EAK16NwxabsQB+F61HAo+xAAAAAAACo7ECF61G4HrPsQAAAAAAAp+xAexSuR0mp7EB7FK5HwaDsQOF6FK5/lOxAH4XrUUCb7EAfhetRQJfsQB+F61FAluxA16NwPdqZ7EAAAAAAwKXsQFK4HoVzkOxAcT0K13uY7EAfhetRsKHsQBSuR+HaoOxAhetRuE6S7EDNzMzMRJjsQArXo3BVoexAw/UoXK+h7EDsUbgeBaPsQB+F61GQpuxA9ihcjwqo7ECF61G4hqvsQFK4HoUrrOxAAAAAAEC57EAUrkfhEqrsQLgehetRo+xAUrgehQup7EBSuB6F86jsQFyPwvWIm+xApHA9Cn+Q7EAfhetRAJLsQAAAAABAiuxAZmZmZhaC7EB7FK5HgYDsQOF6FK6/juxAw/UoXH+L7EAAAAAAAJnsQAAAAADAmexAAAAAAACc7EAAAAAAQITsQB+F61GAjexAAAAAAICd7EDXo3A9iprsQAAAAACAoOxAAAAAAACr7EDhehSu/7XsQKRwPQqHyOxAAAAAAIDd7EAAAAAAANHsQB+F61EA0OxA4XoUrv/P7EAAAAAAQMjsQB+F61HAv+xAAAAAAIC27EAAAAAAAK7sQAAAAADAsOxAzczMzByy7EAAAAAAQLDsQI/C9Sh0r+xAAAAAAECn7EAAAAAAwKrsQD0K16PAquxAH4XrUQC17EDhehSuv7nsQOF6FK5vtuxAAAAAAMC77EBxPQrXw83sQMP1KFwfw+xAj8L1KES97EAfhetRwMnsQMP1KFw/wuxACtejcMXL7EAAAAAAwNPsQB+F61GA0exAAAAAAIDW7EAfhetRwMvsQAAAAABAyuxAH4XrUcDJ7EAAAAAAoMbsQOF6FK4/y+xAcT0K13vM7EAUrkfh2sfsQM3MzMx8vuxAAAAAAIC07EAAAAAAwLPsQAAAAABAtuxAAAAAAMCt7EAzMzMza6rsQD0K16OQpuxA16NwPfqt7EBxPQrX86XsQAAAAABAp+xAAAAAAACr7EBmZmZmrqfsQAAAAADAo+xA9ihcj3qr7EAAAAAAAKfsQAAAAABAqOxAexSuR3mi7EDD9ShcP6nsQAAAAABAqexAAAAAAMCl7EDhehSu/6HsQOF6FK4/p+xAH4XrUQCh7EDhehSuP5fsQGZmZmYelOxAAAAAAICT7EAfhetRQJTsQMP1KFy/kOxAUrgehfuK7EAfhetRwI3sQMP1KFy/huxAAAAAAICG7EAAAAAAwIbsQBSuR+FSfuxA4XoUrj+N7EBxPQrXI5fsQAAAAAAAl+xAAAAAAACX7EAfhetRgI3sQLgeheupmexAPQrXo0Ca7EAAAAAAQJbsQAAAAABAmOxAPQrXowic7EAAAAAAwJrsQMP1KFwXmOxAAAAAAMCP7EAAAAAAQI/sQOF6FK6/hexAAAAAAACO7EAAAAAAAI/sQAAAAABAiexAH4XrUUCE7EA9CtejYIHsQAAAAACAhuxAZmZmZraI7EDNzMzMzITsQMP1KFwPhexAKVyPwvWE7EAAAAAAQIHsQAAAAACAeuxAFK5H4Zp07ED2KFyPom/sQIXrUbjObuxA4XoUro9s7EDhehSuP1zsQAAAAACAXuxAFK5H4bpd7ECuR+F6/FrsQB+F61FAW+xA4XoUrr9T7EBxPQrXY2HsQB+F61HAYuxAAAAAACBm7EAfhetRAGzsQB+F61EAY+xAKVyPwi1s7EAfhetRwGjsQB+F61FAd+xAAAAAAAB37EAfhetRwGbsQAAAAABAVuxAAAAAAEBM7EAAAAAAADbsQAAAAACAP+xAH4XrUQAy7EAAAAAAYCfsQB+F61FgGuxA4XoUrv8P7EAAAAAAQD3sQB+F61EAVuxA4XoUrr9l7EAfhetRgDfsQB+F61FASuxA4XoUrj887EAAAAAAwETsQLgehesZJuxAPQrXozAd7EAK16NwrQfsQB+F61GABOxAFK5H4br760AfhetRQBDsQAAAAADABexAAAAAAEAI7EDhehSu/wLsQB+F61HADexAFK5H4ar+60AAAAAAAAvsQDMzMzNjAOxAH4XrUYDz60CF61G4zunrQD0K16NAzOtAhetRuE6s60AAAAAAQLrrQLgehetpxOtA4XoUrj+360D2KFyPcr7rQKRwPQqftetAAAAAAECy60DhehSu/+DrQIXrUbj+0utAKVyPwgW+60AfhetRALjrQBSuR+G6yutAH4XrUcC860AfhetRAKzrQBSuR+EqvutA9ihcj3qx60A9CtejoJbrQLgeheuxdOtAH4XrUcBn60BxPQrXAz3rQAAAAAAAZOtAPQrXo8Bt60A9CtejsGrrQOF6FK7/V+tA4XoUrr9e60CkcD0KD0frQMP1KFz/RetAH4XrUWgu60DhehSubwLrQOF6FK7/7OpAw/UoXM+o6kAK16Nw5b/qQM3MzMxM9elAcT0K10se6kAUrkfhyuzpQPYoXI8C7ulAAAAAAABV6kApXI/CHYvqQAAAAADAgupAH4XrUQiP6kDhehSuv77qQAAAAADAj+pAAAAAAEC/6kA9CtejWNLqQAAAAADAnOpAH4XrUQCk6kAUrkfhalPqQArXo3ClUOpAAAAAAEBd6kBI4XoUFoTqQAAAAADAi+pAj8L1KHx96kAAAAAAgFHqQMP1KFx/XOpAhetRuH6A6kAAAAAAwL/qQD0K16NAnupA4XoUrt+v6kAfhetRwM/qQAAAAAAAxOpA4XoUrv+56kAAAAAA2L3qQFK4HoVDwupAAAAAAEC56kAAAAAAQMvqQOF6FK6/uOpAexSuR7nx6kDD9ShcB7DqQIXrUbjmv+pA4XoUrj+s6kCkcD0Kl7PqQNejcD2yvepAMzMzM/O36kCF61G4pqXqQK5H4XoMyupAZmZmZsav6kAAAAAAwLbqQMP1KFy/wepAH4XrUUCz6kBI4XoUbqbqQOF6FK5/tepAzczMzBSU6kAfhetRwJnqQAAAAACAmOpAMzMzMxN/6kAAAAAAQGbqQFK4HoWDRepAMzMzM2te6kAfhetRQFnqQIXrUbgOW+pAPQrXo/CD6kCF61G4hoTqQI/C9Sgsa+pA4XoUrj9p6kBxPQrXg07qQOF6FK7/NepAw/UoXG9Q6kAAAAAAgGLqQAAAAAAAQOpAAAAAAAAz6kAfhetRgEDqQOF6FK5/N+pAuB6F6wFR6kDNzMzMZGjqQAAAAACAdOpAH4XrUcB66kBcj8L1wIfqQD0K16NAcupAPQrXowBu6kAfhetRAHnqQFK4HoXreupAAAAAAIBt6kBI4XoUDn/qQK5H4Xr0hOpAPQrXo0CQ6kCPwvUoXJfqQMP1KFx/iOpApHA9Cj+K6kAAAAAAwIjqQBSuR+GSbepAzczMzMRr6kDhehSur2XqQOxRuB6NZepApHA9CmdS6kDhehSu/1PqQMP1KFw/R+pAH4XrUUBX6kAAAAAAAFbqQIXrUbh+WupAAAAAAMBu6kDhehSuH5DqQOxRuB6NlOpAAAAAAICd6kAAAAAAwJLqQAAAAADAk+pAH4XrUYCY6kAAAAAAwJLqQOxRuB4Nl+pA4XoUrn+u6kAAAAAAQKfqQJqZmZnhrupAw/UoXD+16kAfhetRwKXqQOF6FK5/rOpACtejcJ2k6kDNzMzM7J3qQB+F61HAmOpAAAAAAMCG6kAAAAAAgH7qQK5H4XrseepAzczMzPxw6kAAAAAAgGzqQBSuR+GKbepA16NwPUJ36kAAAAAAwGjqQB+F61EAcOpApHA9Cu926kDD9Shc13nqQAAAAABAcupAAAAAAMBt6kAAAAAAgHbqQNejcD1CgupA4XoUrv+A6kBmZmZmNnrqQMP1KFx/hOpA4XoUrv+a6kDD9Shcb5LqQAAAAAAAkepAAAAAAMCO6kAAAAAAgIPqQHsUrkeJdepAcT0K1/Nv6kApXI/CVWvqQAAAAADAe+pAhetRuM5q6kDhehSu/3PqQAAAAAAAb+pAuB6F64Fy6kDhehSu/3LqQAAAAABAdOpAexSuR4mB6kCamZmZGX/qQHE9CteDeupAAAAAAMCF6kAAAAAAQIfqQFyPwvUIhOpASOF6FE6N6kD2KFyPypPqQM3MzMzsnepA9ihcj2qR6kAAAAAAwI7qQHE9CtcrgupAj8L1KMRx6kAAAAAAyHHqQOF6FK5/cOpAFK5H4Ypv6kApXI/CfWjqQEjhehTOZ+pA4XoUrr9w6kAAAAAAQG3qQOF6FK4/YepAcT0K11tQ6kAAAAAAwEjqQK5H4Xq0SOpAAAAAAIBX6kAAAAAAwD/qQAAAAABoSepAhetRuL5k6kBcj8L1UGDqQB+F61HAXupAAAAAAIBw6kAzMzMzC3nqQClcj8K1eepApHA9Cn986kAfhetRQIvqQJqZmZn5k+pAKVyPwtWV6kDsUbgeXZvqQOF6FK6/kOpAAAAAAICk6kDhehSuP5PqQJqZmZlpmepAKVyPwjWS6kDhehSuv4/qQB+F61EAjupAexSuR/mM6kAAAAAAQHrqQMP1KFw/f+pAAAAAAEB96kCPwvUoPHzqQKRwPQr/depAH4XrUQBu6kDhehSu/3TqQAAAAADAbupAPQrXowBv6kDsUbgeJXXqQOF6FK5/bOpAH4XrUSBe6kB7FK5HyV7qQGZmZmaOUupAH4XrUQBS6kAAAAAAgFfqQAAAAABAY+pAmpmZmVlY6kBmZmZmRlzqQAAAAAAAXepAPQrXo8Ba6kDD9Shcf1DqQAAAAAAAX+pAAAAAAEBR6kAfhetRAFDqQBSuR+H6S+pAexSuR2FJ6kAfhetRADzqQB+F61GQPupAAAAAAAAr6kDhehSuPyDqQAAAAABAIepAPQrXo4Av6kA9CtejADfqQB+F61FALepAH4XrUQAj6kAAAAAAwCLqQB+F61EACupAH4XrUYD96UAAAAAA4O3pQI/C9Sg83OlA4XoUrr/96UDhehSuJ+PpQM3MzMzE1+lAj8L1KATB6UAfhetRQMjpQAAAAAAApulAPQrXo1Cz6UAAAAAAwJDpQD0K16MAw+lAAAAAAIDV6UD2KFyP4sjpQB+F61GAxOlAH4XrUUCp6UAfhetRALjpQB+F61EArulA7FG4HsW/6UAAAAAAQNbpQAAAAACA4ulAH4XrUVgK6kApXI/CdQDqQFK4HoW7B+pAAAAAAEAg6kDhehSufynqQPYoXI8yNOpAexSuR6EX6kAAAAAAACjqQNejcD3KM+pAAAAAAAA86kAAAAAAgEjqQAAAAAAAQ+pAAAAAAAAu6kAK16NwxSjqQAAAAACAGupAAAAAAIAd6kAK16Nw3RHqQPYoXI/KAupAzczMzNT96UDhehSu/+TpQAAAAABA3OlAFK5H4Qrz6UBmZmZmfv7pQGZmZmYG+elAexSuR+nm6UAAAAAAwODpQAAAAACA4elAAAAAAEDb6UAAAAAAwMnpQB+F61EAyOlAAAAAAADg6UDsUbgeNdbpQB+F61FA2+lAH4XrUUDS6UDhehSuP7vpQOF6FK7nvulAAAAAAMC96UApXI/CncvpQArXo3B9welAAAAAAMCz6UBmZmZmhrDpQK5H4Xosn+lA4XoUrn+U6UAAAAAAAGzpQClcj8LVcelA4XoUrlc+6UDXo3A9um3pQFK4HoWTb+lAXI/C9QBd6UDD9ShcR2XpQOxRuB7NVOlAj8L1KMQy6UA9CtejwBPpQNejcD2yLOlAAAAAAMAe6UBcj8L1wOfoQAAAAADA2ehAAAAAAIDl6EAAAAAAgLroQKRwPQpnkOhAAAAAAACK6EDhehSuTxfoQMP1KFwnRehAUrgehSt66EAAAAAAQKLoQMP1KFxHjOhAPQrXo4Br6EAAAAAAgKToQGZmZmaWyuhAH4XrUQDY6EAAAAAAQNjoQB+F61FA4ehArkfhekTS6EAfhetRgMvoQBSuR+GivuhA9ihcj6LL6EAAAAAAgLPoQB+F61EAhuhAH4XrUUCA6EDhehSuP4XoQAAAAAAAhehA4XoUrr+c6EAAAAAAgL3oQOF6FK4/1OhAuB6F68kH6UAfhetRwCHpQD0K16NAGelAFK5H4bIo6UDhehSu/xjpQB+F61HADOlAZmZmZpbp6EBI4XoUTgHpQB+F61HA+OhAAAAAAEAa6UDsUbgeJRPpQD0K16NAI+lAAAAAAIAw6UDhehSuVyHpQB+F61FAMOlAAAAAAAAz6UBSuB6FC0jpQAAAAABATOlA4XoUrn9A6UAAAAAAgC3pQB+F61EASulAj8L1KHRP6UAAAAAAwE7pQJqZmZnZUOlA4XoUrv9D6UCamZmZ0TrpQD0K16MANulA9ihcj9I36UBSuB6FwzvpQK5H4XpUUelA4XoUrn9o6UA9CtejsHzpQAAAAADAe+lAZmZmZgai6UAfhetRwJbpQBSuR+Fyk+lA4XoUrv+R6UAAAAAAQJvpQOF6FK7/melA4XoUrv+x6UDsUbgerbjpQM3MzMzUuulA4XoUrr/C6UBxPQrXw8/pQK5H4XrMqOlA9ihcjzKX6UAAAAAAwJjpQFK4HoX7kelAAAAAAICv6UDNzMzMNMHpQB+F61EAx+lAH4XrUYC86UDNzMzMHLTpQOF6FK7/xulAXI/C9RDd6UAUrkfhKt7pQAAAAADAzOlAFK5H4YrA6UDhehSuv8XpQFyPwvWA0ulAH4XrUYDc6UAfhetRMOPpQGZmZmb20ulAXI/C9Xi86UBSuB6Fu8HpQB+F61FAtelAAAAAAICp6UAAAAAAAK3pQAAAAACAyelAH4XrUQC/6UDhehSun8LpQPYoXI/avelASOF6FEa46UDhehSu/7jpQNejcD16xulAFK5H4SLM6UAfhetRgNTpQMP1KFy/zulAAAAAAEDF6UA9CtejyMPpQAAAAADAqulA4XoUrv+p6UAfhetRkKTpQNejcD36pelAFK5H4RKS6UDD9Shcv6fpQHE9CtejnulAzczMzPy36UBI4XoURsDpQAAAAACAxulAXI/C9UDY6UAAAAAAQPXpQKRwPQqP4+lA4XoUrv/X6UDhehSu/9rpQB+F61HQ1OlA16NwPeLc6UAfhetRAOPpQAAAAAAA1OlAH4XrUQDc6UCamZmZCdrpQClcj8IV1OlAAAAAAIC76UAfhetRgMXpQAAAAADAyulA"
         },
         "decreasing": {
          "line": {
           "color": "red"
          }
         },
         "high": {
          "dtype": "f8",
          "bdata": "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"
         },
         "increasing": {
          "line": {
           "color": "lime"
          }
         },
         "low": {
          "dtype": "f8",
          "bdata": "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"
         },
         "name": "Price",
         "open": {
          "dtype": "f8",
          "bdata": "MzMzMwPu7EDhehSuh+3sQAAAAADA4OxAH4XrUcDj7EAAAAAAwNfsQLgehetZzexA7FG4HgXI7EAUrkfhcsrsQAAAAABAxexAmpmZmanJ7EB7FK5HQcbsQDMzMzMTxexAPQrXo8C+7EB7FK5HOcDsQIXrUbiGy+xAAAAAAADV7EAfhetRQM/sQAAAAACAzOxAH4XrUYDZ7EAAAAAAwNbsQK5H4Xps1OxAAAAAAADb7EDhehSuP9TsQAAAAACA0exAH4XrUUDR7EAUrkfh8tnsQAAAAADA1+xAH4XrUQDm7EAfhetRwOLsQB+F61HA3uxAPQrXowDe7EAfhetRQNrsQAAAAACA0exA4XoUrj/S7EDhehSuf9LsQPYoXI/i0uxAKVyPwhXK7EBI4XoUFtHsQDMzMzMDz+xAAAAAAADK7EAAAAAAwMnsQD0K16PAxOxAuB6F6+HL7EAK16NwrcXsQBSuR+Hyx+xAAAAAAEDS7EAzMzMzS8jsQAAAAAAAwexAcT0K12PE7EBSuB6FE8PsQJqZmZnJpuxAH4XrUcCj7EAAAAAAAKjsQKRwPQofs+xAAAAAAACn7EB7FK5HSansQJqZmZnBoOxA4XoUrn+U7EAAAAAAQJvsQB+F61FAl+xAAAAAAECW7EDXo3A92pnsQB+F61HApexA4XoUrn+Q7EBSuB6Fe5jsQB+F61GwoexA9ihcj9qg7ECkcD0KT5LsQM3MzMxEmOxACtejcFWh7EDhehSur6HsQM3MzMwEo+xAPQrXo5Cm7ED2KFyPCqjsQIXrUbiGq+xAMzMzMyus7EAfhetRQLnsQBSuR+ESquxAuB6F61Gj7EAzMzMzC6nsQFK4HoXzqOxAexSuR4mb7ECkcD0Kf5DsQB+F61EAkuxAAAAAAECK7EBI4XoUFoLsQJqZmZmBgOxAAAAAAMCO7EDD9Shcf4vsQOF6FK7/mOxAAAAAAMCZ7EAAAAAAAJzsQB+F61FAhOxAH4XrUYCN7EAAAAAAgJ3sQNejcD2KmuxAAAAAAICg7EAAAAAAAKvsQOF6FK7/texAhetRuIbI7EAAAAAAgN3sQAAAAAAA0exAH4XrUQDQ7EAfhetRANDsQOF6FK4/yOxAH4XrUcC/7EAAAAAAgLbsQB+F61EAruxA4XoUrr+w7EDNzMzMHLLsQAAAAABAsOxArkfhenSv7EDhehSuP6fsQB+F61HAquxAXI/C9cCq7EAfhetRALXsQOF6FK6/uexAAAAAAHC27EAAAAAAwLvsQI/C9SjEzexAw/UoXB/D7ECuR+F6RL3sQB+F61HAyexAw/UoXD/C7EAK16NwxcvsQAAAAADA0+xAH4XrUYDR7EAAAAAAgNbsQAAAAADAy+xAAAAAAEDK7EAfhetRwMnsQOF6FK6fxuxA4XoUrj/L7EB7FK5HSczsQBSuR+Hax+xArkfheny+7EAfhetRgLTsQB+F61HAs+xA4XoUrj+27EAAAAAAwK3sQFK4HoVrquxAXI/C9ZCm7EDXo3A9+q3sQI/C9Sj0pexAH4XrUUCn7EAAAAAAAKvsQIXrUbiup+xAH4XrUcCj7ED2KFyPeqvsQOF6FK7/puxAAAAAAECo7ECamZmZeaLsQOF6FK4/qexAAAAAAECp7EDhehSuv6XsQOF6FK7/oexAAAAAAECn7EAAAAAAAKHsQAAAAABAl+xAZmZmZh6U7EAAAAAAgJPsQB+F61FAlOxA4XoUrr+Q7EBSuB6F+4rsQB+F61HAjexAw/UoXL+G7EAAAAAAgIbsQOF6FK6/huxAFK5H4VJ+7EAAAAAAQI3sQB+F61EAl+xAH4XrUQCX7EDhehSu/5bsQB+F61GAjexA16NwPaqZ7EA9CtejQJrsQB+F61EAluxAAAAAAECY7EA9CtejCJzsQOF6FK6/muxApHA9CheY7EAAAAAAwI/sQAAAAABAj+xA4XoUrr+F7EDhehSu/43sQAAAAAAAj+xAH4XrUUCJ7EAAAAAAQITsQFyPwvVggexAAAAAAICG7EBmZmZmtojsQM3MzMzMhOxApHA9Cg+F7EBI4XoU9oTsQAAAAABAgexAAAAAAIB67EAUrkfhmnTsQPYoXI+ib+xAhetRuM5u7EDhehSuj2zsQAAAAABAXOxAAAAAAIBe7ED2KFyPul3sQI/C9Sj8WuxAH4XrUUBb7EAAAAAAwFPsQHE9CtdjYexAH4XrUcBi7EAAAAAAIGbsQAAAAAAAbOxAH4XrUQBj7EBI4XoULmzsQB+F61HAaOxAH4XrUUB37EDhehSu/3bsQB+F61HAZuxAAAAAAEBW7EDhehSuP0zsQB+F61EANuxAH4XrUYA/7EAfhetRADLsQB+F61FgJ+xAH4XrUWAa7EDhehSu/w/sQMP1KFwvPexAH4XrUQBW7EDhehSuv2XsQAAAAACAN+xAH4XrUUBK7EAAAAAAQDzsQB+F61HAROxAuB6F6xkm7EBcj8L1MB3sQClcj8KtB+xAH4XrUYAE7EAUrkfhuvvrQD0K16NAEOxAH4XrUcAF7EDhehSuPwjsQOF6FK7/AuxAH4XrUcAN7EAUrkfhqv7rQB+F61EAC+xAUrgehWMA7EAfhetRgPPrQKRwPQrP6etAPQrXo0DM60DXo3A9qqzrQAAAAABAuutA16NwPWrE60DhehSuP7frQNejcD1yvutApHA9Cp+160AfhetRQLLrQOF6FK7/4OtAhetRuP7S60Bcj8L1UL7rQAAAAAAAuOtAMzMzM7vK60AfhetRwLzrQAAAAAAArOtA4XoUrj++60AUrkfherHrQNejcD3ClutAAAAAAGB060AfhetRwGfrQEjhehQGPetAH4XrUQBk60AfhetRwG3rQD0K16OwautA4XoUrv9X60D2KFyPul7rQKRwPQoPR+tAw/UoXP9F60AzMzMzUy7rQOF6FK5vAutA4XoUrv/s6kDsUbge1arqQK5H4XokwOpAzczMzEz16UDXo3A9+h3qQI/C9SiU7OlAw/UoXP/u6UDhehSu/1TqQJqZmZkRiepA4XoUrr+C6kB7FK5HGY/qQHE9Ctf7v+pAAAAAAMCP6kAfhetRQL/qQD0K16NY0upA4XoUrv+c6kAAAAAAAKTqQBSuR+FqU+pAuB6F62FR6kAAAAAAgF3qQEjhehQWhOpA4XoUrr+L6kC4HoXr2X3qQOF6FK5/UepAw/UoXH9c6kAfhetRQIDqQOF6FK6/v+pAPQrXo0Ce6kAAAAAA4K/qQB+F61HAz+pAAAAAAADE6kDhehSu/7nqQB+F61HYvepAUrgehUPC6kAAAAAAQLnqQOF6FK5/y+pA4XoUrr+46kCamZmZufHqQMP1KFwHsOpAhetRuOa/6kDhehSuP6zqQKRwPQqXs+pAuB6F67G96kAzMzMz87fqQGZmZmampepArkfhegzK6kCF61G4xq/qQAAAAADAtupAw/UoXL/B6kA9CtejQLPqQGZmZmZupupAAAAAAIC16kDNzMzMFJTqQAAAAADAmepAAAAAAICY6kBSuB6FE3/qQOF6FK4/ZupAMzMzM4NF6kAzMzMza17qQD0K16NAWepApHA9Cg9b6kA9Ctej8IPqQIXrUbiGhOpAw/UoXEdr6kAAAAAAgGnqQHE9CteDTupAAAAAAAA26kCkcD0Kb1DqQAAAAACAYupAAAAAAABA6kAfhetRADPqQAAAAACAQOpAAAAAAIA36kCamZmZAVHqQK5H4XpkaOpA4XoUrn906kAfhetRwHrqQD0K16PAh+pAPQrXo0By6kA9CtejAG7qQAAAAAAAeepAUrgehet66kAAAAAAgG3qQClcj8INf+pArkfhevSE6kA9CtejQJDqQB+F61FAl+pA4XoUrn+I6kBSuB6FA4rqQAAAAADAiOpAFK5H4ZJt6kDNzMzMxGvqQAAAAACwZepA7FG4Ho1l6kCF61G4ZlLqQOF6FK7/U+pAuB6F6+lG6kD2KFyPIlfqQOF6FK7/VepAZmZmZn5a6kDhehSuv27qQOF6FK4fkOpA7FG4Ho2U6kAAAAAAgJ3qQAAAAADAkupAH4XrUcCT6kAfhetRgJjqQB+F61GYkupAzczMzAyX6kAUrkfhgq7qQAAAAABAp+pAmpmZmeGu6kDD9ShcP7XqQB+F61HApepA4XoUrn+s6kApXI/CnaTqQM3MzMzsnepAH4XrUcCY6kAAAAAAwIbqQOF6FK5/fupArkfheux56kDNzMzM/HDqQB+F61GAbOpA9ihcj4pt6kD2KFyPQnfqQB+F61HAaOpAH4XrUQBw6kCkcD0K73bqQMP1KFzXeepAH4XrUUBy6kDhehSuv23qQAAAAACAdupAuB6F60GC6kDD9Shc/4DqQEjhehQ2eupAw/UoXH+E6kDhehSu/5rqQMP1KFxvkupAAAAAAACR6kAAAAAAwI7qQB+F61GAg+pAXI/C9Yh16kBxPQrX82/qQArXo3BVa+pASOF6FPZ76kBmZmZmzmrqQAAAAAAAdOpAAAAAAABv6kDNzMzM9HLqQAAAAAAAc+pAAAAAAEB06kCamZmZiYHqQHsUrkcZf+pAcT0K14N66kDhehSuv4XqQOF6FK4/h+pAXI/C9QiE6kBI4XoUTo3qQPYoXI/Kk+pAzczMzOyd6kAUrkfhapHqQB+F61HAjupAUrgehSuC6kCPwvUoxHHqQAAAAADIcepA4XoUrn9w6kAzMzMzi2/qQArXo3B9aOpAZmZmZs5n6kAAAAAAwHDqQB+F61FAbepA4XoUrj9h6kBxPQrXW1DqQAAAAADASOpArkfherRI6kAfhetRgFfqQAAAAADAP+pA4XoUrmdJ6kBmZmZmvmTqQD0K16NQYOpAH4XrUcBe6kAAAAAAgHDqQBSuR+EKeepACtejcLV56kCkcD0Kf3zqQAAAAABAi+pAmpmZmfmT6kAK16Nw1ZXqQOxRuB5dm+pAAAAAAMCQ6kAUrkfheqTqQFyPwvV4k+pAexSuR2mZ6kAK16NwNZLqQOF6FK6/j+pAPQrXowCO6kB7FK5H+YzqQAAAAABAeupA4XoUrj9/6kDhehSuP33qQHE9Ctc7fOpApHA9Cv916kAfhetRAG7qQOF6FK7/dOpAAAAAAMBu6kA9CtejAG/qQOxRuB4ldepA4XoUrn9s6kAfhetRIF7qQFyPwvXIXupAZmZmZo5S6kAfhetRAFLqQAAAAACAV+pAAAAAAEBj6kCamZmZWVjqQIXrUbhGXOpAw/UoXD9d6kA9CtejwFrqQKRwPQp/UOpAAAAAAABf6kAfhetRQFHqQD0K16MAUOpAFK5H4fpL6kCamZmZYUnqQB+F61EAPOpAAAAAAJA+6kAAAAAAACvqQOF6FK4/IOpA4XoUrj8h6kA9CtejgC/qQB+F61EAN+pAPQrXo0At6kAfhetRwCLqQD0K16OoIupAAAAAAAAK6kAAAAAAgP3pQAAAAADg7elAj8L1KDzc6UDhehSuv/3pQMP1KFwn4+lAzczMzMTX6UCPwvUoBMHpQB+F61FAyOlAAAAAAACm6UB7FK5HebPpQClcj8LFkOlAPQrXowDD6UDhehSuf9XpQNejcD3iyOlAPQrXo4DE6UDD9ShcP6npQAAAAADAt+lAAAAAAACu6UDNzMzMxL/pQB+F61FA1ulAAAAAAIDi6UAfhetRWArqQClcj8J1AOpAMzMzM7sH6kAAAAAAQCDqQMP1KFx/KepA16NwPTI06kCamZmZoRfqQAAAAAAAKOpAuB6F68kz6kAAAAAAADzqQOF6FK5/SOpAH4XrUQBD6kAfhetRAC7qQOxRuB7FKOpA4XoUrn8a6kAAAAAAgB3qQClcj8LdEepAAAAAAMAC6kDhehSu5/3pQOF6FK7/5OlAAAAAAEDc6UAUrkfhCvPpQGZmZmau/ulAZmZmZgb56UBcj8L16ObpQAAAAADA4OlAAAAAAIDh6UAAAAAAQNvpQAAAAADAyelAH4XrUQDI6UDhehSu/9/pQM3MzMw01ulAAAAAAEDb6UAfhetRQNLpQOF6FK4/u+lAw/UoXOe+6UDhehSuv73pQB+F61GAy+lACtejcH3B6UAAAAAAwLPpQGZmZmaGsOlArkfheiyf6UBcj8L1QJTpQAAAAAAAbOlASOF6FNZx6UA9CtejWD7pQAAAAACAbelAUrgehZNv6UA9CtejAF3pQMP1KFxHZelA7FG4Hs1U6UCPwvUoxDLpQD0K16PAE+lA16NwPbIs6UAAAAAAwB7pQNejcD3C5+hA4XoUrr/Z6EAAAAAAwOXoQOF6FK5/uuhACtejcEWU6EAAAAAAAIroQB+F61HoGOhArkfheuxE6EBSuB6FK3roQB+F61FAouhA4XoUrkeM6EA9CtejgGvoQAAAAACApOhAZmZmZpbK6EDD9Shc/9foQAAAAABA2OhAAAAAAEDh6EAfhetRANLoQB+F61GAy+hAFK5H4aK+6EDXo3A9osvoQAAAAACAs+hAAAAAAACG6EAAAAAAQIDoQD0K16MwhehAH4XrUQCF6EDhehSuv5zoQIXrUbiOvehAH4XrUcDU6EC4HoXryQfpQAAAAADAIelAH4XrUUAZ6UAUrkfhsijpQOF6FK7/GOlAAAAAAMAM6UBmZmZmlunoQClcj8JNAelAH4XrUcD46EDhehSuPxrpQM3MzMwkE+lAPQrXo0Aj6UAAAAAAgDDpQAAAAABYIelAH4XrUUAw6UAAAAAAADPpQHE9CtcLSOlAAAAAAEBM6UDD9Shcf0DpQAAAAACALelAH4XrUQBK6UCPwvUodE/pQAAAAADgTulA7FG4HhVR6UDhehSu/0PpQAAAAAAAO+lAH4XrUQA26UD2KFyP0jfpQFK4HoXDO+lAzczMzFRR6UApXI/CTWjpQGZmZma+fOlAAAAAAMB76UBmZmZmBqLpQJqZmZlhlulA9ihcj3KT6UAAAAAAAJLpQAAAAABAm+lAAAAAAACa6UAAAAAAALLpQD0K16OIuOlA7FG4HtW66UAAAAAAwMLpQFK4HoXDz+lAzczMzMyo6UD2KFyPMpfpQAAAAADAmOlAcT0K1/uR6UAAAAAAgK/pQK5H4Xo0welAH4XrUQDH6UAfhetRgLzpQOxRuB4dtOlA4XoUrv/G6UB7FK5HEd3pQJqZmZkp3ulAAAAAAMDM6UAUrkfhisDpQOF6FK6/xelAXI/C9YDS6UAfhetRgNzpQD0K16Mw4+lAhetRuPbS6UBcj8L1eLzpQFK4HoW7welAAAAAAEC16UAAAAAAgKnpQB+F61EArelA4XoUrn/J6UA9CtejAL/pQAAAAACgwulAFK5H4dq96UBmZmZmRrjpQAAAAAAAuelAuB6F63nG6UAUrkfhIszpQI/C9ShM1OlA4XoUrr/O6UAAAAAAQMXpQD0K16PIw+lAAAAAAMCq6UAAAAAAAKrpQD0K16OQpOlA9ihcj/ql6UD2KFyPEpLpQMP1KFy/p+lA4XoUrr+e6UDNzMzM/LfpQEjhehRGwOlAAAAAAIDG6UAfhetRQNjpQAAAAABA9elApHA9Co/j6UAAAAAAANjpQMP1KFz/2ulAH4XrUdDU6UDXo3A94tzpQB+F61EA4+lAAAAAAADU6UAfhetRANzpQJqZmZkJ2ulACtejcBXU6UAAAAAAgLvpQD0K16OAxelA"
         },
         "x": [
          "2024-08-04T20:32:00+00:00",
          "2024-08-04T20:33:00+00:00",
          "2024-08-04T20:34:00+00:00",
          "2024-08-04T20:35:00+00:00",
          "2024-08-04T20:36:00+00:00",
          "2024-08-04T20:37:00+00:00",
          "2024-08-04T20:38:00+00:00",
          "2024-08-04T20:39:00+00:00",
          "2024-08-04T20:40:00+00:00",
          "2024-08-04T20:41:00+00:00",
          "2024-08-04T20:42:00+00:00",
          "2024-08-04T20:43:00+00:00",
          "2024-08-04T20:44:00+00:00",
          "2024-08-04T20:45:00+00:00",
          "2024-08-04T20:46:00+00:00",
          "2024-08-04T20:47:00+00:00",
          "2024-08-04T20:48:00+00:00",
          "2024-08-04T20:49:00+00:00",
          "2024-08-04T20:50:00+00:00",
          "2024-08-04T20:51:00+00:00",
          "2024-08-04T20:52:00+00:00",
          "2024-08-04T20:53:00+00:00",
          "2024-08-04T20:54:00+00:00",
          "2024-08-04T20:55:00+00:00",
          "2024-08-04T20:56:00+00:00",
          "2024-08-04T20:57:00+00:00",
          "2024-08-04T20:58:00+00:00",
          "2024-08-04T20:59:00+00:00",
          "2024-08-04T21:00:00+00:00",
          "2024-08-04T21:01:00+00:00",
          "2024-08-04T21:02:00+00:00",
          "2024-08-04T21:03:00+00:00",
          "2024-08-04T21:04:00+00:00",
          "2024-08-04T21:05:00+00:00",
          "2024-08-04T21:06:00+00:00",
          "2024-08-04T21:07:00+00:00",
          "2024-08-04T21:08:00+00:00",
          "2024-08-04T21:09:00+00:00",
          "2024-08-04T21:10:00+00:00",
          "2024-08-04T21:11:00+00:00",
          "2024-08-04T21:12:00+00:00",
          "2024-08-04T21:13:00+00:00",
          "2024-08-04T21:14:00+00:00",
          "2024-08-04T21:15:00+00:00",
          "2024-08-04T21:16:00+00:00",
          "2024-08-04T21:17:00+00:00",
          "2024-08-04T21:18:00+00:00",
          "2024-08-04T21:19:00+00:00",
          "2024-08-04T21:20:00+00:00",
          "2024-08-04T21:21:00+00:00",
          "2024-08-04T21:22:00+00:00",
          "2024-08-04T21:23:00+00:00",
          "2024-08-04T21:24:00+00:00",
          "2024-08-04T21:25:00+00:00",
          "2024-08-04T21:26:00+00:00",
          "2024-08-04T21:27:00+00:00",
          "2024-08-04T21:28:00+00:00",
          "2024-08-04T21:29:00+00:00",
          "2024-08-04T21:30:00+00:00",
          "2024-08-04T21:31:00+00:00",
          "2024-08-04T21:32:00+00:00",
          "2024-08-04T21:33:00+00:00",
          "2024-08-04T21:34:00+00:00",
          "2024-08-04T21:35:00+00:00",
          "2024-08-04T21:36:00+00:00",
          "2024-08-04T21:37:00+00:00",
          "2024-08-04T21:38:00+00:00",
          "2024-08-04T21:39:00+00:00",
          "2024-08-04T21:40:00+00:00",
          "2024-08-04T21:41:00+00:00",
          "2024-08-04T21:42:00+00:00",
          "2024-08-04T21:43:00+00:00",
          "2024-08-04T21:44:00+00:00",
          "2024-08-04T21:45:00+00:00",
          "2024-08-04T21:46:00+00:00",
          "2024-08-04T21:47:00+00:00",
          "2024-08-04T21:48:00+00:00",
          "2024-08-04T21:49:00+00:00",
          "2024-08-04T21:50:00+00:00",
          "2024-08-04T21:51:00+00:00",
          "2024-08-04T21:52:00+00:00",
          "2024-08-04T21:53:00+00:00",
          "2024-08-04T21:54:00+00:00",
          "2024-08-04T21:55:00+00:00",
          "2024-08-04T21:56:00+00:00",
          "2024-08-04T21:57:00+00:00",
          "2024-08-04T21:58:00+00:00",
          "2024-08-04T21:59:00+00:00",
          "2024-08-04T22:00:00+00:00",
          "2024-08-04T22:01:00+00:00",
          "2024-08-04T22:02:00+00:00",
          "2024-08-04T22:03:00+00:00",
          "2024-08-04T22:04:00+00:00",
          "2024-08-04T22:05:00+00:00",
          "2024-08-04T22:06:00+00:00",
          "2024-08-04T22:07:00+00:00",
          "2024-08-04T22:08:00+00:00",
          "2024-08-04T22:09:00+00:00",
          "2024-08-04T22:10:00+00:00",
          "2024-08-04T22:11:00+00:00",
          "2024-08-04T22:12:00+00:00",
          "2024-08-04T22:13:00+00:00",
          "2024-08-04T22:14:00+00:00",
          "2024-08-04T22:15:00+00:00",
          "2024-08-04T22:16:00+00:00",
          "2024-08-04T22:17:00+00:00",
          "2024-08-04T22:18:00+00:00",
          "2024-08-04T22:19:00+00:00",
          "2024-08-04T22:20:00+00:00",
          "2024-08-04T22:21:00+00:00",
          "2024-08-04T22:22:00+00:00",
          "2024-08-04T22:23:00+00:00",
          "2024-08-04T22:24:00+00:00",
          "2024-08-04T22:25:00+00:00",
          "2024-08-04T22:26:00+00:00",
          "2024-08-04T22:27:00+00:00",
          "2024-08-04T22:28:00+00:00",
          "2024-08-04T22:29:00+00:00",
          "2024-08-04T22:30:00+00:00",
          "2024-08-04T22:31:00+00:00",
          "2024-08-04T22:32:00+00:00",
          "2024-08-04T22:33:00+00:00",
          "2024-08-04T22:34:00+00:00",
          "2024-08-04T22:35:00+00:00",
          "2024-08-04T22:36:00+00:00",
          "2024-08-04T22:37:00+00:00",
          "2024-08-04T22:38:00+00:00",
          "2024-08-04T22:39:00+00:00",
          "2024-08-04T22:40:00+00:00",
          "2024-08-04T22:41:00+00:00",
          "2024-08-04T22:42:00+00:00",
          "2024-08-04T22:43:00+00:00",
          "2024-08-04T22:44:00+00:00",
          "2024-08-04T22:45:00+00:00",
          "2024-08-04T22:46:00+00:00",
          "2024-08-04T22:47:00+00:00",
          "2024-08-04T22:48:00+00:00",
          "2024-08-04T22:49:00+00:00",
          "2024-08-04T22:50:00+00:00",
          "2024-08-04T22:51:00+00:00",
          "2024-08-04T22:52:00+00:00",
          "2024-08-04T22:53:00+00:00",
          "2024-08-04T22:54:00+00:00",
          "2024-08-04T22:55:00+00:00",
          "2024-08-04T22:56:00+00:00",
          "2024-08-04T22:57:00+00:00",
          "2024-08-04T22:58:00+00:00",
          "2024-08-04T22:59:00+00:00",
          "2024-08-04T23:00:00+00:00",
          "2024-08-04T23:01:00+00:00",
          "2024-08-04T23:02:00+00:00",
          "2024-08-04T23:03:00+00:00",
          "2024-08-04T23:04:00+00:00",
          "2024-08-04T23:05:00+00:00",
          "2024-08-04T23:06:00+00:00",
          "2024-08-04T23:07:00+00:00",
          "2024-08-04T23:08:00+00:00",
          "2024-08-04T23:09:00+00:00",
          "2024-08-04T23:10:00+00:00",
          "2024-08-04T23:11:00+00:00",
          "2024-08-04T23:12:00+00:00",
          "2024-08-04T23:13:00+00:00",
          "2024-08-04T23:14:00+00:00",
          "2024-08-04T23:15:00+00:00",
          "2024-08-04T23:16:00+00:00",
          "2024-08-04T23:17:00+00:00",
          "2024-08-04T23:18:00+00:00",
          "2024-08-04T23:19:00+00:00",
          "2024-08-04T23:20:00+00:00",
          "2024-08-04T23:21:00+00:00",
          "2024-08-04T23:22:00+00:00",
          "2024-08-04T23:23:00+00:00",
          "2024-08-04T23:24:00+00:00",
          "2024-08-04T23:25:00+00:00",
          "2024-08-04T23:26:00+00:00",
          "2024-08-04T23:27:00+00:00",
          "2024-08-04T23:28:00+00:00",
          "2024-08-04T23:29:00+00:00",
          "2024-08-04T23:30:00+00:00",
          "2024-08-04T23:31:00+00:00",
          "2024-08-04T23:32:00+00:00",
          "2024-08-04T23:33:00+00:00",
          "2024-08-04T23:34:00+00:00",
          "2024-08-04T23:35:00+00:00",
          "2024-08-04T23:36:00+00:00",
          "2024-08-04T23:37:00+00:00",
          "2024-08-04T23:38:00+00:00",
          "2024-08-04T23:39:00+00:00",
          "2024-08-04T23:40:00+00:00",
          "2024-08-04T23:41:00+00:00",
          "2024-08-04T23:42:00+00:00",
          "2024-08-04T23:43:00+00:00",
          "2024-08-04T23:44:00+00:00",
          "2024-08-04T23:45:00+00:00",
          "2024-08-04T23:46:00+00:00",
          "2024-08-04T23:47:00+00:00",
          "2024-08-04T23:48:00+00:00",
          "2024-08-04T23:49:00+00:00",
          "2024-08-04T23:50:00+00:00",
          "2024-08-04T23:51:00+00:00",
          "2024-08-04T23:52:00+00:00",
          "2024-08-04T23:53:00+00:00",
          "2024-08-04T23:54:00+00:00",
          "2024-08-04T23:55:00+00:00",
          "2024-08-04T23:56:00+00:00",
          "2024-08-04T23:57:00+00:00",
          "2024-08-04T23:58:00+00:00",
          "2024-08-04T23:59:00+00:00",
          "2024-08-05T00:00:00+00:00",
          "2024-08-05T00:01:00+00:00",
          "2024-08-05T00:02:00+00:00",
          "2024-08-05T00:03:00+00:00",
          "2024-08-05T00:04:00+00:00",
          "2024-08-05T00:05:00+00:00",
          "2024-08-05T00:06:00+00:00",
          "2024-08-05T00:07:00+00:00",
          "2024-08-05T00:08:00+00:00",
          "2024-08-05T00:09:00+00:00",
          "2024-08-05T00:10:00+00:00",
          "2024-08-05T00:11:00+00:00",
          "2024-08-05T00:12:00+00:00",
          "2024-08-05T00:13:00+00:00",
          "2024-08-05T00:14:00+00:00",
          "2024-08-05T00:15:00+00:00",
          "2024-08-05T00:16:00+00:00",
          "2024-08-05T00:17:00+00:00",
          "2024-08-05T00:18:00+00:00",
          "2024-08-05T00:19:00+00:00",
          "2024-08-05T00:20:00+00:00",
          "2024-08-05T00:21:00+00:00",
          "2024-08-05T00:22:00+00:00",
          "2024-08-05T00:23:00+00:00",
          "2024-08-05T00:24:00+00:00",
          "2024-08-05T00:25:00+00:00",
          "2024-08-05T00:26:00+00:00",
          "2024-08-05T00:27:00+00:00",
          "2024-08-05T00:28:00+00:00",
          "2024-08-05T00:29:00+00:00",
          "2024-08-05T00:30:00+00:00",
          "2024-08-05T00:31:00+00:00",
          "2024-08-05T00:32:00+00:00",
          "2024-08-05T00:33:00+00:00",
          "2024-08-05T00:34:00+00:00",
          "2024-08-05T00:35:00+00:00",
          "2024-08-05T00:36:00+00:00",
          "2024-08-05T00:37:00+00:00",
          "2024-08-05T00:38:00+00:00",
          "2024-08-05T00:39:00+00:00",
          "2024-08-05T00:40:00+00:00",
          "2024-08-05T00:41:00+00:00",
          "2024-08-05T00:42:00+00:00",
          "2024-08-05T00:43:00+00:00",
          "2024-08-05T00:44:00+00:00",
          "2024-08-05T00:45:00+00:00",
          "2024-08-05T00:46:00+00:00",
          "2024-08-05T00:47:00+00:00",
          "2024-08-05T00:48:00+00:00",
          "2024-08-05T00:49:00+00:00",
          "2024-08-05T00:50:00+00:00",
          "2024-08-05T00:51:00+00:00",
          "2024-08-05T00:52:00+00:00",
          "2024-08-05T00:53:00+00:00",
          "2024-08-05T00:54:00+00:00",
          "2024-08-05T00:55:00+00:00",
          "2024-08-05T00:56:00+00:00",
          "2024-08-05T00:57:00+00:00",
          "2024-08-05T00:58:00+00:00",
          "2024-08-05T00:59:00+00:00",
          "2024-08-05T01:00:00+00:00",
          "2024-08-05T01:01:00+00:00",
          "2024-08-05T01:02:00+00:00",
          "2024-08-05T01:03:00+00:00",
          "2024-08-05T01:04:00+00:00",
          "2024-08-05T01:05:00+00:00",
          "2024-08-05T01:06:00+00:00",
          "2024-08-05T01:07:00+00:00",
          "2024-08-05T01:08:00+00:00",
          "2024-08-05T01:09:00+00:00",
          "2024-08-05T01:10:00+00:00",
          "2024-08-05T01:11:00+00:00",
          "2024-08-05T01:12:00+00:00",
          "2024-08-05T01:13:00+00:00",
          "2024-08-05T01:14:00+00:00",
          "2024-08-05T01:15:00+00:00",
          "2024-08-05T01:16:00+00:00",
          "2024-08-05T01:17:00+00:00",
          "2024-08-05T01:18:00+00:00",
          "2024-08-05T01:19:00+00:00",
          "2024-08-05T01:20:00+00:00",
          "2024-08-05T01:21:00+00:00",
          "2024-08-05T01:22:00+00:00",
          "2024-08-05T01:23:00+00:00",
          "2024-08-05T01:24:00+00:00",
          "2024-08-05T01:25:00+00:00",
          "2024-08-05T01:26:00+00:00",
          "2024-08-05T01:27:00+00:00",
          "2024-08-05T01:28:00+00:00",
          "2024-08-05T01:29:00+00:00",
          "2024-08-05T01:30:00+00:00",
          "2024-08-05T01:31:00+00:00",
          "2024-08-05T01:32:00+00:00",
          "2024-08-05T01:33:00+00:00",
          "2024-08-05T01:34:00+00:00",
          "2024-08-05T01:35:00+00:00",
          "2024-08-05T01:36:00+00:00",
          "2024-08-05T01:37:00+00:00",
          "2024-08-05T01:38:00+00:00",
          "2024-08-05T01:39:00+00:00",
          "2024-08-05T01:40:00+00:00",
          "2024-08-05T01:41:00+00:00",
          "2024-08-05T01:42:00+00:00",
          "2024-08-05T01:43:00+00:00",
          "2024-08-05T01:44:00+00:00",
          "2024-08-05T01:45:00+00:00",
          "2024-08-05T01:46:00+00:00",
          "2024-08-05T01:47:00+00:00",
          "2024-08-05T01:48:00+00:00",
          "2024-08-05T01:49:00+00:00",
          "2024-08-05T01:50:00+00:00",
          "2024-08-05T01:51:00+00:00",
          "2024-08-05T01:52:00+00:00",
          "2024-08-05T01:53:00+00:00",
          "2024-08-05T01:54:00+00:00",
          "2024-08-05T01:55:00+00:00",
          "2024-08-05T01:56:00+00:00",
          "2024-08-05T01:57:00+00:00",
          "2024-08-05T01:58:00+00:00",
          "2024-08-05T01:59:00+00:00",
          "2024-08-05T02:00:00+00:00",
          "2024-08-05T02:01:00+00:00",
          "2024-08-05T02:02:00+00:00",
          "2024-08-05T02:03:00+00:00",
          "2024-08-05T02:04:00+00:00",
          "2024-08-05T02:05:00+00:00",
          "2024-08-05T02:06:00+00:00",
          "2024-08-05T02:07:00+00:00",
          "2024-08-05T02:08:00+00:00",
          "2024-08-05T02:09:00+00:00",
          "2024-08-05T02:10:00+00:00",
          "2024-08-05T02:11:00+00:00",
          "2024-08-05T02:12:00+00:00",
          "2024-08-05T02:13:00+00:00",
          "2024-08-05T02:14:00+00:00",
          "2024-08-05T02:15:00+00:00",
          "2024-08-05T02:16:00+00:00",
          "2024-08-05T02:17:00+00:00",
          "2024-08-05T02:18:00+00:00",
          "2024-08-05T02:19:00+00:00",
          "2024-08-05T02:20:00+00:00",
          "2024-08-05T02:21:00+00:00",
          "2024-08-05T02:22:00+00:00",
          "2024-08-05T02:23:00+00:00",
          "2024-08-05T02:24:00+00:00",
          "2024-08-05T02:25:00+00:00",
          "2024-08-05T02:26:00+00:00",
          "2024-08-05T02:27:00+00:00",
          "2024-08-05T02:28:00+00:00",
          "2024-08-05T02:29:00+00:00",
          "2024-08-05T02:30:00+00:00",
          "2024-08-05T02:31:00+00:00",
          "2024-08-05T02:32:00+00:00",
          "2024-08-05T02:33:00+00:00",
          "2024-08-05T02:34:00+00:00",
          "2024-08-05T02:35:00+00:00",
          "2024-08-05T02:36:00+00:00",
          "2024-08-05T02:37:00+00:00",
          "2024-08-05T02:38:00+00:00",
          "2024-08-05T02:39:00+00:00",
          "2024-08-05T02:40:00+00:00",
          "2024-08-05T02:41:00+00:00",
          "2024-08-05T02:42:00+00:00",
          "2024-08-05T02:43:00+00:00",
          "2024-08-05T02:44:00+00:00",
          "2024-08-05T02:45:00+00:00",
          "2024-08-05T02:46:00+00:00",
          "2024-08-05T02:47:00+00:00",
          "2024-08-05T02:48:00+00:00",
          "2024-08-05T02:49:00+00:00",
          "2024-08-05T02:50:00+00:00",
          "2024-08-05T02:51:00+00:00",
          "2024-08-05T02:52:00+00:00",
          "2024-08-05T02:53:00+00:00",
          "2024-08-05T02:54:00+00:00",
          "2024-08-05T02:55:00+00:00",
          "2024-08-05T02:56:00+00:00",
          "2024-08-05T02:57:00+00:00",
          "2024-08-05T02:58:00+00:00",
          "2024-08-05T02:59:00+00:00",
          "2024-08-05T03:00:00+00:00",
          "2024-08-05T03:01:00+00:00",
          "2024-08-05T03:02:00+00:00",
          "2024-08-05T03:03:00+00:00",
          "2024-08-05T03:04:00+00:00",
          "2024-08-05T03:05:00+00:00",
          "2024-08-05T03:06:00+00:00",
          "2024-08-05T03:07:00+00:00",
          "2024-08-05T03:08:00+00:00",
          "2024-08-05T03:09:00+00:00",
          "2024-08-05T03:10:00+00:00",
          "2024-08-05T03:11:00+00:00",
          "2024-08-05T03:12:00+00:00",
          "2024-08-05T03:13:00+00:00",
          "2024-08-05T03:14:00+00:00",
          "2024-08-05T03:15:00+00:00",
          "2024-08-05T03:16:00+00:00",
          "2024-08-05T03:17:00+00:00",
          "2024-08-05T03:18:00+00:00",
          "2024-08-05T03:19:00+00:00",
          "2024-08-05T03:20:00+00:00",
          "2024-08-05T03:21:00+00:00",
          "2024-08-05T03:22:00+00:00",
          "2024-08-05T03:23:00+00:00",
          "2024-08-05T03:24:00+00:00",
          "2024-08-05T03:25:00+00:00",
          "2024-08-05T03:26:00+00:00",
          "2024-08-05T03:27:00+00:00",
          "2024-08-05T03:28:00+00:00",
          "2024-08-05T03:29:00+00:00",
          "2024-08-05T03:30:00+00:00",
          "2024-08-05T03:31:00+00:00",
          "2024-08-05T03:32:00+00:00",
          "2024-08-05T03:33:00+00:00",
          "2024-08-05T03:34:00+00:00",
          "2024-08-05T03:35:00+00:00",
          "2024-08-05T03:36:00+00:00",
          "2024-08-05T03:37:00+00:00",
          "2024-08-05T03:38:00+00:00",
          "2024-08-05T03:39:00+00:00",
          "2024-08-05T03:40:00+00:00",
          "2024-08-05T03:41:00+00:00",
          "2024-08-05T03:42:00+00:00",
          "2024-08-05T03:43:00+00:00",
          "2024-08-05T03:44:00+00:00",
          "2024-08-05T03:45:00+00:00",
          "2024-08-05T03:46:00+00:00",
          "2024-08-05T03:47:00+00:00",
          "2024-08-05T03:48:00+00:00",
          "2024-08-05T03:49:00+00:00",
          "2024-08-05T03:50:00+00:00",
          "2024-08-05T03:51:00+00:00",
          "2024-08-05T03:52:00+00:00",
          "2024-08-05T03:53:00+00:00",
          "2024-08-05T03:54:00+00:00",
          "2024-08-05T03:55:00+00:00",
          "2024-08-05T03:56:00+00:00",
          "2024-08-05T03:57:00+00:00",
          "2024-08-05T03:58:00+00:00",
          "2024-08-05T03:59:00+00:00",
          "2024-08-05T04:00:00+00:00",
          "2024-08-05T04:01:00+00:00",
          "2024-08-05T04:02:00+00:00",
          "2024-08-05T04:03:00+00:00",
          "2024-08-05T04:04:00+00:00",
          "2024-08-05T04:05:00+00:00",
          "2024-08-05T04:06:00+00:00",
          "2024-08-05T04:07:00+00:00",
          "2024-08-05T04:08:00+00:00",
          "2024-08-05T04:09:00+00:00",
          "2024-08-05T04:10:00+00:00",
          "2024-08-05T04:11:00+00:00",
          "2024-08-05T04:12:00+00:00",
          "2024-08-05T04:13:00+00:00",
          "2024-08-05T04:14:00+00:00",
          "2024-08-05T04:15:00+00:00",
          "2024-08-05T04:16:00+00:00",
          "2024-08-05T04:17:00+00:00",
          "2024-08-05T04:18:00+00:00",
          "2024-08-05T04:19:00+00:00",
          "2024-08-05T04:20:00+00:00",
          "2024-08-05T04:21:00+00:00",
          "2024-08-05T04:22:00+00:00",
          "2024-08-05T04:23:00+00:00",
          "2024-08-05T04:24:00+00:00",
          "2024-08-05T04:25:00+00:00",
          "2024-08-05T04:26:00+00:00",
          "2024-08-05T04:27:00+00:00",
          "2024-08-05T04:28:00+00:00",
          "2024-08-05T04:29:00+00:00",
          "2024-08-05T04:30:00+00:00",
          "2024-08-05T04:31:00+00:00",
          "2024-08-05T04:32:00+00:00",
          "2024-08-05T04:33:00+00:00",
          "2024-08-05T04:34:00+00:00",
          "2024-08-05T04:35:00+00:00",
          "2024-08-05T04:36:00+00:00",
          "2024-08-05T04:37:00+00:00",
          "2024-08-05T04:38:00+00:00",
          "2024-08-05T04:39:00+00:00",
          "2024-08-05T04:40:00+00:00",
          "2024-08-05T04:41:00+00:00",
          "2024-08-05T04:42:00+00:00",
          "2024-08-05T04:43:00+00:00",
          "2024-08-05T04:44:00+00:00",
          "2024-08-05T04:45:00+00:00",
          "2024-08-05T04:46:00+00:00",
          "2024-08-05T04:47:00+00:00",
          "2024-08-05T04:48:00+00:00",
          "2024-08-05T04:49:00+00:00",
          "2024-08-05T04:50:00+00:00",
          "2024-08-05T04:51:00+00:00",
          "2024-08-05T04:52:00+00:00",
          "2024-08-05T04:53:00+00:00",
          "2024-08-05T04:54:00+00:00",
          "2024-08-05T04:55:00+00:00",
          "2024-08-05T04:56:00+00:00",
          "2024-08-05T04:57:00+00:00",
          "2024-08-05T04:58:00+00:00",
          "2024-08-05T04:59:00+00:00",
          "2024-08-05T05:00:00+00:00",
          "2024-08-05T05:01:00+00:00",
          "2024-08-05T05:02:00+00:00",
          "2024-08-05T05:03:00+00:00",
          "2024-08-05T05:04:00+00:00",
          "2024-08-05T05:05:00+00:00",
          "2024-08-05T05:06:00+00:00",
          "2024-08-05T05:07:00+00:00",
          "2024-08-05T05:08:00+00:00",
          "2024-08-05T05:09:00+00:00",
          "2024-08-05T05:10:00+00:00",
          "2024-08-05T05:11:00+00:00",
          "2024-08-05T05:12:00+00:00",
          "2024-08-05T05:13:00+00:00",
          "2024-08-05T05:14:00+00:00",
          "2024-08-05T05:15:00+00:00",
          "2024-08-05T05:16:00+00:00",
          "2024-08-05T05:17:00+00:00",
          "2024-08-05T05:18:00+00:00",
          "2024-08-05T05:19:00+00:00",
          "2024-08-05T05:20:00+00:00",
          "2024-08-05T05:21:00+00:00",
          "2024-08-05T05:22:00+00:00",
          "2024-08-05T05:23:00+00:00",
          "2024-08-05T05:24:00+00:00",
          "2024-08-05T05:25:00+00:00",
          "2024-08-05T05:26:00+00:00",
          "2024-08-05T05:27:00+00:00",
          "2024-08-05T05:28:00+00:00",
          "2024-08-05T05:29:00+00:00",
          "2024-08-05T05:30:00+00:00",
          "2024-08-05T05:31:00+00:00",
          "2024-08-05T05:32:00+00:00",
          "2024-08-05T05:33:00+00:00",
          "2024-08-05T05:34:00+00:00",
          "2024-08-05T05:35:00+00:00",
          "2024-08-05T05:36:00+00:00",
          "2024-08-05T05:37:00+00:00",
          "2024-08-05T05:38:00+00:00",
          "2024-08-05T05:39:00+00:00",
          "2024-08-05T05:40:00+00:00",
          "2024-08-05T05:41:00+00:00",
          "2024-08-05T05:42:00+00:00",
          "2024-08-05T05:43:00+00:00",
          "2024-08-05T05:44:00+00:00",
          "2024-08-05T05:45:00+00:00",
          "2024-08-05T05:46:00+00:00",
          "2024-08-05T05:47:00+00:00",
          "2024-08-05T05:48:00+00:00",
          "2024-08-05T05:49:00+00:00",
          "2024-08-05T05:50:00+00:00",
          "2024-08-05T05:51:00+00:00",
          "2024-08-05T05:52:00+00:00",
          "2024-08-05T05:53:00+00:00",
          "2024-08-05T05:54:00+00:00",
          "2024-08-05T05:55:00+00:00",
          "2024-08-05T05:56:00+00:00",
          "2024-08-05T05:57:00+00:00",
          "2024-08-05T05:58:00+00:00",
          "2024-08-05T05:59:00+00:00",
          "2024-08-05T06:00:00+00:00",
          "2024-08-05T06:01:00+00:00",
          "2024-08-05T06:02:00+00:00",
          "2024-08-05T06:03:00+00:00",
          "2024-08-05T06:04:00+00:00",
          "2024-08-05T06:05:00+00:00",
          "2024-08-05T06:06:00+00:00",
          "2024-08-05T06:07:00+00:00",
          "2024-08-05T06:08:00+00:00",
          "2024-08-05T06:09:00+00:00",
          "2024-08-05T06:10:00+00:00",
          "2024-08-05T06:11:00+00:00",
          "2024-08-05T06:12:00+00:00",
          "2024-08-05T06:13:00+00:00",
          "2024-08-05T06:14:00+00:00",
          "2024-08-05T06:15:00+00:00",
          "2024-08-05T06:16:00+00:00",
          "2024-08-05T06:17:00+00:00",
          "2024-08-05T06:18:00+00:00",
          "2024-08-05T06:19:00+00:00",
          "2024-08-05T06:20:00+00:00",
          "2024-08-05T06:21:00+00:00",
          "2024-08-05T06:22:00+00:00",
          "2024-08-05T06:23:00+00:00",
          "2024-08-05T06:24:00+00:00",
          "2024-08-05T06:25:00+00:00",
          "2024-08-05T06:26:00+00:00",
          "2024-08-05T06:27:00+00:00",
          "2024-08-05T06:28:00+00:00",
          "2024-08-05T06:29:00+00:00",
          "2024-08-05T06:30:00+00:00",
          "2024-08-05T06:31:00+00:00",
          "2024-08-05T06:32:00+00:00",
          "2024-08-05T06:33:00+00:00",
          "2024-08-05T06:34:00+00:00",
          "2024-08-05T06:35:00+00:00",
          "2024-08-05T06:36:00+00:00",
          "2024-08-05T06:37:00+00:00",
          "2024-08-05T06:38:00+00:00",
          "2024-08-05T06:39:00+00:00",
          "2024-08-05T06:40:00+00:00",
          "2024-08-05T06:41:00+00:00",
          "2024-08-05T06:42:00+00:00",
          "2024-08-05T06:43:00+00:00",
          "2024-08-05T06:44:00+00:00",
          "2024-08-05T06:45:00+00:00",
          "2024-08-05T06:46:00+00:00",
          "2024-08-05T06:47:00+00:00",
          "2024-08-05T06:48:00+00:00",
          "2024-08-05T06:49:00+00:00",
          "2024-08-05T06:50:00+00:00",
          "2024-08-05T06:51:00+00:00",
          "2024-08-05T06:52:00+00:00",
          "2024-08-05T06:53:00+00:00",
          "2024-08-05T06:54:00+00:00",
          "2024-08-05T06:55:00+00:00",
          "2024-08-05T06:56:00+00:00",
          "2024-08-05T06:57:00+00:00",
          "2024-08-05T06:58:00+00:00",
          "2024-08-05T06:59:00+00:00",
          "2024-08-05T07:00:00+00:00",
          "2024-08-05T07:01:00+00:00",
          "2024-08-05T07:02:00+00:00",
          "2024-08-05T07:03:00+00:00",
          "2024-08-05T07:04:00+00:00",
          "2024-08-05T07:05:00+00:00",
          "2024-08-05T07:06:00+00:00",
          "2024-08-05T07:07:00+00:00",
          "2024-08-05T07:08:00+00:00",
          "2024-08-05T07:09:00+00:00",
          "2024-08-05T07:10:00+00:00",
          "2024-08-05T07:11:00+00:00",
          "2024-08-05T07:12:00+00:00",
          "2024-08-05T07:13:00+00:00",
          "2024-08-05T07:14:00+00:00",
          "2024-08-05T07:15:00+00:00",
          "2024-08-05T07:16:00+00:00",
          "2024-08-05T07:17:00+00:00",
          "2024-08-05T07:18:00+00:00",
          "2024-08-05T07:19:00+00:00",
          "2024-08-05T07:20:00+00:00",
          "2024-08-05T07:21:00+00:00",
          "2024-08-05T07:22:00+00:00",
          "2024-08-05T07:23:00+00:00",
          "2024-08-05T07:24:00+00:00",
          "2024-08-05T07:25:00+00:00",
          "2024-08-05T07:26:00+00:00",
          "2024-08-05T07:27:00+00:00",
          "2024-08-05T07:28:00+00:00",
          "2024-08-05T07:29:00+00:00",
          "2024-08-05T07:30:00+00:00",
          "2024-08-05T07:31:00+00:00",
          "2024-08-05T07:32:00+00:00",
          "2024-08-05T07:33:00+00:00",
          "2024-08-05T07:34:00+00:00",
          "2024-08-05T07:35:00+00:00",
          "2024-08-05T07:36:00+00:00",
          "2024-08-05T07:37:00+00:00",
          "2024-08-05T07:38:00+00:00",
          "2024-08-05T07:39:00+00:00",
          "2024-08-05T07:40:00+00:00",
          "2024-08-05T07:41:00+00:00",
          "2024-08-05T07:42:00+00:00",
          "2024-08-05T07:43:00+00:00",
          "2024-08-05T07:44:00+00:00",
          "2024-08-05T07:45:00+00:00",
          "2024-08-05T07:46:00+00:00",
          "2024-08-05T07:47:00+00:00",
          "2024-08-05T07:48:00+00:00",
          "2024-08-05T07:49:00+00:00",
          "2024-08-05T07:50:00+00:00",
          "2024-08-05T07:51:00+00:00",
          "2024-08-05T07:52:00+00:00",
          "2024-08-05T07:53:00+00:00",
          "2024-08-05T07:54:00+00:00",
          "2024-08-05T07:55:00+00:00",
          "2024-08-05T07:56:00+00:00",
          "2024-08-05T07:57:00+00:00",
          "2024-08-05T07:58:00+00:00",
          "2024-08-05T07:59:00+00:00",
          "2024-08-05T08:00:00+00:00",
          "2024-08-05T08:01:00+00:00",
          "2024-08-05T08:02:00+00:00",
          "2024-08-05T08:03:00+00:00",
          "2024-08-05T08:04:00+00:00",
          "2024-08-05T08:05:00+00:00",
          "2024-08-05T08:06:00+00:00",
          "2024-08-05T08:07:00+00:00",
          "2024-08-05T08:08:00+00:00",
          "2024-08-05T08:09:00+00:00",
          "2024-08-05T08:10:00+00:00",
          "2024-08-05T08:11:00+00:00",
          "2024-08-05T08:12:00+00:00",
          "2024-08-05T08:13:00+00:00",
          "2024-08-05T08:14:00+00:00",
          "2024-08-05T08:15:00+00:00",
          "2024-08-05T08:16:00+00:00",
          "2024-08-05T08:17:00+00:00",
          "2024-08-05T08:18:00+00:00",
          "2024-08-05T08:19:00+00:00",
          "2024-08-05T08:20:00+00:00",
          "2024-08-05T08:21:00+00:00",
          "2024-08-05T08:22:00+00:00",
          "2024-08-05T08:23:00+00:00",
          "2024-08-05T08:24:00+00:00",
          "2024-08-05T08:25:00+00:00",
          "2024-08-05T08:26:00+00:00",
          "2024-08-05T08:27:00+00:00",
          "2024-08-05T08:28:00+00:00",
          "2024-08-05T08:29:00+00:00",
          "2024-08-05T08:30:00+00:00",
          "2024-08-05T08:31:00+00:00"
         ],
         "type": "candlestick"
        }
       ],
       "layout": {
        "template": {
         "data": {
          "barpolar": [
           {
            "marker": {
             "line": {
              "color": "white",
              "width": 0.5
             },
             "pattern": {
              "fillmode": "overlay",
              "size": 10,
              "solidity": 0.2
             }
            },
            "type": "barpolar"
           }
          ],
          "bar": [
           {
            "error_x": {
             "color": "#2a3f5f"
            },
            "error_y": {
             "color": "#2a3f5f"
            },
            "marker": {
             "line": {
              "color": "white",
              "width": 0.5
             },
             "pattern": {
              "fillmode": "overlay",
              "size": 10,
              "solidity": 0.2
             }
            },
            "type": "bar"
           }
          ],
          "carpet": [
           {
            "aaxis": {
             "endlinecolor": "#2a3f5f",
             "gridcolor": "#C8D4E3",
             "linecolor": "#C8D4E3",
             "minorgridcolor": "#C8D4E3",
             "startlinecolor": "#2a3f5f"
            },
            "baxis": {
             "endlinecolor": "#2a3f5f",
             "gridcolor": "#C8D4E3",
             "linecolor": "#C8D4E3",
             "minorgridcolor": "#C8D4E3",
             "startlinecolor": "#2a3f5f"
            },
            "type": "carpet"
           }
          ],
          "choropleth": [
           {
            "colorbar": {
             "outlinewidth": 0,
             "ticks": ""
            },
            "type": "choropleth"
           }
          ],
          "contourcarpet": [
           {
            "colorbar": {
             "outlinewidth": 0,
             "ticks": ""
            },
            "type": "contourcarpet"
           }
          ],
          "contour": [
           {
            "colorbar": {
             "outlinewidth": 0,
             "ticks": ""
            },
            "colorscale": [
             [
              0.0,
              "#0d0887"
             ],
             [
              0.1111111111111111,
              "#46039f"
             ],
             [
              0.2222222222222222,
              "#7201a8"
             ],
             [
              0.3333333333333333,
              "#9c179e"
             ],
             [
              0.4444444444444444,
              "#bd3786"
             ],
             [
              0.5555555555555556,
              "#d8576b"
             ],
             [
              0.6666666666666666,
              "#ed7953"
             ],
             [
              0.7777777777777778,
              "#fb9f3a"
             ],
             [
              0.8888888888888888,
              "#fdca26"
             ],
             [
              1.0,
              "#f0f921"
             ]
            ],
            "type": "contour"
           }
          ],
          "heatmap": [
           {
            "colorbar": {
             "outlinewidth": 0,
             "ticks": ""
            },
            "colorscale": [
             [
              0.0,
              "#0d0887"
             ],
             [
              0.1111111111111111,
              "#46039f"
             ],
             [
              0.2222222222222222,
              "#7201a8"
             ],
             [
              0.3333333333333333,
              "#9c179e"
             ],
             [
              0.4444444444444444,
              "#bd3786"
             ],
             [
              0.5555555555555556,
              "#d8576b"
             ],
             [
              0.6666666666666666,
              "#ed7953"
             ],
             [
              0.7777777777777778,
              "#fb9f3a"
             ],
             [
              0.8888888888888888,
              "#fdca26"
             ],
             [
              1.0,
              "#f0f921"
             ]
            ],
            "type": "heatmap"
           }
          ],
          "histogram2dcontour": [
           {
            "colorbar": {
             "outlinewidth": 0,
             "ticks": ""
            },
            "colorscale": [
             [
              0.0,
              "#0d0887"
             ],
             [
              0.1111111111111111,
              "#46039f"
             ],
             [
              0.2222222222222222,
              "#7201a8"
             ],
             [
              0.3333333333333333,
              "#9c179e"
             ],
             [
              0.4444444444444444,
              "#bd3786"
             ],
             [
              0.5555555555555556,
              "#d8576b"
             ],
             [
              0.6666666666666666,
              "#ed7953"
             ],
             [
              0.7777777777777778,
              "#fb9f3a"
             ],
             [
              0.8888888888888888,
              "#fdca26"
             ],
             [
              1.0,
              "#f0f921"
             ]
            ],
            "type": "histogram2dcontour"
           }
          ],
          "histogram2d": [
           {
            "colorbar": {
             "outlinewidth": 0,
             "ticks": ""
            },
            "colorscale": [
             [
              0.0,
              "#0d0887"
             ],
             [
              0.1111111111111111,
              "#46039f"
             ],
             [
              0.2222222222222222,
              "#7201a8"
             ],
             [
              0.3333333333333333,
              "#9c179e"
             ],
             [
              0.4444444444444444,
              "#bd3786"
             ],
             [
              0.5555555555555556,
              "#d8576b"
             ],
             [
              0.6666666666666666,
              "#ed7953"
             ],
             [
              0.7777777777777778,
              "#fb9f3a"
             ],
             [
              0.8888888888888888,
              "#fdca26"
             ],
             [
              1.0,
              "#f0f921"
             ]
            ],
            "type": "histogram2d"
           }
          ],
          "histogram": [
           {
            "marker": {
             "pattern": {
              "fillmode": "overlay",
              "size": 10,
              "solidity": 0.2
             }
            },
            "type": "histogram"
           }
          ],
          "mesh3d": [
           {
            "colorbar": {
             "outlinewidth": 0,
             "ticks": ""
            },
            "type": "mesh3d"
           }
          ],
          "parcoords": [
           {
            "line": {
             "colorbar": {
              "outlinewidth": 0,
              "ticks": ""
             }
            },
            "type": "parcoords"
           }
          ],
          "pie": [
           {
            "automargin": true,
            "type": "pie"
           }
          ],
          "scatter3d": [
           {
            "line": {
             "colorbar": {
              "outlinewidth": 0,
              "ticks": ""
             }
            },
            "marker": {
             "colorbar": {
              "outlinewidth": 0,
              "ticks": ""
             }
            },
            "type": "scatter3d"
           }
          ],
          "scattercarpet": [
           {
            "marker": {
             "colorbar": {
              "outlinewidth": 0,
              "ticks": ""
             }
            },
            "type": "scattercarpet"
           }
          ],
          "scattergeo": [
           {
            "marker": {
             "colorbar": {
              "outlinewidth": 0,
              "ticks": ""
             }
            },
            "type": "scattergeo"
           }
          ],
          "scattergl": [
           {
            "marker": {
             "colorbar": {
              "outlinewidth": 0,
              "ticks": ""
             }
            },
            "type": "scattergl"
           }
          ],
          "scattermapbox": [
           {
            "marker": {
             "colorbar": {
              "outlinewidth": 0,
              "ticks": ""
             }
            },
            "type": "scattermapbox"
           }
          ],
          "scattermap": [
           {
            "marker": {
             "colorbar": {
              "outlinewidth": 0,
              "ticks": ""
             }
            },
            "type": "scattermap"
           }
          ],
          "scatterpolargl": [
           {
            "marker": {
             "colorbar": {
              "outlinewidth": 0,
              "ticks": ""
             }
            },
            "type": "scatterpolargl"
           }
          ],
          "scatterpolar": [
           {
            "marker": {
             "colorbar": {
              "outlinewidth": 0,
              "ticks": ""
             }
            },
            "type": "scatterpolar"
           }
          ],
          "scatter": [
           {
            "fillpattern": {
             "fillmode": "overlay",
             "size": 10,
             "solidity": 0.2
            },
            "type": "scatter"
           }
          ],
          "scatterternary": [
           {
            "marker": {
             "colorbar": {
              "outlinewidth": 0,
              "ticks": ""
             }
            },
            "type": "scatterternary"
           }
          ],
          "surface": [
           {
            "colorbar": {
             "outlinewidth": 0,
             "ticks": ""
            },
            "colorscale": [
             [
              0.0,
              "#0d0887"
             ],
             [
              0.1111111111111111,
              "#46039f"
             ],
             [
              0.2222222222222222,
              "#7201a8"
             ],
             [
              0.3333333333333333,
              "#9c179e"
             ],
             [
              0.4444444444444444,
              "#bd3786"
             ],
             [
              0.5555555555555556,
              "#d8576b"
             ],
             [
              0.6666666666666666,
              "#ed7953"
             ],
             [
              0.7777777777777778,
              "#fb9f3a"
             ],
             [
              0.8888888888888888,
              "#fdca26"
             ],
             [
              1.0,
              "#f0f921"
             ]
            ],
            "type": "surface"
           }
          ],
          "table": [
           {
            "cells": {
             "fill": {
              "color": "#EBF0F8"
             },
             "line": {
              "color": "white"
             }
            },
            "header": {
             "fill": {
              "color": "#C8D4E3"
             },
             "line": {
              "color": "white"
             }
            },
            "type": "table"
           }
          ]
         },
         "layout": {
          "annotationdefaults": {
           "arrowcolor": "#2a3f5f",
           "arrowhead": 0,
           "arrowwidth": 1
          },
          "autotypenumbers": "strict",
          "coloraxis": {
           "colorbar": {
            "outlinewidth": 0,
            "ticks": ""
           }
          },
          "colorscale": {
           "diverging": [
            [
             0,
             "#8e0152"
            ],
            [
             0.1,
             "#c51b7d"
            ],
            [
             0.2,
             "#de77ae"
            ],
            [
             0.3,
             "#f1b6da"
            ],
            [
             0.4,
             "#fde0ef"
            ],
            [
             0.5,
             "#f7f7f7"
            ],
            [
             0.6,
             "#e6f5d0"
            ],
            [
             0.7,
             "#b8e186"
            ],
            [
             0.8,
             "#7fbc41"
            ],
            [
             0.9,
             "#4d9221"
            ],
            [
             1,
             "#276419"
            ]
           ],
           "sequential": [
            [
             0.0,
             "#0d0887"
            ],
            [
             0.1111111111111111,
             "#46039f"
            ],
            [
             0.2222222222222222,
             "#7201a8"
            ],
            [
             0.3333333333333333,
             "#9c179e"
            ],
            [
             0.4444444444444444,
             "#bd3786"
            ],
            [
             0.5555555555555556,
             "#d8576b"
            ],
            [
             0.6666666666666666,
             "#ed7953"
            ],
            [
             0.7777777777777778,
             "#fb9f3a"
            ],
            [
             0.8888888888888888,
             "#fdca26"
            ],
            [
             1.0,
             "#f0f921"
            ]
           ],
           "sequentialminus": [
            [
             0.0,
             "#0d0887"
            ],
            [
             0.1111111111111111,
             "#46039f"
            ],
            [
             0.2222222222222222,
             "#7201a8"
            ],
            [
             0.3333333333333333,
             "#9c179e"
            ],
            [
             0.4444444444444444,
             "#bd3786"
            ],
            [
             0.5555555555555556,
             "#d8576b"
            ],
            [
             0.6666666666666666,
             "#ed7953"
            ],
            [
             0.7777777777777778,
             "#fb9f3a"
            ],
            [
             0.8888888888888888,
             "#fdca26"
            ],
            [
             1.0,
             "#f0f921"
            ]
           ]
          },
          "colorway": [
           "#636efa",
           "#EF553B",
           "#00cc96",
           "#ab63fa",
           "#FFA15A",
           "#19d3f3",
           "#FF6692",
           "#B6E880",
           "#FF97FF",
           "#FECB52"
          ],
          "font": {
           "color": "#2a3f5f"
          },
          "geo": {
           "bgcolor": "white",
           "lakecolor": "white",
           "landcolor": "white",
           "showlakes": true,
           "showland": true,
           "subunitcolor": "#C8D4E3"
          },
          "hoverlabel": {
           "align": "left"
          },
          "hovermode": "closest",
          "mapbox": {
           "style": "light"
          },
          "paper_bgcolor": "white",
          "plot_bgcolor": "white",
          "polar": {
           "angularaxis": {
            "gridcolor": "#EBF0F8",
            "linecolor": "#EBF0F8",
            "ticks": ""
           },
           "bgcolor": "white",
           "radialaxis": {
            "gridcolor": "#EBF0F8",
            "linecolor": "#EBF0F8",
            "ticks": ""
           }
          },
          "scene": {
           "xaxis": {
            "backgroundcolor": "white",
            "gridcolor": "#DFE8F3",
            "gridwidth": 2,
            "linecolor": "#EBF0F8",
            "showbackground": true,
            "ticks": "",
            "zerolinecolor": "#EBF0F8"
           },
           "yaxis": {
            "backgroundcolor": "white",
            "gridcolor": "#DFE8F3",
            "gridwidth": 2,
            "linecolor": "#EBF0F8",
            "showbackground": true,
            "ticks": "",
            "zerolinecolor": "#EBF0F8"
           },
           "zaxis": {
            "backgroundcolor": "white",
            "gridcolor": "#DFE8F3",
            "gridwidth": 2,
            "linecolor": "#EBF0F8",
            "showbackground": true,
            "ticks": "",
            "zerolinecolor": "#EBF0F8"
           }
          },
          "shapedefaults": {
           "line": {
            "color": "#2a3f5f"
           }
          },
          "ternary": {
           "aaxis": {
            "gridcolor": "#DFE8F3",
            "linecolor": "#A2B1C6",
            "ticks": ""
           },
           "baxis": {
            "gridcolor": "#DFE8F3",
            "linecolor": "#A2B1C6",
            "ticks": ""
           },
           "bgcolor": "white",
           "caxis": {
            "gridcolor": "#DFE8F3",
            "linecolor": "#A2B1C6",
            "ticks": ""
           }
          },
          "title": {
           "x": 0.05
          },
          "xaxis": {
           "automargin": true,
           "gridcolor": "#EBF0F8",
           "linecolor": "#EBF0F8",
           "ticks": "",
           "title": {
            "standoff": 15
           },
           "zerolinecolor": "#EBF0F8",
           "zerolinewidth": 2
          },
          "yaxis": {
           "automargin": true,
           "gridcolor": "#EBF0F8",
           "linecolor": "#EBF0F8",
           "ticks": "",
           "title": {
            "standoff": 15
           },
           "zerolinecolor": "#EBF0F8",
           "zerolinewidth": 2
          }
         }
        },
        "xaxis": {
         "rangeslider": {
          "visible": false
         },
         "title": {
          "text": "Time"
         },
         "range": [
          "2024-08-04T20:32:00+00:00",
          "2024-08-05T08:31:00+00:00"
         ]
        },
        "title": {
         "text": "Best 12-Hour Fragment – HighVol_DownTrend"
        },
        "yaxis": {
         "title": {
          "text": "Price"
         }
        },
        "height": 600,
        "hovermode": "x unified"
       },
       "config": {
        "plotlyServerURL": "https://plot.ly"
       }
      }
     },
     "metadata": {},
     "output_type": "display_data"
    },
    {
     "data": {
      "application/vnd.plotly.v1+json": {
       "data": [
        {
         "close": {
          "dtype": "f8",
          "bdata": "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"
         },
         "decreasing": {
          "line": {
           "color": "red"
          }
         },
         "high": {
          "dtype": "f8",
          "bdata": "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"
         },
         "increasing": {
          "line": {
           "color": "lime"
          }
         },
         "low": {
          "dtype": "f8",
          "bdata": "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"
         },
         "name": "Price",
         "open": {
          "dtype": "f8",
          "bdata": "ZmZmZiZj+UDD9Shct2r5QOF6FK53YvlApHA9CmtY+UBxPQrXu0D5QEjhehQ+SPlAZmZmZt5G+UBI4XoUqkH5QB+F61EILPlAhetRuEo++UBI4XoU0i75QAAAAAB8KflAcT0K178v+UDD9Shcxzv5QPYoXI8KKvlAmpmZmdkj+UBxPQrXfw75QI/C9SjwtfhASOF6FD7q+EBxPQrXP+T4QHE9CtdLA/lAw/UoXI8f+UAUrkfhchv5QOF6FK5/JPlAj8L1KEAZ+UApXI/CBRz5QHsUrkeRJPlAFK5H4Vo1+UAAAAAAYD/5QM3MzMzkCvlA16NwPSb1+ECPwvUogN34QAAAAAAA0/hAH4XrUQDU+EAAAAAAQOD4QHsUrkcZ1PhAKVyPwmnR+EBxPQrXf8H4QAAAAABAyvhAcT0K1//A+EAAAAAAcK/4QHE9CteLtvhAKVyPwnGw+EAAAAAAQLn4QI/C9SjAx/hAXI/C9RDT+EBmZmZmbsP4QBSuR+Hqq/hAj8L1KGCM+ECPwvUooKL4QOxRuB6xu/hAUrgehZ/L+ECkcD0Kw8X4QLgehevhrPhAAAAAAICx+EAAAAAAwLX4QK5H4XooovhAj8L1KEyR+EAfhetRoIv4QAAAAAAAdPhAj8L1KOB9+EAAAAAAwGH4QOxRuB5diPhASOF6FDKt+ECuR+F6RJr4QIXrUbiqjvhAuB6F61mI+EBxPQrX/2/4QPYoXI8yVfhAmpmZmf1v+EBxPQrXT3b4QFK4HoXng/hA9ihcj6qq+EDsUbgesbX4QI/C9SjsyfhAj8L1KADJ+ECuR+F6/Mn4QAAAAABA3PhA16NwPSbZ+EAAAAAAwM34QAAAAACg0fhAAAAAAGDc+EAAAAAAQM/4QGZmZmZmwvhAcT0K1x/N+EAAAAAAoLL4QIXrUbjCrPhAcT0K17+z+EDsUbgeOb34QOxRuB6Bp/hAPQrXoySi+EAzMzMzQ5v4QHsUrkdZrPhA9ihcj2Kg+EAzMzMzO8X4QEjhehTeyPhAexSuR8nO+EAzMzMz58D4QM3MzMw0t/hAAAAAAICo+EDXo3A9dsH4QOxRuB7tu/hAXI/C9Viu+EBxPQrX/8H4QDMzMzO3xvhAKVyPwv2x+EApXI/CicD4QLgehevhqvhAmpmZmUGr+EBxPQrX/5b4QPYoXI8mpfhAXI/C9fC3+ED2KFyPar34QB+F61GwwPhAUrgehQvK+EB7FK5Hab74QHE9CtdnuvhAFK5H4fqn+EAAAAAAAK74QM3MzMzkpvhAj8L1KACg+EAAAAAAQLH4QJqZmZmFsvhAj8L1KMCh+EAzMzMzK5j4QIXrUbgyoPhAuB6F68mH+EBcj8L1jHD4QAAAAABAYfhAj8L1KCxZ+EDsUbgeZX34QHsUrkfhjvhAj8L1KMCa+EDD9Shcq5n4QHE9CtdngPhAcT0K1/9v+EAzMzMzQ1n4QKRwPQqnZ/hApHA9Cp9Y+EA9CtejuHr4QAAAAAAAfvhAMzMzM391+EAK16NwLX74QNejcD36b/hAFK5H4QZi+EAK16NwWWz4QLgehev9X/hAAAAAABBm+ECPwvUoKF34QLgeheuZY/hAFK5H4VZg+EBcj8L1VG34QI/C9SgAZfhASOF6FJJi+EBSuB6FK1/4QMP1KFy3XPhA16NwPaJ1+EBI4XoUdoj4QB+F61HAePhAuB6F601r+EDsUbgetXH4QDMzMzPvdfhAzczMzMhu+EB7FK5HaXf4QI/C9SjIhfhAAAAAANB0+EAAAAAA6Gf4QPYoXI/ic/hAPQrXo4R2+ED2KFyPJmP4QArXo3CpY/hAhetRuCZt+EAAAAAAQHX4QFK4HoUvdPhArkfhetRs+EDD9Shc33b4QOF6FK6zd/hAw/UoXLuG+EAAAAAAAH74QB+F61FAjvhAPQrXo4SD+ECamZmZGXn4QKRwPQrvhPhAAAAAAICO+EApXI/CJaX4QGZmZmZOl/hAKVyPwkmn+ECPwvUowJ34QAAAAABAk/hAcT0K17+R+ECuR+F6QIn4QAAAAADAfPhACtejcM1v+EAfhetRJG/4QOF6FK6fdPhAj8L1KMB3+EB7FK5HvYb4QI/C9SgsifhAuB6F62WB+EBxPQrX23j4QB+F61GwcvhAKVyPwhGA+EAAAAAAwIH4QArXo3ARdfhA16NwPS5z+ED2KFyProD4QI/C9Si4hfhAFK5H4RaR+EDsUbgeTZX4QGZmZmYKmPhAAAAAAMCb+EBxPQrXI6r4QAAAAADAofhAAAAAAByg+EBSuB6FX534QNejcD3aqPhArkfhetCm+EB7FK5HHab4QNejcD2GoPhASOF6FDKu+EC4HoXryaz4QIXrUbhysPhAj8L1KMCu+ED2KFyPhqn4QD0K16NQrfhAzczMzGi1+EAAAAAAZLL4QArXo3C9uPhA9ihcj064+EAUrkfhFrb4QClcj8JZufhAUrgehb+/+ECF61G4Es/4QI/C9SiszvhAexSuR93E+EAfhetRzMv4QClcj8KByvhAKVyPwjHD+EAK16NwGdX4QGZmZmYq0fhA9ihcj77Y+ED2KFyPSt34QFK4HoVL4/hAXI/C9Vjz+EAAAAAA0Pn4QOF6FK4P6/hAMzMzM6vj+EDXo3A9Ztn4QClcj8Lt4fhAzczMzJzS+EApXI/CHdP4QDMzMzP3xfhAUrgehYfO+EB7FK5HldH4QDMzMzNT0/hACtejcAXR+EA9Ctej0NH4QGZmZmYC0vhAMzMzM6/Z+EDXo3A9Wuf4QPYoXI/S3fhArkfheuzw+EDNzMzMNO/4QK5H4Xoc2vhArkfhelTf+EBmZmZmBuz4QJqZmZmB2vhAH4XrUVDn+EBcj8L1aOL4QI/C9SjA1/hAuB6F68nG+EA9CtejbM/4QHsUrkcd1/hApHA9CvPZ+EAfhetRaNr4QNejcD1i2vhAmpmZmTHg+EAzMzMzC+H4QNejcD1i3vhAexSuR83k+ED2KFyPvuD4QKRwPQoH3fhAMzMzMwvc+EBmZmZmPtr4QD0K16PY2vhAj8L1KKzZ+EDhehSum+H4QI/C9Sg46/hAPQrXo2zm+EDhehSuV+P4QFK4HoXD0/hAMzMzM3vO+ECuR+F6XNT4QK5H4Xqo1fhArkfhepzZ+ED2KFyPCsj4QArXo3AhyvhA7FG4HrHJ+EBSuB6FX9H4QOF6FK5ry/hA9ihcjwbP+ECF61G4os74QGZmZmZKz/hArkfhegTM+EB7FK5H5dT4QPYoXI861vhAAAAAABDZ+EC4HoXrBdP4QAAAAAA8z/hAmpmZmf3O+ECamZmZ/cn4QD0K16NUz/hAH4XrUTDT+EBxPQrXv8z4QJqZmZlFz/hAj8L1KLDK+EAfhetRmNP4QAAAAADAxPhACtejcFnH+EDXo3A9Bsj4QHE9CtffzfhAZmZmZobg+EDsUbge3dP4QLgehes13/hAAAAAAEDZ+EBxPQrXY+D4QB+F61H41/hA16NwPb7Y+ECkcD0KP+D4QIXrUbg23fhAH4XrUYjX+EC4HoXrkdv4QI/C9ShY2fhApHA9CqfO+EDD9ShcH9H4QPYoXI/S0/hAAAAAAGjO+EAAAAAAgM74QMP1KFz7z/hA16NwPaLP+EBmZmZmVtn4QIXrUbiK2/hACtejcInV+EDsUbge1dn4QHE9Ctfr3PhA9ihcj5bb+EDhehSug9D4QHE9Ctc/z/hArkfheqTU+ECPwvUoQNn4QGZmZmay4vhAAAAAAPDm+EAzMzMzo+L4QArXo3BN2vhAcT0K11/X+ECPwvUowNH4QB+F61Gc0/hArkfhepzT+EBxPQrXg9j4QM3MzMxw1/hAexSuRzXa+EBxPQrXP9f4QAAAAACU2vhAj8L1KADd+EBxPQrXf+T4QM3MzMxM5vhAFK5H4Uro+ECPwvUowOf4QHsUrkfB4PhAXI/C9WTi+ED2KFyPhuf4QEjhehRW8vhAuB6F6xn1+EBI4XoU0vr4QOF6FK5b/vhAj8L1KPj9+EC4HoXrBQr5QIXrUbjiFvlApHA9CmsI+UAUrkfhkgP5QGZmZmZ2A/lAzczMzHz++ECPwvUogAH5QGZmZmaC//hA16NwPZL9+EDNzMzMzPb4QLgehetN9vhAH4XrUUj4+EAK16NwhfX4QD0K16O08vhAFK5H4f72+EAAAAAAAAD5QOF6FK43APlApHA9CgsC+UDXo3A9JgH5QK5H4Xpg/vhAKVyPwpUJ+UDsUbge7Q35QArXo3AdE/lASOF6FH4U+UDNzMzMkBb5QDMzMzMLEflAPQrXoygI+UBxPQrXWwX5QM3MzMykB/lA7FG4HokP+UCamZmZtRf5QAAAAAAAD/lAj8L1KIAM+UB7FK5H6Qn5QAAAAADAA/lAw/UoXM8F+UB7FK5HXRn5QJqZmZk5FPlAAAAAAIAI+UB7FK5HpQP5QClcj8IxBflAexSuR20H+UCPwvUoAAX5QPYoXI/SAvlACtejcFEB+UAAAAAAwAX5QJqZmZnVAvlAj8L1KED++EBmZmZmjgD5QLgehetZ//hArkfheqgA+UAAAAAAwP74QPYoXI+u//hA4XoUrusD+UD2KFyPRgv5QM3MzMy0BvlAFK5H4boI+UBcj8L1eA35QNejcD3qB/lAcT0K19MJ+UApXI/CnQT5QM3MzMzQCflAzczMzLQJ+UBSuB6F6xD5QK5H4XqkDPlACtejcKUN+UAAAAAAQAv5QI/C9ShABvlAmpmZmen9+EAK16NwZf34QI/C9Sh8+/hAexSuR9X7+EAzMzMzg/z4QOF6FK6r//hA7FG4Hk0F+UC4HoXrpQf5QK5H4XqgCPlA4XoUrh8I+UD2KFyPhgP5QNejcD0OC/lAcT0K1/8E+UCPwvUoQPn4QKRwPQrj9/hAw/UoXFP2+EDNzMzMXP34QArXo3AFBflAmpmZmXkJ+UApXI/CRQb5QDMzMzMLDvlAw/UoXLsP+UCuR+F6qAn5QClcj8KlBvlAAAAAANQH+UDXo3A9Rgv5QFK4HoU7EPlA7FG4HtEX+UCF61G4ohH5QFK4HoVbDvlArkfhetwW+UA9Ctej9BD5QI/C9SiAEvlAuB6F68UI+UAAAAAAAA/5QJqZmZmhFvlAj8L1KGAP+UBcj8L1IBP5QJqZmZmJFflACtejcMUS+UBmZmZmLhX5QHsUrkcJIvlA7FG4HmEu+UBmZmZmejr5QK5H4XpIQ/lAUrgehc9M+UC4HoXrtUv5QGZmZmbWXPlAAAAAAAB9+UCF61G4Ho/5QOxRuB7Ft/lA7FG4HvWv+UBSuB6FI8P5QHE9Cte/4PlAPQrXo1Dt+UDD9Shc7/j5QHE9Cte/HPpAj8L1KIQ1+kAUrkfhckz6QI/C9SjAYPpAuB6F6x2o+kAzMzMzA136QLgeheu5RPpApHA9Cgsr+kApXI/CpT36QJqZmZklZ/pAcT0K1795+kBmZmZmtmX6QDMzMzMDkPpAZmZmZlqE+kBSuB6Fc536QAAAAADgpfpAPQrXo4Cj+kAUrkfhjqD6QFK4HoXDgfpAPQrXo/Rx+kA9CtejTI76QOxRuB7ZnfpAUrgehUed+kAUrkfh9pr6QArXo3CZkvpAPQrXo8x7+kCuR+F6EHT6QGZmZmZ+ZfpArkfhepBz+kApXI/C2Xr6QArXo3BNZvpAH4XrUeRP+kAK16Nw6Vz6QPYoXI+uavpAj8L1KEhs+kB7FK5H8Xf6QBSuR+GqhfpAj8L1KGyX+kBmZmZmIor6QPYoXI/mkfpAhetRuPaI+kBcj8L1kIP6QI/C9ShAffpAAAAAAMBw+kC4HoXr6WX6QAAAAABkWPpAAAAAAEhi+kDNzMzMdHX6QB+F61FQdfpAXI/C9Xhn+kDNzMzMEF76QK5H4XrcUvpAH4XrUdBY+kBSuB6Fz1r6QAAAAADQWvpA7FG4HsVS+kBSuB6F90T6QFyPwvUISfpASOF6FFpN+kBxPQrX51b6QFyPwvU8UvpAcT0K179X+kDNzMzMjFr6QOxRuB7lUPpAj8L1KPhG+kDD9Shcy0r6QIXrUbgOQfpACtejcHEp+kBmZmZmCif6QOF6FK5fM/pASOF6FIY4+kCkcD0K9zj6QK5H4XrURvpAcT0K1xc9+kApXI/CvUX6QOxRuB75SfpASOF6FMZJ+kAzMzMzA0r6QNejcD2mS/pAUrgehZ9D+kDXo3A9Gk/6QArXo3CBVfpAcT0K1z9a+kDhehSuZ1X6QArXo3A1U/pAAAAAAHBK+kAUrkfhFlP6QD0K16OwV/pAAAAAAOha+kBI4XoUYl76QK5H4XrYaPpAAAAAAMRs+kAK16NwsWz6QAAAAACAavpAhetRuOJl+kD2KFyPTmL6QJqZmZm5YfpA4XoUridi+kDNzMzMaGD6QEjhehTKWPpAMzMzMydY+kDNzMzMZGn6QM3MzMz0ZvpAXI/C9aRn+kBxPQrXf2z6QIXrUbg2YfpACtejcA1c+kDhehSuK1r6QGZmZmZ+ZfpAj8L1KBhr+kBmZmZm0mj6QLgehevRafpAhetRuDJs+kDD9ShcQ2z6QHsUrkf5aPpACtejcF1Y+kApXI/COVn6QIXrUbieYvpAuB6F63Fj+kDhehSu12j6QPYoXI+CZPpAKVyPwqVn+kBI4XoU9mr6QM3MzMw8a/pAPQrXo2Rr+kAAAAAAAHD6QHE9Ctf3b/pAKVyPwpVx+kAAAAAAAHL6QM3MzMxIbvpAAAAAAABy+kBSuB6FL2r6QB+F61HYdPpAH4XrUdh6+kD2KFyPHof6QEjhehQylvpAhetRuIKh+kBI4XoUnpf6QMP1KFyPm/pAUrgehaOX+kCkcD0Kl4L6QI/C9SjwiPpAAAAAAACG+kBI4XoUSo36QKRwPQrDlPpAAAAAAFyK+kCF61G48oL6QI/C9ShYifpAhetRuD6L+kAAAAAAnIb6QIXrUbgud/pAAAAAAKB1+kBcj8L1KH/6QMP1KFzHcvpA4XoUrqtm+kAK16Nw8WX6QFyPwvX0XPpACtejcPFl+kCuR+F64Gz6QIXrUbhqafpA9ihcjypu+kCF61G4Pmj6QEjhehRqWfpApHA9CqdY+kBSuB6Ft1b6QJqZmZlBYfpAUrgehW9X+kBSuB6Fu0T6QIXrUbiuRfpAuB6F6+1R+kDNzMzM8Fb6QAAAAACAT/pAzczMzChd+kBcj8L15Fv6QNejcD1mX/pAAAAAACBh+kCuR+F6HGP6QI/C9SgAX/pAw/UoXANa+kBxPQrXL1r6QHsUrkeRWvpA9ihcj55m+kBI4XoUcl76QAAAAADAYfpAMzMzM5dp+kBmZmZmNmr6QLgehes5afpAXI/C9YBn+kDNzMzMQGb6QK5H4XqkbPpAMzMzM69g+kBmZmZmPmP6QHE9CtcfXfpAuB6F601h+kC4HoXrmVv6QK5H4Xr8WfpAzczMzKRk+kBcj8L1yFr6QLgehespXfpArkfhekRe+kCPwvUouGn6QD0K16NgafpAj8L1KEBk+kDD9Shc62L6QArXo3AVZPpAAAAAANBo+kCF61G4Am76QGZmZmaGbfpA7FG4HjVt+kBxPQrX33P6QArXo3ANf/pA9ihcjwZ/+kAK16NwEX/6QIXrUbhyifpAPQrXo+yE+kB7FK5HmX/6QPYoXI+ygfpAXI/C9Rh6+kDNzMzMXH36QGZmZmbug/pA"
         },
         "x": [
          "2025-01-19T22:32:00+00:00",
          "2025-01-19T22:33:00+00:00",
          "2025-01-19T22:34:00+00:00",
          "2025-01-19T22:35:00+00:00",
          "2025-01-19T22:36:00+00:00",
          "2025-01-19T22:37:00+00:00",
          "2025-01-19T22:38:00+00:00",
          "2025-01-19T22:39:00+00:00",
          "2025-01-19T22:40:00+00:00",
          "2025-01-19T22:41:00+00:00",
          "2025-01-19T22:42:00+00:00",
          "2025-01-19T22:43:00+00:00",
          "2025-01-19T22:44:00+00:00",
          "2025-01-19T22:45:00+00:00",
          "2025-01-19T22:46:00+00:00",
          "2025-01-19T22:47:00+00:00",
          "2025-01-19T22:48:00+00:00",
          "2025-01-19T22:49:00+00:00",
          "2025-01-19T22:50:00+00:00",
          "2025-01-19T22:51:00+00:00",
          "2025-01-19T22:52:00+00:00",
          "2025-01-19T22:53:00+00:00",
          "2025-01-19T22:54:00+00:00",
          "2025-01-19T22:55:00+00:00",
          "2025-01-19T22:56:00+00:00",
          "2025-01-19T22:57:00+00:00",
          "2025-01-19T22:58:00+00:00",
          "2025-01-19T22:59:00+00:00",
          "2025-01-19T23:00:00+00:00",
          "2025-01-19T23:01:00+00:00",
          "2025-01-19T23:02:00+00:00",
          "2025-01-19T23:03:00+00:00",
          "2025-01-19T23:04:00+00:00",
          "2025-01-19T23:05:00+00:00",
          "2025-01-19T23:06:00+00:00",
          "2025-01-19T23:07:00+00:00",
          "2025-01-19T23:08:00+00:00",
          "2025-01-19T23:09:00+00:00",
          "2025-01-19T23:10:00+00:00",
          "2025-01-19T23:11:00+00:00",
          "2025-01-19T23:12:00+00:00",
          "2025-01-19T23:13:00+00:00",
          "2025-01-19T23:14:00+00:00",
          "2025-01-19T23:15:00+00:00",
          "2025-01-19T23:16:00+00:00",
          "2025-01-19T23:17:00+00:00",
          "2025-01-19T23:18:00+00:00",
          "2025-01-19T23:19:00+00:00",
          "2025-01-19T23:20:00+00:00",
          "2025-01-19T23:21:00+00:00",
          "2025-01-19T23:22:00+00:00",
          "2025-01-19T23:23:00+00:00",
          "2025-01-19T23:24:00+00:00",
          "2025-01-19T23:25:00+00:00",
          "2025-01-19T23:26:00+00:00",
          "2025-01-19T23:27:00+00:00",
          "2025-01-19T23:28:00+00:00",
          "2025-01-19T23:29:00+00:00",
          "2025-01-19T23:30:00+00:00",
          "2025-01-19T23:31:00+00:00",
          "2025-01-19T23:32:00+00:00",
          "2025-01-19T23:33:00+00:00",
          "2025-01-19T23:34:00+00:00",
          "2025-01-19T23:35:00+00:00",
          "2025-01-19T23:36:00+00:00",
          "2025-01-19T23:37:00+00:00",
          "2025-01-19T23:38:00+00:00",
          "2025-01-19T23:39:00+00:00",
          "2025-01-19T23:40:00+00:00",
          "2025-01-19T23:41:00+00:00",
          "2025-01-19T23:42:00+00:00",
          "2025-01-19T23:43:00+00:00",
          "2025-01-19T23:44:00+00:00",
          "2025-01-19T23:45:00+00:00",
          "2025-01-19T23:46:00+00:00",
          "2025-01-19T23:47:00+00:00",
          "2025-01-19T23:48:00+00:00",
          "2025-01-19T23:49:00+00:00",
          "2025-01-19T23:50:00+00:00",
          "2025-01-19T23:51:00+00:00",
          "2025-01-19T23:52:00+00:00",
          "2025-01-19T23:53:00+00:00",
          "2025-01-19T23:54:00+00:00",
          "2025-01-19T23:55:00+00:00",
          "2025-01-19T23:56:00+00:00",
          "2025-01-19T23:57:00+00:00",
          "2025-01-19T23:58:00+00:00",
          "2025-01-19T23:59:00+00:00",
          "2025-01-20T00:00:00+00:00",
          "2025-01-20T00:01:00+00:00",
          "2025-01-20T00:02:00+00:00",
          "2025-01-20T00:03:00+00:00",
          "2025-01-20T00:04:00+00:00",
          "2025-01-20T00:05:00+00:00",
          "2025-01-20T00:06:00+00:00",
          "2025-01-20T00:07:00+00:00",
          "2025-01-20T00:08:00+00:00",
          "2025-01-20T00:09:00+00:00",
          "2025-01-20T00:10:00+00:00",
          "2025-01-20T00:11:00+00:00",
          "2025-01-20T00:12:00+00:00",
          "2025-01-20T00:13:00+00:00",
          "2025-01-20T00:14:00+00:00",
          "2025-01-20T00:15:00+00:00",
          "2025-01-20T00:16:00+00:00",
          "2025-01-20T00:17:00+00:00",
          "2025-01-20T00:18:00+00:00",
          "2025-01-20T00:19:00+00:00",
          "2025-01-20T00:20:00+00:00",
          "2025-01-20T00:21:00+00:00",
          "2025-01-20T00:22:00+00:00",
          "2025-01-20T00:23:00+00:00",
          "2025-01-20T00:24:00+00:00",
          "2025-01-20T00:25:00+00:00",
          "2025-01-20T00:26:00+00:00",
          "2025-01-20T00:27:00+00:00",
          "2025-01-20T00:28:00+00:00",
          "2025-01-20T00:29:00+00:00",
          "2025-01-20T00:30:00+00:00",
          "2025-01-20T00:31:00+00:00",
          "2025-01-20T00:32:00+00:00",
          "2025-01-20T00:33:00+00:00",
          "2025-01-20T00:34:00+00:00",
          "2025-01-20T00:35:00+00:00",
          "2025-01-20T00:36:00+00:00",
          "2025-01-20T00:37:00+00:00",
          "2025-01-20T00:38:00+00:00",
          "2025-01-20T00:39:00+00:00",
          "2025-01-20T00:40:00+00:00",
          "2025-01-20T00:41:00+00:00",
          "2025-01-20T00:42:00+00:00",
          "2025-01-20T00:43:00+00:00",
          "2025-01-20T00:44:00+00:00",
          "2025-01-20T00:45:00+00:00",
          "2025-01-20T00:46:00+00:00",
          "2025-01-20T00:47:00+00:00",
          "2025-01-20T00:48:00+00:00",
          "2025-01-20T00:49:00+00:00",
          "2025-01-20T00:50:00+00:00",
          "2025-01-20T00:51:00+00:00",
          "2025-01-20T00:52:00+00:00",
          "2025-01-20T00:53:00+00:00",
          "2025-01-20T00:54:00+00:00",
          "2025-01-20T00:55:00+00:00",
          "2025-01-20T00:56:00+00:00",
          "2025-01-20T00:57:00+00:00",
          "2025-01-20T00:58:00+00:00",
          "2025-01-20T00:59:00+00:00",
          "2025-01-20T01:00:00+00:00",
          "2025-01-20T01:01:00+00:00",
          "2025-01-20T01:02:00+00:00",
          "2025-01-20T01:03:00+00:00",
          "2025-01-20T01:04:00+00:00",
          "2025-01-20T01:05:00+00:00",
          "2025-01-20T01:06:00+00:00",
          "2025-01-20T01:07:00+00:00",
          "2025-01-20T01:08:00+00:00",
          "2025-01-20T01:09:00+00:00",
          "2025-01-20T01:10:00+00:00",
          "2025-01-20T01:11:00+00:00",
          "2025-01-20T01:12:00+00:00",
          "2025-01-20T01:13:00+00:00",
          "2025-01-20T01:14:00+00:00",
          "2025-01-20T01:15:00+00:00",
          "2025-01-20T01:16:00+00:00",
          "2025-01-20T01:17:00+00:00",
          "2025-01-20T01:18:00+00:00",
          "2025-01-20T01:19:00+00:00",
          "2025-01-20T01:20:00+00:00",
          "2025-01-20T01:21:00+00:00",
          "2025-01-20T01:22:00+00:00",
          "2025-01-20T01:23:00+00:00",
          "2025-01-20T01:24:00+00:00",
          "2025-01-20T01:25:00+00:00",
          "2025-01-20T01:26:00+00:00",
          "2025-01-20T01:27:00+00:00",
          "2025-01-20T01:28:00+00:00",
          "2025-01-20T01:29:00+00:00",
          "2025-01-20T01:30:00+00:00",
          "2025-01-20T01:31:00+00:00",
          "2025-01-20T01:32:00+00:00",
          "2025-01-20T01:33:00+00:00",
          "2025-01-20T01:34:00+00:00",
          "2025-01-20T01:35:00+00:00",
          "2025-01-20T01:36:00+00:00",
          "2025-01-20T01:37:00+00:00",
          "2025-01-20T01:38:00+00:00",
          "2025-01-20T01:39:00+00:00",
          "2025-01-20T01:40:00+00:00",
          "2025-01-20T01:41:00+00:00",
          "2025-01-20T01:42:00+00:00",
          "2025-01-20T01:43:00+00:00",
          "2025-01-20T01:44:00+00:00",
          "2025-01-20T01:45:00+00:00",
          "2025-01-20T01:46:00+00:00",
          "2025-01-20T01:47:00+00:00",
          "2025-01-20T01:48:00+00:00",
          "2025-01-20T01:49:00+00:00",
          "2025-01-20T01:50:00+00:00",
          "2025-01-20T01:51:00+00:00",
          "2025-01-20T01:52:00+00:00",
          "2025-01-20T01:53:00+00:00",
          "2025-01-20T01:54:00+00:00",
          "2025-01-20T01:55:00+00:00",
          "2025-01-20T01:56:00+00:00",
          "2025-01-20T01:57:00+00:00",
          "2025-01-20T01:58:00+00:00",
          "2025-01-20T01:59:00+00:00",
          "2025-01-20T02:00:00+00:00",
          "2025-01-20T02:01:00+00:00",
          "2025-01-20T02:02:00+00:00",
          "2025-01-20T02:03:00+00:00",
          "2025-01-20T02:04:00+00:00",
          "2025-01-20T02:05:00+00:00",
          "2025-01-20T02:06:00+00:00",
          "2025-01-20T02:07:00+00:00",
          "2025-01-20T02:08:00+00:00",
          "2025-01-20T02:09:00+00:00",
          "2025-01-20T02:10:00+00:00",
          "2025-01-20T02:11:00+00:00",
          "2025-01-20T02:12:00+00:00",
          "2025-01-20T02:13:00+00:00",
          "2025-01-20T02:14:00+00:00",
          "2025-01-20T02:15:00+00:00",
          "2025-01-20T02:16:00+00:00",
          "2025-01-20T02:17:00+00:00",
          "2025-01-20T02:18:00+00:00",
          "2025-01-20T02:19:00+00:00",
          "2025-01-20T02:20:00+00:00",
          "2025-01-20T02:21:00+00:00",
          "2025-01-20T02:22:00+00:00",
          "2025-01-20T02:23:00+00:00",
          "2025-01-20T02:24:00+00:00",
          "2025-01-20T02:25:00+00:00",
          "2025-01-20T02:26:00+00:00",
          "2025-01-20T02:27:00+00:00",
          "2025-01-20T02:28:00+00:00",
          "2025-01-20T02:29:00+00:00",
          "2025-01-20T02:30:00+00:00",
          "2025-01-20T02:31:00+00:00",
          "2025-01-20T02:32:00+00:00",
          "2025-01-20T02:33:00+00:00",
          "2025-01-20T02:34:00+00:00",
          "2025-01-20T02:35:00+00:00",
          "2025-01-20T02:36:00+00:00",
          "2025-01-20T02:37:00+00:00",
          "2025-01-20T02:38:00+00:00",
          "2025-01-20T02:39:00+00:00",
          "2025-01-20T02:40:00+00:00",
          "2025-01-20T02:41:00+00:00",
          "2025-01-20T02:42:00+00:00",
          "2025-01-20T02:43:00+00:00",
          "2025-01-20T02:44:00+00:00",
          "2025-01-20T02:45:00+00:00",
          "2025-01-20T02:46:00+00:00",
          "2025-01-20T02:47:00+00:00",
          "2025-01-20T02:48:00+00:00",
          "2025-01-20T02:49:00+00:00",
          "2025-01-20T02:50:00+00:00",
          "2025-01-20T02:51:00+00:00",
          "2025-01-20T02:52:00+00:00",
          "2025-01-20T02:53:00+00:00",
          "2025-01-20T02:54:00+00:00",
          "2025-01-20T02:55:00+00:00",
          "2025-01-20T02:56:00+00:00",
          "2025-01-20T02:57:00+00:00",
          "2025-01-20T02:58:00+00:00",
          "2025-01-20T02:59:00+00:00",
          "2025-01-20T03:00:00+00:00",
          "2025-01-20T03:01:00+00:00",
          "2025-01-20T03:02:00+00:00",
          "2025-01-20T03:03:00+00:00",
          "2025-01-20T03:04:00+00:00",
          "2025-01-20T03:05:00+00:00",
          "2025-01-20T03:06:00+00:00",
          "2025-01-20T03:07:00+00:00",
          "2025-01-20T03:08:00+00:00",
          "2025-01-20T03:09:00+00:00",
          "2025-01-20T03:10:00+00:00",
          "2025-01-20T03:11:00+00:00",
          "2025-01-20T03:12:00+00:00",
          "2025-01-20T03:13:00+00:00",
          "2025-01-20T03:14:00+00:00",
          "2025-01-20T03:15:00+00:00",
          "2025-01-20T03:16:00+00:00",
          "2025-01-20T03:17:00+00:00",
          "2025-01-20T03:18:00+00:00",
          "2025-01-20T03:19:00+00:00",
          "2025-01-20T03:20:00+00:00",
          "2025-01-20T03:21:00+00:00",
          "2025-01-20T03:22:00+00:00",
          "2025-01-20T03:23:00+00:00",
          "2025-01-20T03:24:00+00:00",
          "2025-01-20T03:25:00+00:00",
          "2025-01-20T03:26:00+00:00",
          "2025-01-20T03:27:00+00:00",
          "2025-01-20T03:28:00+00:00",
          "2025-01-20T03:29:00+00:00",
          "2025-01-20T03:30:00+00:00",
          "2025-01-20T03:31:00+00:00",
          "2025-01-20T03:32:00+00:00",
          "2025-01-20T03:33:00+00:00",
          "2025-01-20T03:34:00+00:00",
          "2025-01-20T03:35:00+00:00",
          "2025-01-20T03:36:00+00:00",
          "2025-01-20T03:37:00+00:00",
          "2025-01-20T03:38:00+00:00",
          "2025-01-20T03:39:00+00:00",
          "2025-01-20T03:40:00+00:00",
          "2025-01-20T03:41:00+00:00",
          "2025-01-20T03:42:00+00:00",
          "2025-01-20T03:43:00+00:00",
          "2025-01-20T03:44:00+00:00",
          "2025-01-20T03:45:00+00:00",
          "2025-01-20T03:46:00+00:00",
          "2025-01-20T03:47:00+00:00",
          "2025-01-20T03:48:00+00:00",
          "2025-01-20T03:49:00+00:00",
          "2025-01-20T03:50:00+00:00",
          "2025-01-20T03:51:00+00:00",
          "2025-01-20T03:52:00+00:00",
          "2025-01-20T03:53:00+00:00",
          "2025-01-20T03:54:00+00:00",
          "2025-01-20T03:55:00+00:00",
          "2025-01-20T03:56:00+00:00",
          "2025-01-20T03:57:00+00:00",
          "2025-01-20T03:58:00+00:00",
          "2025-01-20T03:59:00+00:00",
          "2025-01-20T04:00:00+00:00",
          "2025-01-20T04:01:00+00:00",
          "2025-01-20T04:02:00+00:00",
          "2025-01-20T04:03:00+00:00",
          "2025-01-20T04:04:00+00:00",
          "2025-01-20T04:05:00+00:00",
          "2025-01-20T04:06:00+00:00",
          "2025-01-20T04:07:00+00:00",
          "2025-01-20T04:08:00+00:00",
          "2025-01-20T04:09:00+00:00",
          "2025-01-20T04:10:00+00:00",
          "2025-01-20T04:11:00+00:00",
          "2025-01-20T04:12:00+00:00",
          "2025-01-20T04:13:00+00:00",
          "2025-01-20T04:14:00+00:00",
          "2025-01-20T04:15:00+00:00",
          "2025-01-20T04:16:00+00:00",
          "2025-01-20T04:17:00+00:00",
          "2025-01-20T04:18:00+00:00",
          "2025-01-20T04:19:00+00:00",
          "2025-01-20T04:20:00+00:00",
          "2025-01-20T04:21:00+00:00",
          "2025-01-20T04:22:00+00:00",
          "2025-01-20T04:23:00+00:00",
          "2025-01-20T04:24:00+00:00",
          "2025-01-20T04:25:00+00:00",
          "2025-01-20T04:26:00+00:00",
          "2025-01-20T04:27:00+00:00",
          "2025-01-20T04:28:00+00:00",
          "2025-01-20T04:29:00+00:00",
          "2025-01-20T04:30:00+00:00",
          "2025-01-20T04:31:00+00:00",
          "2025-01-20T04:32:00+00:00",
          "2025-01-20T04:33:00+00:00",
          "2025-01-20T04:34:00+00:00",
          "2025-01-20T04:35:00+00:00",
          "2025-01-20T04:36:00+00:00",
          "2025-01-20T04:37:00+00:00",
          "2025-01-20T04:38:00+00:00",
          "2025-01-20T04:39:00+00:00",
          "2025-01-20T04:40:00+00:00",
          "2025-01-20T04:41:00+00:00",
          "2025-01-20T04:42:00+00:00",
          "2025-01-20T04:43:00+00:00",
          "2025-01-20T04:44:00+00:00",
          "2025-01-20T04:45:00+00:00",
          "2025-01-20T04:46:00+00:00",
          "2025-01-20T04:47:00+00:00",
          "2025-01-20T04:48:00+00:00",
          "2025-01-20T04:49:00+00:00",
          "2025-01-20T04:50:00+00:00",
          "2025-01-20T04:51:00+00:00",
          "2025-01-20T04:52:00+00:00",
          "2025-01-20T04:53:00+00:00",
          "2025-01-20T04:54:00+00:00",
          "2025-01-20T04:55:00+00:00",
          "2025-01-20T04:56:00+00:00",
          "2025-01-20T04:57:00+00:00",
          "2025-01-20T04:58:00+00:00",
          "2025-01-20T04:59:00+00:00",
          "2025-01-20T05:00:00+00:00",
          "2025-01-20T05:01:00+00:00",
          "2025-01-20T05:02:00+00:00",
          "2025-01-20T05:03:00+00:00",
          "2025-01-20T05:04:00+00:00",
          "2025-01-20T05:05:00+00:00",
          "2025-01-20T05:06:00+00:00",
          "2025-01-20T05:07:00+00:00",
          "2025-01-20T05:08:00+00:00",
          "2025-01-20T05:09:00+00:00",
          "2025-01-20T05:10:00+00:00",
          "2025-01-20T05:11:00+00:00",
          "2025-01-20T05:12:00+00:00",
          "2025-01-20T05:13:00+00:00",
          "2025-01-20T05:14:00+00:00",
          "2025-01-20T05:15:00+00:00",
          "2025-01-20T05:16:00+00:00",
          "2025-01-20T05:17:00+00:00",
          "2025-01-20T05:18:00+00:00",
          "2025-01-20T05:19:00+00:00",
          "2025-01-20T05:20:00+00:00",
          "2025-01-20T05:21:00+00:00",
          "2025-01-20T05:22:00+00:00",
          "2025-01-20T05:23:00+00:00",
          "2025-01-20T05:24:00+00:00",
          "2025-01-20T05:25:00+00:00",
          "2025-01-20T05:26:00+00:00",
          "2025-01-20T05:27:00+00:00",
          "2025-01-20T05:28:00+00:00",
          "2025-01-20T05:29:00+00:00",
          "2025-01-20T05:30:00+00:00",
          "2025-01-20T05:31:00+00:00",
          "2025-01-20T05:32:00+00:00",
          "2025-01-20T05:33:00+00:00",
          "2025-01-20T05:34:00+00:00",
          "2025-01-20T05:35:00+00:00",
          "2025-01-20T05:36:00+00:00",
          "2025-01-20T05:37:00+00:00",
          "2025-01-20T05:38:00+00:00",
          "2025-01-20T05:39:00+00:00",
          "2025-01-20T05:40:00+00:00",
          "2025-01-20T05:41:00+00:00",
          "2025-01-20T05:42:00+00:00",
          "2025-01-20T05:43:00+00:00",
          "2025-01-20T05:44:00+00:00",
          "2025-01-20T05:45:00+00:00",
          "2025-01-20T05:46:00+00:00",
          "2025-01-20T05:47:00+00:00",
          "2025-01-20T05:48:00+00:00",
          "2025-01-20T05:49:00+00:00",
          "2025-01-20T05:50:00+00:00",
          "2025-01-20T05:51:00+00:00",
          "2025-01-20T05:52:00+00:00",
          "2025-01-20T05:53:00+00:00",
          "2025-01-20T05:54:00+00:00",
          "2025-01-20T05:55:00+00:00",
          "2025-01-20T05:56:00+00:00",
          "2025-01-20T05:57:00+00:00",
          "2025-01-20T05:58:00+00:00",
          "2025-01-20T05:59:00+00:00",
          "2025-01-20T06:00:00+00:00",
          "2025-01-20T06:01:00+00:00",
          "2025-01-20T06:02:00+00:00",
          "2025-01-20T06:03:00+00:00",
          "2025-01-20T06:04:00+00:00",
          "2025-01-20T06:05:00+00:00",
          "2025-01-20T06:06:00+00:00",
          "2025-01-20T06:07:00+00:00",
          "2025-01-20T06:08:00+00:00",
          "2025-01-20T06:09:00+00:00",
          "2025-01-20T06:10:00+00:00",
          "2025-01-20T06:11:00+00:00",
          "2025-01-20T06:12:00+00:00",
          "2025-01-20T06:13:00+00:00",
          "2025-01-20T06:14:00+00:00",
          "2025-01-20T06:15:00+00:00",
          "2025-01-20T06:16:00+00:00",
          "2025-01-20T06:17:00+00:00",
          "2025-01-20T06:18:00+00:00",
          "2025-01-20T06:19:00+00:00",
          "2025-01-20T06:20:00+00:00",
          "2025-01-20T06:21:00+00:00",
          "2025-01-20T06:22:00+00:00",
          "2025-01-20T06:23:00+00:00",
          "2025-01-20T06:24:00+00:00",
          "2025-01-20T06:25:00+00:00",
          "2025-01-20T06:26:00+00:00",
          "2025-01-20T06:27:00+00:00",
          "2025-01-20T06:28:00+00:00",
          "2025-01-20T06:29:00+00:00",
          "2025-01-20T06:30:00+00:00",
          "2025-01-20T06:31:00+00:00",
          "2025-01-20T06:32:00+00:00",
          "2025-01-20T06:33:00+00:00",
          "2025-01-20T06:34:00+00:00",
          "2025-01-20T06:35:00+00:00",
          "2025-01-20T06:36:00+00:00",
          "2025-01-20T06:37:00+00:00",
          "2025-01-20T06:38:00+00:00",
          "2025-01-20T06:39:00+00:00",
          "2025-01-20T06:40:00+00:00",
          "2025-01-20T06:41:00+00:00",
          "2025-01-20T06:42:00+00:00",
          "2025-01-20T06:43:00+00:00",
          "2025-01-20T06:44:00+00:00",
          "2025-01-20T06:45:00+00:00",
          "2025-01-20T06:46:00+00:00",
          "2025-01-20T06:47:00+00:00",
          "2025-01-20T06:48:00+00:00",
          "2025-01-20T06:49:00+00:00",
          "2025-01-20T06:50:00+00:00",
          "2025-01-20T06:51:00+00:00",
          "2025-01-20T06:52:00+00:00",
          "2025-01-20T06:53:00+00:00",
          "2025-01-20T06:54:00+00:00",
          "2025-01-20T06:55:00+00:00",
          "2025-01-20T06:56:00+00:00",
          "2025-01-20T06:57:00+00:00",
          "2025-01-20T06:58:00+00:00",
          "2025-01-20T06:59:00+00:00",
          "2025-01-20T07:00:00+00:00",
          "2025-01-20T07:01:00+00:00",
          "2025-01-20T07:02:00+00:00",
          "2025-01-20T07:03:00+00:00",
          "2025-01-20T07:04:00+00:00",
          "2025-01-20T07:05:00+00:00",
          "2025-01-20T07:06:00+00:00",
          "2025-01-20T07:07:00+00:00",
          "2025-01-20T07:08:00+00:00",
          "2025-01-20T07:09:00+00:00",
          "2025-01-20T07:10:00+00:00",
          "2025-01-20T07:11:00+00:00",
          "2025-01-20T07:12:00+00:00",
          "2025-01-20T07:13:00+00:00",
          "2025-01-20T07:14:00+00:00",
          "2025-01-20T07:15:00+00:00",
          "2025-01-20T07:16:00+00:00",
          "2025-01-20T07:17:00+00:00",
          "2025-01-20T07:18:00+00:00",
          "2025-01-20T07:19:00+00:00",
          "2025-01-20T07:20:00+00:00",
          "2025-01-20T07:21:00+00:00",
          "2025-01-20T07:22:00+00:00",
          "2025-01-20T07:23:00+00:00",
          "2025-01-20T07:24:00+00:00",
          "2025-01-20T07:25:00+00:00",
          "2025-01-20T07:26:00+00:00",
          "2025-01-20T07:27:00+00:00",
          "2025-01-20T07:28:00+00:00",
          "2025-01-20T07:29:00+00:00",
          "2025-01-20T07:30:00+00:00",
          "2025-01-20T07:31:00+00:00",
          "2025-01-20T07:32:00+00:00",
          "2025-01-20T07:33:00+00:00",
          "2025-01-20T07:34:00+00:00",
          "2025-01-20T07:35:00+00:00",
          "2025-01-20T07:36:00+00:00",
          "2025-01-20T07:37:00+00:00",
          "2025-01-20T07:38:00+00:00",
          "2025-01-20T07:39:00+00:00",
          "2025-01-20T07:40:00+00:00",
          "2025-01-20T07:41:00+00:00",
          "2025-01-20T07:42:00+00:00",
          "2025-01-20T07:43:00+00:00",
          "2025-01-20T07:44:00+00:00",
          "2025-01-20T07:45:00+00:00",
          "2025-01-20T07:46:00+00:00",
          "2025-01-20T07:47:00+00:00",
          "2025-01-20T07:48:00+00:00",
          "2025-01-20T07:49:00+00:00",
          "2025-01-20T07:50:00+00:00",
          "2025-01-20T07:51:00+00:00",
          "2025-01-20T07:52:00+00:00",
          "2025-01-20T07:53:00+00:00",
          "2025-01-20T07:54:00+00:00",
          "2025-01-20T07:55:00+00:00",
          "2025-01-20T07:56:00+00:00",
          "2025-01-20T07:57:00+00:00",
          "2025-01-20T07:58:00+00:00",
          "2025-01-20T07:59:00+00:00",
          "2025-01-20T08:00:00+00:00",
          "2025-01-20T08:01:00+00:00",
          "2025-01-20T08:02:00+00:00",
          "2025-01-20T08:03:00+00:00",
          "2025-01-20T08:04:00+00:00",
          "2025-01-20T08:05:00+00:00",
          "2025-01-20T08:06:00+00:00",
          "2025-01-20T08:07:00+00:00",
          "2025-01-20T08:08:00+00:00",
          "2025-01-20T08:09:00+00:00",
          "2025-01-20T08:10:00+00:00",
          "2025-01-20T08:11:00+00:00",
          "2025-01-20T08:12:00+00:00",
          "2025-01-20T08:13:00+00:00",
          "2025-01-20T08:14:00+00:00",
          "2025-01-20T08:15:00+00:00",
          "2025-01-20T08:16:00+00:00",
          "2025-01-20T08:17:00+00:00",
          "2025-01-20T08:18:00+00:00",
          "2025-01-20T08:19:00+00:00",
          "2025-01-20T08:20:00+00:00",
          "2025-01-20T08:21:00+00:00",
          "2025-01-20T08:22:00+00:00",
          "2025-01-20T08:23:00+00:00",
          "2025-01-20T08:24:00+00:00",
          "2025-01-20T08:25:00+00:00",
          "2025-01-20T08:26:00+00:00",
          "2025-01-20T08:27:00+00:00",
          "2025-01-20T08:28:00+00:00",
          "2025-01-20T08:29:00+00:00",
          "2025-01-20T08:30:00+00:00",
          "2025-01-20T08:31:00+00:00",
          "2025-01-20T08:32:00+00:00",
          "2025-01-20T08:33:00+00:00",
          "2025-01-20T08:34:00+00:00",
          "2025-01-20T08:35:00+00:00",
          "2025-01-20T08:36:00+00:00",
          "2025-01-20T08:37:00+00:00",
          "2025-01-20T08:38:00+00:00",
          "2025-01-20T08:39:00+00:00",
          "2025-01-20T08:40:00+00:00",
          "2025-01-20T08:41:00+00:00",
          "2025-01-20T08:42:00+00:00",
          "2025-01-20T08:43:00+00:00",
          "2025-01-20T08:44:00+00:00",
          "2025-01-20T08:45:00+00:00",
          "2025-01-20T08:46:00+00:00",
          "2025-01-20T08:47:00+00:00",
          "2025-01-20T08:48:00+00:00",
          "2025-01-20T08:49:00+00:00",
          "2025-01-20T08:50:00+00:00",
          "2025-01-20T08:51:00+00:00",
          "2025-01-20T08:52:00+00:00",
          "2025-01-20T08:53:00+00:00",
          "2025-01-20T08:54:00+00:00",
          "2025-01-20T08:55:00+00:00",
          "2025-01-20T08:56:00+00:00",
          "2025-01-20T08:57:00+00:00",
          "2025-01-20T08:58:00+00:00",
          "2025-01-20T08:59:00+00:00",
          "2025-01-20T09:00:00+00:00",
          "2025-01-20T09:01:00+00:00",
          "2025-01-20T09:02:00+00:00",
          "2025-01-20T09:03:00+00:00",
          "2025-01-20T09:04:00+00:00",
          "2025-01-20T09:05:00+00:00",
          "2025-01-20T09:06:00+00:00",
          "2025-01-20T09:07:00+00:00",
          "2025-01-20T09:08:00+00:00",
          "2025-01-20T09:09:00+00:00",
          "2025-01-20T09:10:00+00:00",
          "2025-01-20T09:11:00+00:00",
          "2025-01-20T09:12:00+00:00",
          "2025-01-20T09:13:00+00:00",
          "2025-01-20T09:14:00+00:00",
          "2025-01-20T09:15:00+00:00",
          "2025-01-20T09:16:00+00:00",
          "2025-01-20T09:17:00+00:00",
          "2025-01-20T09:18:00+00:00",
          "2025-01-20T09:19:00+00:00",
          "2025-01-20T09:20:00+00:00",
          "2025-01-20T09:21:00+00:00",
          "2025-01-20T09:22:00+00:00",
          "2025-01-20T09:23:00+00:00",
          "2025-01-20T09:24:00+00:00",
          "2025-01-20T09:25:00+00:00",
          "2025-01-20T09:26:00+00:00",
          "2025-01-20T09:27:00+00:00",
          "2025-01-20T09:28:00+00:00",
          "2025-01-20T09:29:00+00:00",
          "2025-01-20T09:30:00+00:00",
          "2025-01-20T09:31:00+00:00",
          "2025-01-20T09:32:00+00:00",
          "2025-01-20T09:33:00+00:00",
          "2025-01-20T09:34:00+00:00",
          "2025-01-20T09:35:00+00:00",
          "2025-01-20T09:36:00+00:00",
          "2025-01-20T09:37:00+00:00",
          "2025-01-20T09:38:00+00:00",
          "2025-01-20T09:39:00+00:00",
          "2025-01-20T09:40:00+00:00",
          "2025-01-20T09:41:00+00:00",
          "2025-01-20T09:42:00+00:00",
          "2025-01-20T09:43:00+00:00",
          "2025-01-20T09:44:00+00:00",
          "2025-01-20T09:45:00+00:00",
          "2025-01-20T09:46:00+00:00",
          "2025-01-20T09:47:00+00:00",
          "2025-01-20T09:48:00+00:00",
          "2025-01-20T09:49:00+00:00",
          "2025-01-20T09:50:00+00:00",
          "2025-01-20T09:51:00+00:00",
          "2025-01-20T09:52:00+00:00",
          "2025-01-20T09:53:00+00:00",
          "2025-01-20T09:54:00+00:00",
          "2025-01-20T09:55:00+00:00",
          "2025-01-20T09:56:00+00:00",
          "2025-01-20T09:57:00+00:00",
          "2025-01-20T09:58:00+00:00",
          "2025-01-20T09:59:00+00:00",
          "2025-01-20T10:00:00+00:00",
          "2025-01-20T10:01:00+00:00",
          "2025-01-20T10:02:00+00:00",
          "2025-01-20T10:03:00+00:00",
          "2025-01-20T10:04:00+00:00",
          "2025-01-20T10:05:00+00:00",
          "2025-01-20T10:06:00+00:00",
          "2025-01-20T10:07:00+00:00",
          "2025-01-20T10:08:00+00:00",
          "2025-01-20T10:09:00+00:00",
          "2025-01-20T10:10:00+00:00",
          "2025-01-20T10:11:00+00:00",
          "2025-01-20T10:12:00+00:00",
          "2025-01-20T10:13:00+00:00",
          "2025-01-20T10:14:00+00:00",
          "2025-01-20T10:15:00+00:00",
          "2025-01-20T10:16:00+00:00",
          "2025-01-20T10:17:00+00:00",
          "2025-01-20T10:18:00+00:00",
          "2025-01-20T10:19:00+00:00",
          "2025-01-20T10:20:00+00:00",
          "2025-01-20T10:21:00+00:00",
          "2025-01-20T10:22:00+00:00",
          "2025-01-20T10:23:00+00:00",
          "2025-01-20T10:24:00+00:00",
          "2025-01-20T10:25:00+00:00",
          "2025-01-20T10:26:00+00:00",
          "2025-01-20T10:27:00+00:00",
          "2025-01-20T10:28:00+00:00",
          "2025-01-20T10:29:00+00:00",
          "2025-01-20T10:30:00+00:00",
          "2025-01-20T10:31:00+00:00"
         ],
         "type": "candlestick"
        }
       ],
       "layout": {
        "template": {
         "data": {
          "barpolar": [
           {
            "marker": {
             "line": {
              "color": "white",
              "width": 0.5
             },
             "pattern": {
              "fillmode": "overlay",
              "size": 10,
              "solidity": 0.2
             }
            },
            "type": "barpolar"
           }
          ],
          "bar": [
           {
            "error_x": {
             "color": "#2a3f5f"
            },
            "error_y": {
             "color": "#2a3f5f"
            },
            "marker": {
             "line": {
              "color": "white",
              "width": 0.5
             },
             "pattern": {
              "fillmode": "overlay",
              "size": 10,
              "solidity": 0.2
             }
            },
            "type": "bar"
           }
          ],
          "carpet": [
           {
            "aaxis": {
             "endlinecolor": "#2a3f5f",
             "gridcolor": "#C8D4E3",
             "linecolor": "#C8D4E3",
             "minorgridcolor": "#C8D4E3",
             "startlinecolor": "#2a3f5f"
            },
            "baxis": {
             "endlinecolor": "#2a3f5f",
             "gridcolor": "#C8D4E3",
             "linecolor": "#C8D4E3",
             "minorgridcolor": "#C8D4E3",
             "startlinecolor": "#2a3f5f"
            },
            "type": "carpet"
           }
          ],
          "choropleth": [
           {
            "colorbar": {
             "outlinewidth": 0,
             "ticks": ""
            },
            "type": "choropleth"
           }
          ],
          "contourcarpet": [
           {
            "colorbar": {
             "outlinewidth": 0,
             "ticks": ""
            },
            "type": "contourcarpet"
           }
          ],
          "contour": [
           {
            "colorbar": {
             "outlinewidth": 0,
             "ticks": ""
            },
            "colorscale": [
             [
              0.0,
              "#0d0887"
             ],
             [
              0.1111111111111111,
              "#46039f"
             ],
             [
              0.2222222222222222,
              "#7201a8"
             ],
             [
              0.3333333333333333,
              "#9c179e"
             ],
             [
              0.4444444444444444,
              "#bd3786"
             ],
             [
              0.5555555555555556,
              "#d8576b"
             ],
             [
              0.6666666666666666,
              "#ed7953"
             ],
             [
              0.7777777777777778,
              "#fb9f3a"
             ],
             [
              0.8888888888888888,
              "#fdca26"
             ],
             [
              1.0,
              "#f0f921"
             ]
            ],
            "type": "contour"
           }
          ],
          "heatmap": [
           {
            "colorbar": {
             "outlinewidth": 0,
             "ticks": ""
            },
            "colorscale": [
             [
              0.0,
              "#0d0887"
             ],
             [
              0.1111111111111111,
              "#46039f"
             ],
             [
              0.2222222222222222,
              "#7201a8"
             ],
             [
              0.3333333333333333,
              "#9c179e"
             ],
             [
              0.4444444444444444,
              "#bd3786"
             ],
             [
              0.5555555555555556,
              "#d8576b"
             ],
             [
              0.6666666666666666,
              "#ed7953"
             ],
             [
              0.7777777777777778,
              "#fb9f3a"
             ],
             [
              0.8888888888888888,
              "#fdca26"
             ],
             [
              1.0,
              "#f0f921"
             ]
            ],
            "type": "heatmap"
           }
          ],
          "histogram2dcontour": [
           {
            "colorbar": {
             "outlinewidth": 0,
             "ticks": ""
            },
            "colorscale": [
             [
              0.0,
              "#0d0887"
             ],
             [
              0.1111111111111111,
              "#46039f"
             ],
             [
              0.2222222222222222,
              "#7201a8"
             ],
             [
              0.3333333333333333,
              "#9c179e"
             ],
             [
              0.4444444444444444,
              "#bd3786"
             ],
             [
              0.5555555555555556,
              "#d8576b"
             ],
             [
              0.6666666666666666,
              "#ed7953"
             ],
             [
              0.7777777777777778,
              "#fb9f3a"
             ],
             [
              0.8888888888888888,
              "#fdca26"
             ],
             [
              1.0,
              "#f0f921"
             ]
            ],
            "type": "histogram2dcontour"
           }
          ],
          "histogram2d": [
           {
            "colorbar": {
             "outlinewidth": 0,
             "ticks": ""
            },
            "colorscale": [
             [
              0.0,
              "#0d0887"
             ],
             [
              0.1111111111111111,
              "#46039f"
             ],
             [
              0.2222222222222222,
              "#7201a8"
             ],
             [
              0.3333333333333333,
              "#9c179e"
             ],
             [
              0.4444444444444444,
              "#bd3786"
             ],
             [
              0.5555555555555556,
              "#d8576b"
             ],
             [
              0.6666666666666666,
              "#ed7953"
             ],
             [
              0.7777777777777778,
              "#fb9f3a"
             ],
             [
              0.8888888888888888,
              "#fdca26"
             ],
             [
              1.0,
              "#f0f921"
             ]
            ],
            "type": "histogram2d"
           }
          ],
          "histogram": [
           {
            "marker": {
             "pattern": {
              "fillmode": "overlay",
              "size": 10,
              "solidity": 0.2
             }
            },
            "type": "histogram"
           }
          ],
          "mesh3d": [
           {
            "colorbar": {
             "outlinewidth": 0,
             "ticks": ""
            },
            "type": "mesh3d"
           }
          ],
          "parcoords": [
           {
            "line": {
             "colorbar": {
              "outlinewidth": 0,
              "ticks": ""
             }
            },
            "type": "parcoords"
           }
          ],
          "pie": [
           {
            "automargin": true,
            "type": "pie"
           }
          ],
          "scatter3d": [
           {
            "line": {
             "colorbar": {
              "outlinewidth": 0,
              "ticks": ""
             }
            },
            "marker": {
             "colorbar": {
              "outlinewidth": 0,
              "ticks": ""
             }
            },
            "type": "scatter3d"
           }
          ],
          "scattercarpet": [
           {
            "marker": {
             "colorbar": {
              "outlinewidth": 0,
              "ticks": ""
             }
            },
            "type": "scattercarpet"
           }
          ],
          "scattergeo": [
           {
            "marker": {
             "colorbar": {
              "outlinewidth": 0,
              "ticks": ""
             }
            },
            "type": "scattergeo"
           }
          ],
          "scattergl": [
           {
            "marker": {
             "colorbar": {
              "outlinewidth": 0,
              "ticks": ""
             }
            },
            "type": "scattergl"
           }
          ],
          "scattermapbox": [
           {
            "marker": {
             "colorbar": {
              "outlinewidth": 0,
              "ticks": ""
             }
            },
            "type": "scattermapbox"
           }
          ],
          "scattermap": [
           {
            "marker": {
             "colorbar": {
              "outlinewidth": 0,
              "ticks": ""
             }
            },
            "type": "scattermap"
           }
          ],
          "scatterpolargl": [
           {
            "marker": {
             "colorbar": {
              "outlinewidth": 0,
              "ticks": ""
             }
            },
            "type": "scatterpolargl"
           }
          ],
          "scatterpolar": [
           {
            "marker": {
             "colorbar": {
              "outlinewidth": 0,
              "ticks": ""
             }
            },
            "type": "scatterpolar"
           }
          ],
          "scatter": [
           {
            "fillpattern": {
             "fillmode": "overlay",
             "size": 10,
             "solidity": 0.2
            },
            "type": "scatter"
           }
          ],
          "scatterternary": [
           {
            "marker": {
             "colorbar": {
              "outlinewidth": 0,
              "ticks": ""
             }
            },
            "type": "scatterternary"
           }
          ],
          "surface": [
           {
            "colorbar": {
             "outlinewidth": 0,
             "ticks": ""
            },
            "colorscale": [
             [
              0.0,
              "#0d0887"
             ],
             [
              0.1111111111111111,
              "#46039f"
             ],
             [
              0.2222222222222222,
              "#7201a8"
             ],
             [
              0.3333333333333333,
              "#9c179e"
             ],
             [
              0.4444444444444444,
              "#bd3786"
             ],
             [
              0.5555555555555556,
              "#d8576b"
             ],
             [
              0.6666666666666666,
              "#ed7953"
             ],
             [
              0.7777777777777778,
              "#fb9f3a"
             ],
             [
              0.8888888888888888,
              "#fdca26"
             ],
             [
              1.0,
              "#f0f921"
             ]
            ],
            "type": "surface"
           }
          ],
          "table": [
           {
            "cells": {
             "fill": {
              "color": "#EBF0F8"
             },
             "line": {
              "color": "white"
             }
            },
            "header": {
             "fill": {
              "color": "#C8D4E3"
             },
             "line": {
              "color": "white"
             }
            },
            "type": "table"
           }
          ]
         },
         "layout": {
          "annotationdefaults": {
           "arrowcolor": "#2a3f5f",
           "arrowhead": 0,
           "arrowwidth": 1
          },
          "autotypenumbers": "strict",
          "coloraxis": {
           "colorbar": {
            "outlinewidth": 0,
            "ticks": ""
           }
          },
          "colorscale": {
           "diverging": [
            [
             0,
             "#8e0152"
            ],
            [
             0.1,
             "#c51b7d"
            ],
            [
             0.2,
             "#de77ae"
            ],
            [
             0.3,
             "#f1b6da"
            ],
            [
             0.4,
             "#fde0ef"
            ],
            [
             0.5,
             "#f7f7f7"
            ],
            [
             0.6,
             "#e6f5d0"
            ],
            [
             0.7,
             "#b8e186"
            ],
            [
             0.8,
             "#7fbc41"
            ],
            [
             0.9,
             "#4d9221"
            ],
            [
             1,
             "#276419"
            ]
           ],
           "sequential": [
            [
             0.0,
             "#0d0887"
            ],
            [
             0.1111111111111111,
             "#46039f"
            ],
            [
             0.2222222222222222,
             "#7201a8"
            ],
            [
             0.3333333333333333,
             "#9c179e"
            ],
            [
             0.4444444444444444,
             "#bd3786"
            ],
            [
             0.5555555555555556,
             "#d8576b"
            ],
            [
             0.6666666666666666,
             "#ed7953"
            ],
            [
             0.7777777777777778,
             "#fb9f3a"
            ],
            [
             0.8888888888888888,
             "#fdca26"
            ],
            [
             1.0,
             "#f0f921"
            ]
           ],
           "sequentialminus": [
            [
             0.0,
             "#0d0887"
            ],
            [
             0.1111111111111111,
             "#46039f"
            ],
            [
             0.2222222222222222,
             "#7201a8"
            ],
            [
             0.3333333333333333,
             "#9c179e"
            ],
            [
             0.4444444444444444,
             "#bd3786"
            ],
            [
             0.5555555555555556,
             "#d8576b"
            ],
            [
             0.6666666666666666,
             "#ed7953"
            ],
            [
             0.7777777777777778,
             "#fb9f3a"
            ],
            [
             0.8888888888888888,
             "#fdca26"
            ],
            [
             1.0,
             "#f0f921"
            ]
           ]
          },
          "colorway": [
           "#636efa",
           "#EF553B",
           "#00cc96",
           "#ab63fa",
           "#FFA15A",
           "#19d3f3",
           "#FF6692",
           "#B6E880",
           "#FF97FF",
           "#FECB52"
          ],
          "font": {
           "color": "#2a3f5f"
          },
          "geo": {
           "bgcolor": "white",
           "lakecolor": "white",
           "landcolor": "white",
           "showlakes": true,
           "showland": true,
           "subunitcolor": "#C8D4E3"
          },
          "hoverlabel": {
           "align": "left"
          },
          "hovermode": "closest",
          "mapbox": {
           "style": "light"
          },
          "paper_bgcolor": "white",
          "plot_bgcolor": "white",
          "polar": {
           "angularaxis": {
            "gridcolor": "#EBF0F8",
            "linecolor": "#EBF0F8",
            "ticks": ""
           },
           "bgcolor": "white",
           "radialaxis": {
            "gridcolor": "#EBF0F8",
            "linecolor": "#EBF0F8",
            "ticks": ""
           }
          },
          "scene": {
           "xaxis": {
            "backgroundcolor": "white",
            "gridcolor": "#DFE8F3",
            "gridwidth": 2,
            "linecolor": "#EBF0F8",
            "showbackground": true,
            "ticks": "",
            "zerolinecolor": "#EBF0F8"
           },
           "yaxis": {
            "backgroundcolor": "white",
            "gridcolor": "#DFE8F3",
            "gridwidth": 2,
            "linecolor": "#EBF0F8",
            "showbackground": true,
            "ticks": "",
            "zerolinecolor": "#EBF0F8"
           },
           "zaxis": {
            "backgroundcolor": "white",
            "gridcolor": "#DFE8F3",
            "gridwidth": 2,
            "linecolor": "#EBF0F8",
            "showbackground": true,
            "ticks": "",
            "zerolinecolor": "#EBF0F8"
           }
          },
          "shapedefaults": {
           "line": {
            "color": "#2a3f5f"
           }
          },
          "ternary": {
           "aaxis": {
            "gridcolor": "#DFE8F3",
            "linecolor": "#A2B1C6",
            "ticks": ""
           },
           "baxis": {
            "gridcolor": "#DFE8F3",
            "linecolor": "#A2B1C6",
            "ticks": ""
           },
           "bgcolor": "white",
           "caxis": {
            "gridcolor": "#DFE8F3",
            "linecolor": "#A2B1C6",
            "ticks": ""
           }
          },
          "title": {
           "x": 0.05
          },
          "xaxis": {
           "automargin": true,
           "gridcolor": "#EBF0F8",
           "linecolor": "#EBF0F8",
           "ticks": "",
           "title": {
            "standoff": 15
           },
           "zerolinecolor": "#EBF0F8",
           "zerolinewidth": 2
          },
          "yaxis": {
           "automargin": true,
           "gridcolor": "#EBF0F8",
           "linecolor": "#EBF0F8",
           "ticks": "",
           "title": {
            "standoff": 15
           },
           "zerolinecolor": "#EBF0F8",
           "zerolinewidth": 2
          }
         }
        },
        "xaxis": {
         "rangeslider": {
          "visible": false
         },
         "title": {
          "text": "Time"
         },
         "range": [
          "2025-01-19T22:32:00+00:00",
          "2025-01-20T10:31:00+00:00"
         ]
        },
        "title": {
         "text": "Best 12-Hour Fragment – HighVol_UpTrend"
        },
        "yaxis": {
         "title": {
          "text": "Price"
         }
        },
        "height": 600,
        "hovermode": "x unified"
       },
       "config": {
        "plotlyServerURL": "https://plot.ly"
       }
      }
     },
     "metadata": {},
     "output_type": "display_data"
    },
    {
     "data": {
      "application/vnd.plotly.v1+json": {
       "data": [
        {
         "close": {
          "dtype": "f8",
          "bdata": "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"
         },
         "decreasing": {
          "line": {
           "color": "red"
          }
         },
         "high": {
          "dtype": "f8",
          "bdata": "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"
         },
         "increasing": {
          "line": {
           "color": "lime"
          }
         },
         "low": {
          "dtype": "f8",
          "bdata": "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"
         },
         "name": "Price",
         "open": {
          "dtype": "f8",
          "bdata": "w/UoXHM2+kDXo3A9VjP6QAAAAABQMvpAcT0K108y+kAAAAAAUDL6QIXrUbiqMvpAhetRuKoy+kD2KFyPqjL6QPYoXI+qMvpA9ihcj6oy+kBSuB6FUzL6QAAAAADAMfpAAAAAAMAx+kAAAAAAwDH6QAAAAADAMfpAAAAAAEAx+kAAAAAAsDD6QK5H4XrwL/pArkfhevAv+kAfhetR8C/6QB+F61HwL/pAH4XrUfAv+kBmZmZmyi/6QNejcD3KL/pAKVyPwokx+kAK16NwLTP6QMP1KFw3M/pAMzMzMzcz+kAAAAAAYDP6QAAAAABgM/pAAAAAAGAz+kBxPQrX+zL6QHE9Ctf7MvpAcT0K1/sy+kDhehSu+zL6QIXrUbiqMvpAhetRuKoy+kCkcD0KQzL6QKRwPQpDMvpAcT0K1/sy+kBxPQrX+zL6QHE9Ctf7MvpAcT0K1/sy+kDhehSu+zL6QHE9Ctf7MvpA4XoUrvsy+kC4HoXrgTP6QClcj8KBM/pASOF6FLY0+kBI4XoUtjT6QLgeheu1NPpASOF6FLY0+kCPwvUo4DP6QAAAAABAMvpAj8L1KEAy+kCPwvUoQDL6QI/C9ShAMvpAAAAAAEAy+kCPwvUoQDL6QAAAAABAMvpAAAAAAEAy+kCPwvUoQDL6QI/C9ShAMvpAH4XrUbAx+kDNzMzMHDH6QD0K16McMfpAPQrXoxwx+kAK16NwyS/6QArXo3DJL/pASOF6FGow+kA9CtejQDD6QHE9CteTL/pAAAAAAHAv+kAAAAAAcC/6QLgehes5L/pAuB6F6zkv+kDsUbgeIS/6QFyPwvUgL/pAXI/C9SAv+kBSuB6FHy/6QMP1KFwfL/pAUrgehR8v+kDD9ShcHy/6QFK4HoUfL/pAmpmZmQku+kApXI/CCS76QJqZmZkJLvpAmpmZmQku+kBxPQrXmy36QEjhehQ2LfpASOF6FDYt+kCF61G4Li36QIXrUbguLfpAhetRuC4t+kCF61G4Li36QBSuR+EuLfpAhetRuC4t+kAUrkfhLi36QIXrUbguLfpAFK5H4S4t+kBcj8L1KC36QMP1KFxjK/pAUrgehWMr+kAfhetRbCr6QEjhehQqKfpASOF6FCop+kCPwvUo/Cv6QFK4HoXPK/pArkfheiQr+kA9CtejJCv6QEjhehSiK/pASOF6FKIr+kCuR+F66Cz6QFyPwvU4LfpA7FG4Hjkt+kDsUbgetS36QFyPwvW0LfpAZmZmZjYu+kBmZmZmNi76QOxRuB61LfpA7FG4HrUt+kBcj8L1tC36QM3MzMwMLfpAzczMzAwt+kBcj8L1DC36QAAAAACALPpAw/UoXDss+kAzMzMzOyz6QDMzMzM7LPpAw/UoXDss+kAzMzMzOyz6QM3MzMwMLfpAKVyPwt0r+kBxPQrXNyv6QHE9Ctc3K/pAcT0K1zcr+kAAAAAAOCv6QAAAAAA4K/pAzczMzKwr+kDNzMzMrCv6QDMzMzM7LPpAw/UoXDss+kDD9ShcOyz6QDMzMzM7LPpAw/UoXDss+kDD9ShcOyz6QMP1KFw7LPpAMzMzMzss+kAfhetRGCr6QK5H4XoYKvpArkfhehgq+kAfhetRGCr6QLgeheudKvpASOF6FJ4q+kBcj8L1aCv6QHE9CtffK/pAexSuRwEt+kAK16NwAS36QHE9Ctc/LfpAcT0K1z8t+kAAAAAAQC36QAAAAABALfpAcT0K1z8t+kAAAAAAoCv6QFK4HoUDLPpACtejcJks+kBxPQrX3yz6QHE9CtffLPpAAAAAAOAs+kBxPQrX3yz6QHE9CtffLPpAAAAAAOAs+kBxPQrX3yz6QAAAAADgLPpAAAAAAFAu+kApXI/CeS/6QLgehet5L/pAuB6F63kv+kC4HoXreS/6QClcj8J5L/pAzczMzPgx+kBxPQrXPzL6QAAAAABAMvpAZmZmZj4x+kCkcD0KazH6QDMzMzNrMfpAMzMzM2sx+kAzMzMzazH6QOF6FK6LMPpAKVyPwn0w+kApXI/CfTD6QLgehet9MPpAKVyPwuUv+kAAAAAAdDD6QHE9CtdzMPpAH4XrUewu+kCPwvUoeC76QAAAAAB4LvpAexSuRz0u+kAAAAAAEDD6QEjhehSWMPpAAAAAACgx+kBmZmZmJjL6QKRwPQoPM/pApHA9Cg8z+kAUrkfhDjP6QBSuR+EOM/pAFK5H4Q4z+kC4HoXrNTT6QHsUrkcdNfpA16NwPaI0+kDD9ShcEzT6QLgeheutNfpAcT0K11c2+kCPwvUowDP6QDMzMzPvNPpAAAAAAMA0+kAAAAAAwDT6QHE9Cte/NPpAzczMzFQy+kAAAAAAsDD6QAAAAACwMPpAj8L1KHww+kC4HoXrpS/6QHE9CtfPL/pAXI/C9UQw+kBI4XoUsjH6QAAAAABAMvpAKVyPwg0x+kApXI/CDTH6QHsUrkdRMfpAAAAAAPgx+kDsUbgenTL6QFyPwvWcMvpAhetRuAIy+kBSuB6FRzL6QMP1KFxHMvpAUrgehUcy+kDD9ShcRzL6QFK4HoVHMvpAw/UoXEcy+kDD9ShcRzL6QMP1KFxHMvpA16NwPVYz+kB7FK5HxTP6QOxRuB6NM/pACtejcDE0+kCamZmZMTT6QArXo3AxNPpACtejcDE0+kBxPQrXvzT6QAAAAAAYNvpAhetRuJo2+kCF61G4mjb6QBSuR+GaNvpAzczMzHg1+kA9CtejeDX6QClcj8JdNvpAPQrXo6A1+kCkcD0KlzX6QClcj8KFNfpAj8L1KFg2+kBcj8L1qDX6QD0K16N8NfpAKVyPwiU3+kB7FK5HFTf6QM3MzMzUNvpAuB6F66k2+kApXI/CqTb6QLgeheupNvpAuB6F66k2+kDXo3A95jX6QFK4HoXnNPpAAAAAADA1+kBxPQrXLzX6QHE9CtcvNfpA4XoUrpc0+kBSuB6FlzT6QOF6FK6XNPpA4XoUrpc0+kBI4XoUtjT6QEjhehS2NPpASOF6FLY0+kAUrkfhYjT6QArXo3AxNPpAmpmZmTE0+kCamZmZMTT6QJqZmZkxNPpAUrgehQM0+kBSuB6FAzT6QAAAAADAM/pAzczMzJgz+kA9CtejQDP6QD0K16NAM/pAXI/C9Vwz+kDD9ShcNzP6QDMzMzM3M/pAj8L1KBgz+kAAAAAAEDP6QAAAAAAQM/pAAAAAABAz+kAAAAAAEDP6QMP1KFxLMvpAUrgehUsy+kBSuB6FSzL6QFK4HoVLMvpAZmZmZoIx+kD2KFyPgjH6QGZmZmaCMfpAZmZmZoIx+kD2KFyPgjH6QPYoXI+CMfpA9ihcj4Ix+kBmZmZmgjH6QAAAAADQMfpAcT0K188x+kBxPQrXzzH6QAAAAADQMfpAcT0K188x+kBxPQrXzzH6QAAAAADQMfpAUrgehSsx+kAAAAAAxDH6QFyPwvWEMvpA7FG4HoUy+kBcj8L1hDL6QD0K16MMMvpArkfhegwy+kA9CtejDDL6QD0K16MMMvpAPQrXowwy+kCuR+F6DDL6QK5H4XoMMvpAMzMzM1cx+kDD9ShcVzH6QDMzMzNXMfpA9ihcj2Iv+kCF61G4Yi/6QBSuR+EKMPpAhetRuAow+kDhehSu4y/6QOF6FK7jL/pAUrgeheMv+kAfhetR6C/6QB+F61HoL/pArkfheugv+kAfhetR6C/6QB+F61HoL/pAH4XrUegv+kCamZmZsTP6QKRwPQorNPpAH4XrUWg1+kBcj8L1+DT6QFyPwvX4NPpAH4XrUWg1+kA9CtejNDj6QM3MzMw0OPpA7FG4HiU9+kBSuB6Fdzr6QIXrUbg+O/pAAAAAAEA8+kBxPQrXPzz6QNejcD1GO/pAAAAAANA6+kCamZmZhTr6QJqZmZmFOvpAmpmZmYU6+kCPwvUoIDj6QI/C9SggOPpAj8L1KCA4+kAK16NwPTf6QFyPwvVwNvpA7FG4HnE2+kA9CtejRDn6QD0K16PoOPpAj8L1KKA7+kA9Ctej3Dv6QKRwPQpPPfpAcT0K158++kCkcD0Khz36QHE9Cte/PvpAcT0K178++kDD9Shclz36QClcj8K9PfpACtejcH0++kAK16NwfT76QJqZmZl9PvpA9ihcjz49+kD2KFyPPj36QGZmZmY+PfpACtejcDk8+kDsUbgeSTv6QOxRuB5JO/pAPQrXowg7+kA9CtejCDv6QB+F61HcOvpArkfhepg6+kC4HoXrZTr6QAAAAABwOfpAj8L1KHA5+kCPwvUocDn6QI/C9ShwOfpAAAAAAHA5+kAfhetRxDj6QIXrUbiiOPpAFK5H4aI4+kAUrkfhojj6QIXrUbiiOPpAFK5H4aI4+kDD9ShcBzr6QFyPwvWMOfpAXI/C9Yw5+kDNzMzMjDn6QM3MzMyMOfpAXI/C9Yw5+kCF61G48jj6QHsUrkddOfpA16NwPf45+kDXo3A9/jn6QNejcD3+OfpA16NwPf45+kDXo3A9/jn6QNejcD3+OfpA16NwPf45+kDXo3A9/jn6QGZmZmb+OfpAAAAAAHg5+kAAAAAAeDn6QI/C9Sh4OfpApHA9CvM4+kA9CtejeDb6QD0K16N4NvpAexSuRy02+kAAAAAAADb6QD0K16P8NfpArkfhevw1+kCuR+F6/DX6QI/C9SgoNPpAAAAAACg0+kAAAAAAKDT6QI/C9SgoNPpAj8L1KCg0+kCPwvUoKDT6QAAAAAAoNPpAj8L1KCg0+kCPwvUo8DL6QAAAAADwMvpAj8L1KPAy+kAAAAAA8DL6QI/C9SjwMvpAj8L1KPAy+kCPwvUo8DL6QAAAAADwMvpAj8L1KMAq+kBmZmZmRiv6QBSuR+EuLfpAH4XrUewt+kAfhetR7C36QI/C9SjsLfpAj8L1KOwt+kAfhetR7C36QPYoXI9aLPpAcT0K1+st+kDhehSu6y36QHE9CtffLfpAUrgehQ8t+kBSuB6FDy36QMP1KFwPLfpAw/UoXA8t+kCPwvUoiCv6QKRwPQrTK/pAexSuRxEs+kCkcD0Kbyz6QM3MzMykLPpArkfhejQs+kA9CtejtC36QHE9Cte/LvpAAAAAAMAu+kCF61G48i36QI/C9SikLPpAH4XrUaQs+kAfhetRpCz6QB+F61GkLPpAj8L1KKQs+kCF61G4+iz6QIXrUbj6LPpAhetRuPos+kAUrkfhqi76QBSuR+GqLvpASOF6FB4w+kD2KFyPxi/6QI/C9SgUNPpAMzMzMzcz+kAzMzMzNzP6QOxRuB7FMvpA7FG4HsUy+kDsUbgexTL6QOxRuB7FMvpApHA9ClMy+kAzMzMzUzL6QKRwPQpTMvpAMzMzM1My+kCkcD0KUzL6QKRwPQpTMvpApHA9ClMy+kDhehSutzL6QOF6FK63MvpAUrgehbcy+kBSuB6FtzL6QAAAAADQMfpA16NwPVIw+kBI4XoUUjD6QEjhehRSMPpA16NwPUYw+kDXo3A9RjD6QI/C9ShkMPpAj8L1KGQw+kBI4XoUejD6QLgehet5MPpASOF6FHow+kC4HoXreTD6QEjhehR6MPpASOF6FHow+kC4HoXreTD6QLgehet5MPpASOF6FHow+kAAAAAAsDD6QAAAAACwMPpAcT0K1zcw+kDhehSuNzD6QHE9Ctc3MPpAcT0K1zcw+kAAAAAAYDH6QMP1KFzTMfpAUrgehdMx+kDD9Shc0zH6QK5H4XpIMfpAH4XrUUgx+kCuR+F6SDH6QMP1KFw3MfpAw/UoXDcx+kBmZmZmGjH6QPYoXI8aMfpA9ihcjxox+kDhehSupy76QClcj8IJLvpAKVyPwgku+kCamZmZCS76QGZmZmaOLPpAj8L1KAAs+kCPwvUoACz6QAAAAAAALPpAw/UoXGMr+kAAAAAAYCv6QClcj8JdK/pAw/UoXGMr+kAfhetRZCv6QB+F61FkK/pAAAAAAAAs+kAfhetRrCz6QK5H4XqsLPpArkfheqws+kAfhetRrCz6QB+F61GsLPpAH4XrUaws+kCuR+F6rCz6QK5H4XqsLPpAH4XrUaws+kCuR+F6rCz6QB+F61GsLPpArkfheqws+kAfhetRrCz6QFK4HoW/LPpAAAAAAEAt+kAAAAAAQC36QEjhehRmLfpAuB6F62Ut+kDNzMzM1C36QFyPwvXULfpAXI/C9dQt+kDNzMzM1C36QAAAAACALvpAAAAAAIAu+kCamZmZtS76QJqZmZm1LvpAmpmZmbUu+kAK16NwtS76QArXo3C1LvpAmpmZmbUu+kCPwvUonC76QB+F61GcLvpAj8L1KJwu+kCPwvUonC76QI/C9SicLvpAH4XrUZwu+kAfhetRnC76QI/C9SicLvpAuB6F62Uu+kCuR+F6WC76QB+F61FYLvpArkfhelgu+kCuR+F6WC76QB+F61FYLvpArkfhelgu+kAfhetRWC76QK5H4XpYLvpAH4XrUVgu+kAfhetRWC76QB+F61FYLvpAH4XrUVgu+kCuR+F6WC76QB+F61FYLvpAH4XrUVgu+kAfhetRWC76QK5H4XpYLvpArkfhelgu+kCuR+F6WC76QB+F61FYLvpAH4XrUVgu+kCuR+F6WC76QFyPwvWAL/pAXI/C9YAv+kBcj8L1gC/6QFyPwvWAL/pA7FG4HoEv+kBcj8L1gC/6QI/C9SiMMPpAj8L1KIww+kD2KFyPAjD6QI/C9SiAL/pAj8L1KIAv+kAUrkfhVi/6QIXrUbhWL/pAj8L1KIAu+kAAAAAAgC76QAAAAACALvpAexSuR2Uu+kB7FK5HZS76QHsUrkdlLvpACtejcGUu+kAUrkfhqi76QKRwPQqrLvpApHA9Cqsu+kCkcD0Kqy76QBSuR+GqLvpAFK5H4aou+kAUrkfhqi76QBSuR+GqLvpAFK5H4aou+kA9Ctej6C36QGZmZmbiLfpA9ihcj+It+kBmZmZm4i36QNejcD3iLfpA16NwPeIt+kBmZmZm4i36QM3MzMxcLfpAXI/C9Vwt+kCPwvUoQC36QHsUrkddLPpAexSuR10s+kDsUbgeXSz6QHsUrkddLPpAexSuR10s+kDhehSu9yz6QFK4HoX3LPpAUrgehfcs+kDhehSu9yz6QFK4HoUfLfpAUrgehSMu+kBxPQrXfy76QHE9Ctd/LvpAFK5H4ZYu+kAUrkfhli76QHE9Cte/L/pA9ihcj8ov+kD2KFyPyi/6QD0K16OEMfpAw/UoXNMx+kAAAAAA8DH6QHE9Ctc/MvpAcT0K198y+kBxPQrX3zL6QHE9CtffMvpAcT0K198y+kBxPQrX3zL6QAAAAADgMvpAAAAAAOAy+kAAAAAA4DL6QAAAAADgMvpAAAAAAOAy+kBxPQrX3zL6QAAAAADgMvpAAAAAAOAy+kDD9ShcNzP6QArXo3BBM/pACtejcEEz+kAK16NwQTP6QArXo3BBM/pAmpmZmUEz+kDXo3A9TjP6QNejcD1OM/pA16NwPU4z+kBmZmZmTjP6QM3MzMwMNPpASOF6FNo0+kD2KFyPrjT6QI/C9SiINPpAj8L1KIg0+kCPwvUoiDT6QI/C9SiINPpAj8L1KIg0+kCPwvUoiDT6QAAAAACINPpAAAAAAIg0+kDNzMzMbDT6QM3MzMxsNPpAPQrXo2w0+kDNzMzMbDT6QD0K16NINfpA"
         },
         "x": [
          "2025-06-28T18:32:00+00:00",
          "2025-06-28T18:33:00+00:00",
          "2025-06-28T18:34:00+00:00",
          "2025-06-28T18:35:00+00:00",
          "2025-06-28T18:36:00+00:00",
          "2025-06-28T18:37:00+00:00",
          "2025-06-28T18:38:00+00:00",
          "2025-06-28T18:39:00+00:00",
          "2025-06-28T18:40:00+00:00",
          "2025-06-28T18:41:00+00:00",
          "2025-06-28T18:42:00+00:00",
          "2025-06-28T18:43:00+00:00",
          "2025-06-28T18:44:00+00:00",
          "2025-06-28T18:45:00+00:00",
          "2025-06-28T18:46:00+00:00",
          "2025-06-28T18:47:00+00:00",
          "2025-06-28T18:48:00+00:00",
          "2025-06-28T18:49:00+00:00",
          "2025-06-28T18:50:00+00:00",
          "2025-06-28T18:51:00+00:00",
          "2025-06-28T18:52:00+00:00",
          "2025-06-28T18:53:00+00:00",
          "2025-06-28T18:54:00+00:00",
          "2025-06-28T18:55:00+00:00",
          "2025-06-28T18:56:00+00:00",
          "2025-06-28T18:57:00+00:00",
          "2025-06-28T18:58:00+00:00",
          "2025-06-28T18:59:00+00:00",
          "2025-06-28T19:00:00+00:00",
          "2025-06-28T19:01:00+00:00",
          "2025-06-28T19:02:00+00:00",
          "2025-06-28T19:03:00+00:00",
          "2025-06-28T19:04:00+00:00",
          "2025-06-28T19:05:00+00:00",
          "2025-06-28T19:06:00+00:00",
          "2025-06-28T19:07:00+00:00",
          "2025-06-28T19:08:00+00:00",
          "2025-06-28T19:09:00+00:00",
          "2025-06-28T19:10:00+00:00",
          "2025-06-28T19:11:00+00:00",
          "2025-06-28T19:12:00+00:00",
          "2025-06-28T19:13:00+00:00",
          "2025-06-28T19:14:00+00:00",
          "2025-06-28T19:15:00+00:00",
          "2025-06-28T19:16:00+00:00",
          "2025-06-28T19:17:00+00:00",
          "2025-06-28T19:18:00+00:00",
          "2025-06-28T19:19:00+00:00",
          "2025-06-28T19:20:00+00:00",
          "2025-06-28T19:21:00+00:00",
          "2025-06-28T19:22:00+00:00",
          "2025-06-28T19:23:00+00:00",
          "2025-06-28T19:24:00+00:00",
          "2025-06-28T19:25:00+00:00",
          "2025-06-28T19:26:00+00:00",
          "2025-06-28T19:27:00+00:00",
          "2025-06-28T19:28:00+00:00",
          "2025-06-28T19:29:00+00:00",
          "2025-06-28T19:30:00+00:00",
          "2025-06-28T19:31:00+00:00",
          "2025-06-28T19:32:00+00:00",
          "2025-06-28T19:33:00+00:00",
          "2025-06-28T19:34:00+00:00",
          "2025-06-28T19:35:00+00:00",
          "2025-06-28T19:36:00+00:00",
          "2025-06-28T19:37:00+00:00",
          "2025-06-28T19:38:00+00:00",
          "2025-06-28T19:39:00+00:00",
          "2025-06-28T19:40:00+00:00",
          "2025-06-28T19:41:00+00:00",
          "2025-06-28T19:42:00+00:00",
          "2025-06-28T19:43:00+00:00",
          "2025-06-28T19:44:00+00:00",
          "2025-06-28T19:45:00+00:00",
          "2025-06-28T19:46:00+00:00",
          "2025-06-28T19:47:00+00:00",
          "2025-06-28T19:48:00+00:00",
          "2025-06-28T19:49:00+00:00",
          "2025-06-28T19:50:00+00:00",
          "2025-06-28T19:51:00+00:00",
          "2025-06-28T19:52:00+00:00",
          "2025-06-28T19:53:00+00:00",
          "2025-06-28T19:54:00+00:00",
          "2025-06-28T19:55:00+00:00",
          "2025-06-28T19:56:00+00:00",
          "2025-06-28T19:57:00+00:00",
          "2025-06-28T19:58:00+00:00",
          "2025-06-28T19:59:00+00:00",
          "2025-06-28T20:00:00+00:00",
          "2025-06-28T20:01:00+00:00",
          "2025-06-28T20:02:00+00:00",
          "2025-06-28T20:03:00+00:00",
          "2025-06-28T20:04:00+00:00",
          "2025-06-28T20:05:00+00:00",
          "2025-06-28T20:06:00+00:00",
          "2025-06-28T20:07:00+00:00",
          "2025-06-28T20:08:00+00:00",
          "2025-06-28T20:09:00+00:00",
          "2025-06-28T20:10:00+00:00",
          "2025-06-28T20:11:00+00:00",
          "2025-06-28T20:12:00+00:00",
          "2025-06-28T20:13:00+00:00",
          "2025-06-28T20:14:00+00:00",
          "2025-06-28T20:15:00+00:00",
          "2025-06-28T20:16:00+00:00",
          "2025-06-28T20:17:00+00:00",
          "2025-06-28T20:18:00+00:00",
          "2025-06-28T20:19:00+00:00",
          "2025-06-28T20:20:00+00:00",
          "2025-06-28T20:21:00+00:00",
          "2025-06-28T20:22:00+00:00",
          "2025-06-28T20:23:00+00:00",
          "2025-06-28T20:24:00+00:00",
          "2025-06-28T20:25:00+00:00",
          "2025-06-28T20:26:00+00:00",
          "2025-06-28T20:27:00+00:00",
          "2025-06-28T20:28:00+00:00",
          "2025-06-28T20:29:00+00:00",
          "2025-06-28T20:30:00+00:00",
          "2025-06-28T20:31:00+00:00",
          "2025-06-28T20:32:00+00:00",
          "2025-06-28T20:33:00+00:00",
          "2025-06-28T20:34:00+00:00",
          "2025-06-28T20:35:00+00:00",
          "2025-06-28T20:36:00+00:00",
          "2025-06-28T20:37:00+00:00",
          "2025-06-28T20:38:00+00:00",
          "2025-06-28T20:39:00+00:00",
          "2025-06-28T20:40:00+00:00",
          "2025-06-28T20:41:00+00:00",
          "2025-06-28T20:42:00+00:00",
          "2025-06-28T20:43:00+00:00",
          "2025-06-28T20:44:00+00:00",
          "2025-06-28T20:45:00+00:00",
          "2025-06-28T20:46:00+00:00",
          "2025-06-28T20:47:00+00:00",
          "2025-06-28T20:48:00+00:00",
          "2025-06-28T20:49:00+00:00",
          "2025-06-28T20:50:00+00:00",
          "2025-06-28T20:51:00+00:00",
          "2025-06-28T20:52:00+00:00",
          "2025-06-28T20:53:00+00:00",
          "2025-06-28T20:54:00+00:00",
          "2025-06-28T20:55:00+00:00",
          "2025-06-28T20:56:00+00:00",
          "2025-06-28T20:57:00+00:00",
          "2025-06-28T20:58:00+00:00",
          "2025-06-28T20:59:00+00:00",
          "2025-06-28T21:00:00+00:00",
          "2025-06-28T21:01:00+00:00",
          "2025-06-28T21:02:00+00:00",
          "2025-06-28T21:03:00+00:00",
          "2025-06-28T21:04:00+00:00",
          "2025-06-28T21:05:00+00:00",
          "2025-06-28T21:06:00+00:00",
          "2025-06-28T21:07:00+00:00",
          "2025-06-28T21:08:00+00:00",
          "2025-06-28T21:09:00+00:00",
          "2025-06-28T21:10:00+00:00",
          "2025-06-28T21:11:00+00:00",
          "2025-06-28T21:12:00+00:00",
          "2025-06-28T21:13:00+00:00",
          "2025-06-28T21:14:00+00:00",
          "2025-06-28T21:15:00+00:00",
          "2025-06-28T21:16:00+00:00",
          "2025-06-28T21:17:00+00:00",
          "2025-06-28T21:18:00+00:00",
          "2025-06-28T21:19:00+00:00",
          "2025-06-28T21:20:00+00:00",
          "2025-06-28T21:21:00+00:00",
          "2025-06-28T21:22:00+00:00",
          "2025-06-28T21:23:00+00:00",
          "2025-06-28T21:24:00+00:00",
          "2025-06-28T21:25:00+00:00",
          "2025-06-28T21:26:00+00:00",
          "2025-06-28T21:27:00+00:00",
          "2025-06-28T21:28:00+00:00",
          "2025-06-28T21:29:00+00:00",
          "2025-06-28T21:30:00+00:00",
          "2025-06-28T21:31:00+00:00",
          "2025-06-28T21:32:00+00:00",
          "2025-06-28T21:33:00+00:00",
          "2025-06-28T21:34:00+00:00",
          "2025-06-28T21:35:00+00:00",
          "2025-06-28T21:36:00+00:00",
          "2025-06-28T21:37:00+00:00",
          "2025-06-28T21:38:00+00:00",
          "2025-06-28T21:39:00+00:00",
          "2025-06-28T21:40:00+00:00",
          "2025-06-28T21:41:00+00:00",
          "2025-06-28T21:42:00+00:00",
          "2025-06-28T21:43:00+00:00",
          "2025-06-28T21:44:00+00:00",
          "2025-06-28T21:45:00+00:00",
          "2025-06-28T21:46:00+00:00",
          "2025-06-28T21:47:00+00:00",
          "2025-06-28T21:48:00+00:00",
          "2025-06-28T21:49:00+00:00",
          "2025-06-28T21:50:00+00:00",
          "2025-06-28T21:51:00+00:00",
          "2025-06-28T21:52:00+00:00",
          "2025-06-28T21:53:00+00:00",
          "2025-06-28T21:54:00+00:00",
          "2025-06-28T21:55:00+00:00",
          "2025-06-28T21:56:00+00:00",
          "2025-06-28T21:57:00+00:00",
          "2025-06-28T21:58:00+00:00",
          "2025-06-28T21:59:00+00:00",
          "2025-06-28T22:00:00+00:00",
          "2025-06-28T22:01:00+00:00",
          "2025-06-28T22:02:00+00:00",
          "2025-06-28T22:03:00+00:00",
          "2025-06-28T22:04:00+00:00",
          "2025-06-28T22:05:00+00:00",
          "2025-06-28T22:06:00+00:00",
          "2025-06-28T22:07:00+00:00",
          "2025-06-28T22:08:00+00:00",
          "2025-06-28T22:09:00+00:00",
          "2025-06-28T22:10:00+00:00",
          "2025-06-28T22:11:00+00:00",
          "2025-06-28T22:12:00+00:00",
          "2025-06-28T22:13:00+00:00",
          "2025-06-28T22:14:00+00:00",
          "2025-06-28T22:15:00+00:00",
          "2025-06-28T22:16:00+00:00",
          "2025-06-28T22:17:00+00:00",
          "2025-06-28T22:18:00+00:00",
          "2025-06-28T22:19:00+00:00",
          "2025-06-28T22:20:00+00:00",
          "2025-06-28T22:21:00+00:00",
          "2025-06-28T22:22:00+00:00",
          "2025-06-28T22:23:00+00:00",
          "2025-06-28T22:24:00+00:00",
          "2025-06-28T22:25:00+00:00",
          "2025-06-28T22:26:00+00:00",
          "2025-06-28T22:27:00+00:00",
          "2025-06-28T22:28:00+00:00",
          "2025-06-28T22:29:00+00:00",
          "2025-06-28T22:30:00+00:00",
          "2025-06-28T22:31:00+00:00",
          "2025-06-28T22:32:00+00:00",
          "2025-06-28T22:33:00+00:00",
          "2025-06-28T22:34:00+00:00",
          "2025-06-28T22:35:00+00:00",
          "2025-06-28T22:36:00+00:00",
          "2025-06-28T22:37:00+00:00",
          "2025-06-28T22:38:00+00:00",
          "2025-06-28T22:39:00+00:00",
          "2025-06-28T22:40:00+00:00",
          "2025-06-28T22:41:00+00:00",
          "2025-06-28T22:42:00+00:00",
          "2025-06-28T22:43:00+00:00",
          "2025-06-28T22:44:00+00:00",
          "2025-06-28T22:45:00+00:00",
          "2025-06-28T22:46:00+00:00",
          "2025-06-28T22:47:00+00:00",
          "2025-06-28T22:48:00+00:00",
          "2025-06-28T22:49:00+00:00",
          "2025-06-28T22:50:00+00:00",
          "2025-06-28T22:51:00+00:00",
          "2025-06-28T22:52:00+00:00",
          "2025-06-28T22:53:00+00:00",
          "2025-06-28T22:54:00+00:00",
          "2025-06-28T22:55:00+00:00",
          "2025-06-28T22:56:00+00:00",
          "2025-06-28T22:57:00+00:00",
          "2025-06-28T22:58:00+00:00",
          "2025-06-28T22:59:00+00:00",
          "2025-06-28T23:00:00+00:00",
          "2025-06-28T23:01:00+00:00",
          "2025-06-28T23:02:00+00:00",
          "2025-06-28T23:03:00+00:00",
          "2025-06-28T23:04:00+00:00",
          "2025-06-28T23:05:00+00:00",
          "2025-06-28T23:06:00+00:00",
          "2025-06-28T23:07:00+00:00",
          "2025-06-28T23:08:00+00:00",
          "2025-06-28T23:09:00+00:00",
          "2025-06-28T23:10:00+00:00",
          "2025-06-28T23:11:00+00:00",
          "2025-06-28T23:12:00+00:00",
          "2025-06-28T23:13:00+00:00",
          "2025-06-28T23:14:00+00:00",
          "2025-06-28T23:15:00+00:00",
          "2025-06-28T23:16:00+00:00",
          "2025-06-28T23:17:00+00:00",
          "2025-06-28T23:18:00+00:00",
          "2025-06-28T23:19:00+00:00",
          "2025-06-28T23:20:00+00:00",
          "2025-06-28T23:21:00+00:00",
          "2025-06-28T23:22:00+00:00",
          "2025-06-28T23:23:00+00:00",
          "2025-06-28T23:24:00+00:00",
          "2025-06-28T23:25:00+00:00",
          "2025-06-28T23:26:00+00:00",
          "2025-06-28T23:27:00+00:00",
          "2025-06-28T23:28:00+00:00",
          "2025-06-28T23:29:00+00:00",
          "2025-06-28T23:30:00+00:00",
          "2025-06-28T23:31:00+00:00",
          "2025-06-28T23:32:00+00:00",
          "2025-06-28T23:33:00+00:00",
          "2025-06-28T23:34:00+00:00",
          "2025-06-28T23:35:00+00:00",
          "2025-06-28T23:36:00+00:00",
          "2025-06-28T23:37:00+00:00",
          "2025-06-28T23:38:00+00:00",
          "2025-06-28T23:39:00+00:00",
          "2025-06-28T23:40:00+00:00",
          "2025-06-28T23:41:00+00:00",
          "2025-06-28T23:42:00+00:00",
          "2025-06-28T23:43:00+00:00",
          "2025-06-28T23:44:00+00:00",
          "2025-06-28T23:45:00+00:00",
          "2025-06-28T23:46:00+00:00",
          "2025-06-28T23:47:00+00:00",
          "2025-06-28T23:48:00+00:00",
          "2025-06-28T23:49:00+00:00",
          "2025-06-28T23:50:00+00:00",
          "2025-06-28T23:51:00+00:00",
          "2025-06-28T23:52:00+00:00",
          "2025-06-28T23:53:00+00:00",
          "2025-06-28T23:54:00+00:00",
          "2025-06-28T23:55:00+00:00",
          "2025-06-28T23:56:00+00:00",
          "2025-06-28T23:57:00+00:00",
          "2025-06-28T23:58:00+00:00",
          "2025-06-28T23:59:00+00:00",
          "2025-06-29T00:00:00+00:00",
          "2025-06-29T00:01:00+00:00",
          "2025-06-29T00:02:00+00:00",
          "2025-06-29T00:03:00+00:00",
          "2025-06-29T00:04:00+00:00",
          "2025-06-29T00:05:00+00:00",
          "2025-06-29T00:06:00+00:00",
          "2025-06-29T00:07:00+00:00",
          "2025-06-29T00:08:00+00:00",
          "2025-06-29T00:09:00+00:00",
          "2025-06-29T00:10:00+00:00",
          "2025-06-29T00:11:00+00:00",
          "2025-06-29T00:12:00+00:00",
          "2025-06-29T00:13:00+00:00",
          "2025-06-29T00:14:00+00:00",
          "2025-06-29T00:15:00+00:00",
          "2025-06-29T00:16:00+00:00",
          "2025-06-29T00:17:00+00:00",
          "2025-06-29T00:18:00+00:00",
          "2025-06-29T00:19:00+00:00",
          "2025-06-29T00:20:00+00:00",
          "2025-06-29T00:21:00+00:00",
          "2025-06-29T00:22:00+00:00",
          "2025-06-29T00:23:00+00:00",
          "2025-06-29T00:24:00+00:00",
          "2025-06-29T00:25:00+00:00",
          "2025-06-29T00:26:00+00:00",
          "2025-06-29T00:27:00+00:00",
          "2025-06-29T00:28:00+00:00",
          "2025-06-29T00:29:00+00:00",
          "2025-06-29T00:30:00+00:00",
          "2025-06-29T00:31:00+00:00",
          "2025-06-29T00:32:00+00:00",
          "2025-06-29T00:33:00+00:00",
          "2025-06-29T00:34:00+00:00",
          "2025-06-29T00:35:00+00:00",
          "2025-06-29T00:36:00+00:00",
          "2025-06-29T00:37:00+00:00",
          "2025-06-29T00:38:00+00:00",
          "2025-06-29T00:39:00+00:00",
          "2025-06-29T00:40:00+00:00",
          "2025-06-29T00:41:00+00:00",
          "2025-06-29T00:42:00+00:00",
          "2025-06-29T00:43:00+00:00",
          "2025-06-29T00:44:00+00:00",
          "2025-06-29T00:45:00+00:00",
          "2025-06-29T00:46:00+00:00",
          "2025-06-29T00:47:00+00:00",
          "2025-06-29T00:48:00+00:00",
          "2025-06-29T00:49:00+00:00",
          "2025-06-29T00:50:00+00:00",
          "2025-06-29T00:51:00+00:00",
          "2025-06-29T00:52:00+00:00",
          "2025-06-29T00:53:00+00:00",
          "2025-06-29T00:54:00+00:00",
          "2025-06-29T00:55:00+00:00",
          "2025-06-29T00:56:00+00:00",
          "2025-06-29T00:57:00+00:00",
          "2025-06-29T00:58:00+00:00",
          "2025-06-29T00:59:00+00:00",
          "2025-06-29T01:00:00+00:00",
          "2025-06-29T01:01:00+00:00",
          "2025-06-29T01:02:00+00:00",
          "2025-06-29T01:03:00+00:00",
          "2025-06-29T01:04:00+00:00",
          "2025-06-29T01:05:00+00:00",
          "2025-06-29T01:06:00+00:00",
          "2025-06-29T01:07:00+00:00",
          "2025-06-29T01:08:00+00:00",
          "2025-06-29T01:09:00+00:00",
          "2025-06-29T01:10:00+00:00",
          "2025-06-29T01:11:00+00:00",
          "2025-06-29T01:12:00+00:00",
          "2025-06-29T01:13:00+00:00",
          "2025-06-29T01:14:00+00:00",
          "2025-06-29T01:15:00+00:00",
          "2025-06-29T01:16:00+00:00",
          "2025-06-29T01:17:00+00:00",
          "2025-06-29T01:18:00+00:00",
          "2025-06-29T01:19:00+00:00",
          "2025-06-29T01:20:00+00:00",
          "2025-06-29T01:21:00+00:00",
          "2025-06-29T01:22:00+00:00",
          "2025-06-29T01:23:00+00:00",
          "2025-06-29T01:24:00+00:00",
          "2025-06-29T01:25:00+00:00",
          "2025-06-29T01:26:00+00:00",
          "2025-06-29T01:27:00+00:00",
          "2025-06-29T01:28:00+00:00",
          "2025-06-29T01:29:00+00:00",
          "2025-06-29T01:30:00+00:00",
          "2025-06-29T01:31:00+00:00",
          "2025-06-29T01:32:00+00:00",
          "2025-06-29T01:33:00+00:00",
          "2025-06-29T01:34:00+00:00",
          "2025-06-29T01:35:00+00:00",
          "2025-06-29T01:36:00+00:00",
          "2025-06-29T01:37:00+00:00",
          "2025-06-29T01:38:00+00:00",
          "2025-06-29T01:39:00+00:00",
          "2025-06-29T01:40:00+00:00",
          "2025-06-29T01:41:00+00:00",
          "2025-06-29T01:42:00+00:00",
          "2025-06-29T01:43:00+00:00",
          "2025-06-29T01:44:00+00:00",
          "2025-06-29T01:45:00+00:00",
          "2025-06-29T01:46:00+00:00",
          "2025-06-29T01:47:00+00:00",
          "2025-06-29T01:48:00+00:00",
          "2025-06-29T01:49:00+00:00",
          "2025-06-29T01:50:00+00:00",
          "2025-06-29T01:51:00+00:00",
          "2025-06-29T01:52:00+00:00",
          "2025-06-29T01:53:00+00:00",
          "2025-06-29T01:54:00+00:00",
          "2025-06-29T01:55:00+00:00",
          "2025-06-29T01:56:00+00:00",
          "2025-06-29T01:57:00+00:00",
          "2025-06-29T01:58:00+00:00",
          "2025-06-29T01:59:00+00:00",
          "2025-06-29T02:00:00+00:00",
          "2025-06-29T02:01:00+00:00",
          "2025-06-29T02:02:00+00:00",
          "2025-06-29T02:03:00+00:00",
          "2025-06-29T02:04:00+00:00",
          "2025-06-29T02:05:00+00:00",
          "2025-06-29T02:06:00+00:00",
          "2025-06-29T02:07:00+00:00",
          "2025-06-29T02:08:00+00:00",
          "2025-06-29T02:09:00+00:00",
          "2025-06-29T02:10:00+00:00",
          "2025-06-29T02:11:00+00:00",
          "2025-06-29T02:12:00+00:00",
          "2025-06-29T02:13:00+00:00",
          "2025-06-29T02:14:00+00:00",
          "2025-06-29T02:15:00+00:00",
          "2025-06-29T02:16:00+00:00",
          "2025-06-29T02:17:00+00:00",
          "2025-06-29T02:18:00+00:00",
          "2025-06-29T02:19:00+00:00",
          "2025-06-29T02:20:00+00:00",
          "2025-06-29T02:21:00+00:00",
          "2025-06-29T02:22:00+00:00",
          "2025-06-29T02:23:00+00:00",
          "2025-06-29T02:24:00+00:00",
          "2025-06-29T02:25:00+00:00",
          "2025-06-29T02:26:00+00:00",
          "2025-06-29T02:27:00+00:00",
          "2025-06-29T02:28:00+00:00",
          "2025-06-29T02:29:00+00:00",
          "2025-06-29T02:30:00+00:00",
          "2025-06-29T02:31:00+00:00",
          "2025-06-29T02:32:00+00:00",
          "2025-06-29T02:33:00+00:00",
          "2025-06-29T02:34:00+00:00",
          "2025-06-29T02:35:00+00:00",
          "2025-06-29T02:36:00+00:00",
          "2025-06-29T02:37:00+00:00",
          "2025-06-29T02:38:00+00:00",
          "2025-06-29T02:39:00+00:00",
          "2025-06-29T02:40:00+00:00",
          "2025-06-29T02:41:00+00:00",
          "2025-06-29T02:42:00+00:00",
          "2025-06-29T02:43:00+00:00",
          "2025-06-29T02:44:00+00:00",
          "2025-06-29T02:45:00+00:00",
          "2025-06-29T02:46:00+00:00",
          "2025-06-29T02:47:00+00:00",
          "2025-06-29T02:48:00+00:00",
          "2025-06-29T02:49:00+00:00",
          "2025-06-29T02:50:00+00:00",
          "2025-06-29T02:51:00+00:00",
          "2025-06-29T02:52:00+00:00",
          "2025-06-29T02:53:00+00:00",
          "2025-06-29T02:54:00+00:00",
          "2025-06-29T02:55:00+00:00",
          "2025-06-29T02:56:00+00:00",
          "2025-06-29T02:57:00+00:00",
          "2025-06-29T02:58:00+00:00",
          "2025-06-29T02:59:00+00:00",
          "2025-06-29T03:00:00+00:00",
          "2025-06-29T03:01:00+00:00",
          "2025-06-29T03:02:00+00:00",
          "2025-06-29T03:03:00+00:00",
          "2025-06-29T03:04:00+00:00",
          "2025-06-29T03:05:00+00:00",
          "2025-06-29T03:06:00+00:00",
          "2025-06-29T03:07:00+00:00",
          "2025-06-29T03:08:00+00:00",
          "2025-06-29T03:09:00+00:00",
          "2025-06-29T03:10:00+00:00",
          "2025-06-29T03:11:00+00:00",
          "2025-06-29T03:12:00+00:00",
          "2025-06-29T03:13:00+00:00",
          "2025-06-29T03:14:00+00:00",
          "2025-06-29T03:15:00+00:00",
          "2025-06-29T03:16:00+00:00",
          "2025-06-29T03:17:00+00:00",
          "2025-06-29T03:18:00+00:00",
          "2025-06-29T03:19:00+00:00",
          "2025-06-29T03:20:00+00:00",
          "2025-06-29T03:21:00+00:00",
          "2025-06-29T03:22:00+00:00",
          "2025-06-29T03:23:00+00:00",
          "2025-06-29T03:24:00+00:00",
          "2025-06-29T03:25:00+00:00",
          "2025-06-29T03:26:00+00:00",
          "2025-06-29T03:27:00+00:00",
          "2025-06-29T03:28:00+00:00",
          "2025-06-29T03:29:00+00:00",
          "2025-06-29T03:30:00+00:00",
          "2025-06-29T03:31:00+00:00",
          "2025-06-29T03:32:00+00:00",
          "2025-06-29T03:33:00+00:00",
          "2025-06-29T03:34:00+00:00",
          "2025-06-29T03:35:00+00:00",
          "2025-06-29T03:36:00+00:00",
          "2025-06-29T03:37:00+00:00",
          "2025-06-29T03:38:00+00:00",
          "2025-06-29T03:39:00+00:00",
          "2025-06-29T03:40:00+00:00",
          "2025-06-29T03:41:00+00:00",
          "2025-06-29T03:42:00+00:00",
          "2025-06-29T03:43:00+00:00",
          "2025-06-29T03:44:00+00:00",
          "2025-06-29T03:45:00+00:00",
          "2025-06-29T03:46:00+00:00",
          "2025-06-29T03:47:00+00:00",
          "2025-06-29T03:48:00+00:00",
          "2025-06-29T03:49:00+00:00",
          "2025-06-29T03:50:00+00:00",
          "2025-06-29T03:51:00+00:00",
          "2025-06-29T03:52:00+00:00",
          "2025-06-29T03:53:00+00:00",
          "2025-06-29T03:54:00+00:00",
          "2025-06-29T03:55:00+00:00",
          "2025-06-29T03:56:00+00:00",
          "2025-06-29T03:57:00+00:00",
          "2025-06-29T03:58:00+00:00",
          "2025-06-29T03:59:00+00:00",
          "2025-06-29T04:00:00+00:00",
          "2025-06-29T04:01:00+00:00",
          "2025-06-29T04:02:00+00:00",
          "2025-06-29T04:03:00+00:00",
          "2025-06-29T04:04:00+00:00",
          "2025-06-29T04:05:00+00:00",
          "2025-06-29T04:06:00+00:00",
          "2025-06-29T04:07:00+00:00",
          "2025-06-29T04:08:00+00:00",
          "2025-06-29T04:09:00+00:00",
          "2025-06-29T04:10:00+00:00",
          "2025-06-29T04:11:00+00:00",
          "2025-06-29T04:12:00+00:00",
          "2025-06-29T04:13:00+00:00",
          "2025-06-29T04:14:00+00:00",
          "2025-06-29T04:15:00+00:00",
          "2025-06-29T04:16:00+00:00",
          "2025-06-29T04:17:00+00:00",
          "2025-06-29T04:18:00+00:00",
          "2025-06-29T04:19:00+00:00",
          "2025-06-29T04:20:00+00:00",
          "2025-06-29T04:21:00+00:00",
          "2025-06-29T04:22:00+00:00",
          "2025-06-29T04:23:00+00:00",
          "2025-06-29T04:24:00+00:00",
          "2025-06-29T04:25:00+00:00",
          "2025-06-29T04:26:00+00:00",
          "2025-06-29T04:27:00+00:00",
          "2025-06-29T04:28:00+00:00",
          "2025-06-29T04:29:00+00:00",
          "2025-06-29T04:30:00+00:00",
          "2025-06-29T04:31:00+00:00",
          "2025-06-29T04:32:00+00:00",
          "2025-06-29T04:33:00+00:00",
          "2025-06-29T04:34:00+00:00",
          "2025-06-29T04:35:00+00:00",
          "2025-06-29T04:36:00+00:00",
          "2025-06-29T04:37:00+00:00",
          "2025-06-29T04:38:00+00:00",
          "2025-06-29T04:39:00+00:00",
          "2025-06-29T04:40:00+00:00",
          "2025-06-29T04:41:00+00:00",
          "2025-06-29T04:42:00+00:00",
          "2025-06-29T04:43:00+00:00",
          "2025-06-29T04:44:00+00:00",
          "2025-06-29T04:45:00+00:00",
          "2025-06-29T04:46:00+00:00",
          "2025-06-29T04:47:00+00:00",
          "2025-06-29T04:48:00+00:00",
          "2025-06-29T04:49:00+00:00",
          "2025-06-29T04:50:00+00:00",
          "2025-06-29T04:51:00+00:00",
          "2025-06-29T04:52:00+00:00",
          "2025-06-29T04:53:00+00:00",
          "2025-06-29T04:54:00+00:00",
          "2025-06-29T04:55:00+00:00",
          "2025-06-29T04:56:00+00:00",
          "2025-06-29T04:57:00+00:00",
          "2025-06-29T04:58:00+00:00",
          "2025-06-29T04:59:00+00:00",
          "2025-06-29T05:00:00+00:00",
          "2025-06-29T05:01:00+00:00",
          "2025-06-29T05:02:00+00:00",
          "2025-06-29T05:03:00+00:00",
          "2025-06-29T05:04:00+00:00",
          "2025-06-29T05:05:00+00:00",
          "2025-06-29T05:06:00+00:00",
          "2025-06-29T05:07:00+00:00",
          "2025-06-29T05:08:00+00:00",
          "2025-06-29T05:09:00+00:00",
          "2025-06-29T05:10:00+00:00",
          "2025-06-29T05:11:00+00:00",
          "2025-06-29T05:12:00+00:00",
          "2025-06-29T05:13:00+00:00",
          "2025-06-29T05:14:00+00:00",
          "2025-06-29T05:15:00+00:00",
          "2025-06-29T05:16:00+00:00",
          "2025-06-29T05:17:00+00:00",
          "2025-06-29T05:18:00+00:00",
          "2025-06-29T05:19:00+00:00",
          "2025-06-29T05:20:00+00:00",
          "2025-06-29T05:21:00+00:00",
          "2025-06-29T05:22:00+00:00",
          "2025-06-29T05:23:00+00:00",
          "2025-06-29T05:24:00+00:00",
          "2025-06-29T05:25:00+00:00",
          "2025-06-29T05:26:00+00:00",
          "2025-06-29T05:27:00+00:00",
          "2025-06-29T05:28:00+00:00",
          "2025-06-29T05:29:00+00:00",
          "2025-06-29T05:30:00+00:00",
          "2025-06-29T05:31:00+00:00",
          "2025-06-29T05:32:00+00:00",
          "2025-06-29T05:33:00+00:00",
          "2025-06-29T05:34:00+00:00",
          "2025-06-29T05:35:00+00:00",
          "2025-06-29T05:36:00+00:00",
          "2025-06-29T05:37:00+00:00",
          "2025-06-29T05:38:00+00:00",
          "2025-06-29T05:39:00+00:00",
          "2025-06-29T05:40:00+00:00",
          "2025-06-29T05:41:00+00:00",
          "2025-06-29T05:42:00+00:00",
          "2025-06-29T05:43:00+00:00",
          "2025-06-29T05:44:00+00:00",
          "2025-06-29T05:45:00+00:00",
          "2025-06-29T05:46:00+00:00",
          "2025-06-29T05:47:00+00:00",
          "2025-06-29T05:48:00+00:00",
          "2025-06-29T05:49:00+00:00",
          "2025-06-29T05:50:00+00:00",
          "2025-06-29T05:51:00+00:00",
          "2025-06-29T05:52:00+00:00",
          "2025-06-29T05:53:00+00:00",
          "2025-06-29T05:54:00+00:00",
          "2025-06-29T05:55:00+00:00",
          "2025-06-29T05:56:00+00:00",
          "2025-06-29T05:57:00+00:00",
          "2025-06-29T05:58:00+00:00",
          "2025-06-29T05:59:00+00:00",
          "2025-06-29T06:00:00+00:00",
          "2025-06-29T06:01:00+00:00",
          "2025-06-29T06:02:00+00:00",
          "2025-06-29T06:03:00+00:00",
          "2025-06-29T06:04:00+00:00",
          "2025-06-29T06:05:00+00:00",
          "2025-06-29T06:06:00+00:00",
          "2025-06-29T06:07:00+00:00",
          "2025-06-29T06:08:00+00:00",
          "2025-06-29T06:09:00+00:00",
          "2025-06-29T06:10:00+00:00",
          "2025-06-29T06:11:00+00:00",
          "2025-06-29T06:12:00+00:00",
          "2025-06-29T06:13:00+00:00",
          "2025-06-29T06:14:00+00:00",
          "2025-06-29T06:15:00+00:00",
          "2025-06-29T06:16:00+00:00",
          "2025-06-29T06:17:00+00:00",
          "2025-06-29T06:18:00+00:00",
          "2025-06-29T06:19:00+00:00",
          "2025-06-29T06:20:00+00:00",
          "2025-06-29T06:21:00+00:00",
          "2025-06-29T06:22:00+00:00",
          "2025-06-29T06:23:00+00:00",
          "2025-06-29T06:24:00+00:00",
          "2025-06-29T06:25:00+00:00",
          "2025-06-29T06:26:00+00:00",
          "2025-06-29T06:27:00+00:00",
          "2025-06-29T06:28:00+00:00",
          "2025-06-29T06:29:00+00:00",
          "2025-06-29T06:30:00+00:00",
          "2025-06-29T06:31:00+00:00"
         ],
         "type": "candlestick"
        }
       ],
       "layout": {
        "template": {
         "data": {
          "barpolar": [
           {
            "marker": {
             "line": {
              "color": "white",
              "width": 0.5
             },
             "pattern": {
              "fillmode": "overlay",
              "size": 10,
              "solidity": 0.2
             }
            },
            "type": "barpolar"
           }
          ],
          "bar": [
           {
            "error_x": {
             "color": "#2a3f5f"
            },
            "error_y": {
             "color": "#2a3f5f"
            },
            "marker": {
             "line": {
              "color": "white",
              "width": 0.5
             },
             "pattern": {
              "fillmode": "overlay",
              "size": 10,
              "solidity": 0.2
             }
            },
            "type": "bar"
           }
          ],
          "carpet": [
           {
            "aaxis": {
             "endlinecolor": "#2a3f5f",
             "gridcolor": "#C8D4E3",
             "linecolor": "#C8D4E3",
             "minorgridcolor": "#C8D4E3",
             "startlinecolor": "#2a3f5f"
            },
            "baxis": {
             "endlinecolor": "#2a3f5f",
             "gridcolor": "#C8D4E3",
             "linecolor": "#C8D4E3",
             "minorgridcolor": "#C8D4E3",
             "startlinecolor": "#2a3f5f"
            },
            "type": "carpet"
           }
          ],
          "choropleth": [
           {
            "colorbar": {
             "outlinewidth": 0,
             "ticks": ""
            },
            "type": "choropleth"
           }
          ],
          "contourcarpet": [
           {
            "colorbar": {
             "outlinewidth": 0,
             "ticks": ""
            },
            "type": "contourcarpet"
           }
          ],
          "contour": [
           {
            "colorbar": {
             "outlinewidth": 0,
             "ticks": ""
            },
            "colorscale": [
             [
              0.0,
              "#0d0887"
             ],
             [
              0.1111111111111111,
              "#46039f"
             ],
             [
              0.2222222222222222,
              "#7201a8"
             ],
             [
              0.3333333333333333,
              "#9c179e"
             ],
             [
              0.4444444444444444,
              "#bd3786"
             ],
             [
              0.5555555555555556,
              "#d8576b"
             ],
             [
              0.6666666666666666,
              "#ed7953"
             ],
             [
              0.7777777777777778,
              "#fb9f3a"
             ],
             [
              0.8888888888888888,
              "#fdca26"
             ],
             [
              1.0,
              "#f0f921"
             ]
            ],
            "type": "contour"
           }
          ],
          "heatmap": [
           {
            "colorbar": {
             "outlinewidth": 0,
             "ticks": ""
            },
            "colorscale": [
             [
              0.0,
              "#0d0887"
             ],
             [
              0.1111111111111111,
              "#46039f"
             ],
             [
              0.2222222222222222,
              "#7201a8"
             ],
             [
              0.3333333333333333,
              "#9c179e"
             ],
             [
              0.4444444444444444,
              "#bd3786"
             ],
             [
              0.5555555555555556,
              "#d8576b"
             ],
             [
              0.6666666666666666,
              "#ed7953"
             ],
             [
              0.7777777777777778,
              "#fb9f3a"
             ],
             [
              0.8888888888888888,
              "#fdca26"
             ],
             [
              1.0,
              "#f0f921"
             ]
            ],
            "type": "heatmap"
           }
          ],
          "histogram2dcontour": [
           {
            "colorbar": {
             "outlinewidth": 0,
             "ticks": ""
            },
            "colorscale": [
             [
              0.0,
              "#0d0887"
             ],
             [
              0.1111111111111111,
              "#46039f"
             ],
             [
              0.2222222222222222,
              "#7201a8"
             ],
             [
              0.3333333333333333,
              "#9c179e"
             ],
             [
              0.4444444444444444,
              "#bd3786"
             ],
             [
              0.5555555555555556,
              "#d8576b"
             ],
             [
              0.6666666666666666,
              "#ed7953"
             ],
             [
              0.7777777777777778,
              "#fb9f3a"
             ],
             [
              0.8888888888888888,
              "#fdca26"
             ],
             [
              1.0,
              "#f0f921"
             ]
            ],
            "type": "histogram2dcontour"
           }
          ],
          "histogram2d": [
           {
            "colorbar": {
             "outlinewidth": 0,
             "ticks": ""
            },
            "colorscale": [
             [
              0.0,
              "#0d0887"
             ],
             [
              0.1111111111111111,
              "#46039f"
             ],
             [
              0.2222222222222222,
              "#7201a8"
             ],
             [
              0.3333333333333333,
              "#9c179e"
             ],
             [
              0.4444444444444444,
              "#bd3786"
             ],
             [
              0.5555555555555556,
              "#d8576b"
             ],
             [
              0.6666666666666666,
              "#ed7953"
             ],
             [
              0.7777777777777778,
              "#fb9f3a"
             ],
             [
              0.8888888888888888,
              "#fdca26"
             ],
             [
              1.0,
              "#f0f921"
             ]
            ],
            "type": "histogram2d"
           }
          ],
          "histogram": [
           {
            "marker": {
             "pattern": {
              "fillmode": "overlay",
              "size": 10,
              "solidity": 0.2
             }
            },
            "type": "histogram"
           }
          ],
          "mesh3d": [
           {
            "colorbar": {
             "outlinewidth": 0,
             "ticks": ""
            },
            "type": "mesh3d"
           }
          ],
          "parcoords": [
           {
            "line": {
             "colorbar": {
              "outlinewidth": 0,
              "ticks": ""
             }
            },
            "type": "parcoords"
           }
          ],
          "pie": [
           {
            "automargin": true,
            "type": "pie"
           }
          ],
          "scatter3d": [
           {
            "line": {
             "colorbar": {
              "outlinewidth": 0,
              "ticks": ""
             }
            },
            "marker": {
             "colorbar": {
              "outlinewidth": 0,
              "ticks": ""
             }
            },
            "type": "scatter3d"
           }
          ],
          "scattercarpet": [
           {
            "marker": {
             "colorbar": {
              "outlinewidth": 0,
              "ticks": ""
             }
            },
            "type": "scattercarpet"
           }
          ],
          "scattergeo": [
           {
            "marker": {
             "colorbar": {
              "outlinewidth": 0,
              "ticks": ""
             }
            },
            "type": "scattergeo"
           }
          ],
          "scattergl": [
           {
            "marker": {
             "colorbar": {
              "outlinewidth": 0,
              "ticks": ""
             }
            },
            "type": "scattergl"
           }
          ],
          "scattermapbox": [
           {
            "marker": {
             "colorbar": {
              "outlinewidth": 0,
              "ticks": ""
             }
            },
            "type": "scattermapbox"
           }
          ],
          "scattermap": [
           {
            "marker": {
             "colorbar": {
              "outlinewidth": 0,
              "ticks": ""
             }
            },
            "type": "scattermap"
           }
          ],
          "scatterpolargl": [
           {
            "marker": {
             "colorbar": {
              "outlinewidth": 0,
              "ticks": ""
             }
            },
            "type": "scatterpolargl"
           }
          ],
          "scatterpolar": [
           {
            "marker": {
             "colorbar": {
              "outlinewidth": 0,
              "ticks": ""
             }
            },
            "type": "scatterpolar"
           }
          ],
          "scatter": [
           {
            "fillpattern": {
             "fillmode": "overlay",
             "size": 10,
             "solidity": 0.2
            },
            "type": "scatter"
           }
          ],
          "scatterternary": [
           {
            "marker": {
             "colorbar": {
              "outlinewidth": 0,
              "ticks": ""
             }
            },
            "type": "scatterternary"
           }
          ],
          "surface": [
           {
            "colorbar": {
             "outlinewidth": 0,
             "ticks": ""
            },
            "colorscale": [
             [
              0.0,
              "#0d0887"
             ],
             [
              0.1111111111111111,
              "#46039f"
             ],
             [
              0.2222222222222222,
              "#7201a8"
             ],
             [
              0.3333333333333333,
              "#9c179e"
             ],
             [
              0.4444444444444444,
              "#bd3786"
             ],
             [
              0.5555555555555556,
              "#d8576b"
             ],
             [
              0.6666666666666666,
              "#ed7953"
             ],
             [
              0.7777777777777778,
              "#fb9f3a"
             ],
             [
              0.8888888888888888,
              "#fdca26"
             ],
             [
              1.0,
              "#f0f921"
             ]
            ],
            "type": "surface"
           }
          ],
          "table": [
           {
            "cells": {
             "fill": {
              "color": "#EBF0F8"
             },
             "line": {
              "color": "white"
             }
            },
            "header": {
             "fill": {
              "color": "#C8D4E3"
             },
             "line": {
              "color": "white"
             }
            },
            "type": "table"
           }
          ]
         },
         "layout": {
          "annotationdefaults": {
           "arrowcolor": "#2a3f5f",
           "arrowhead": 0,
           "arrowwidth": 1
          },
          "autotypenumbers": "strict",
          "coloraxis": {
           "colorbar": {
            "outlinewidth": 0,
            "ticks": ""
           }
          },
          "colorscale": {
           "diverging": [
            [
             0,
             "#8e0152"
            ],
            [
             0.1,
             "#c51b7d"
            ],
            [
             0.2,
             "#de77ae"
            ],
            [
             0.3,
             "#f1b6da"
            ],
            [
             0.4,
             "#fde0ef"
            ],
            [
             0.5,
             "#f7f7f7"
            ],
            [
             0.6,
             "#e6f5d0"
            ],
            [
             0.7,
             "#b8e186"
            ],
            [
             0.8,
             "#7fbc41"
            ],
            [
             0.9,
             "#4d9221"
            ],
            [
             1,
             "#276419"
            ]
           ],
           "sequential": [
            [
             0.0,
             "#0d0887"
            ],
            [
             0.1111111111111111,
             "#46039f"
            ],
            [
             0.2222222222222222,
             "#7201a8"
            ],
            [
             0.3333333333333333,
             "#9c179e"
            ],
            [
             0.4444444444444444,
             "#bd3786"
            ],
            [
             0.5555555555555556,
             "#d8576b"
            ],
            [
             0.6666666666666666,
             "#ed7953"
            ],
            [
             0.7777777777777778,
             "#fb9f3a"
            ],
            [
             0.8888888888888888,
             "#fdca26"
            ],
            [
             1.0,
             "#f0f921"
            ]
           ],
           "sequentialminus": [
            [
             0.0,
             "#0d0887"
            ],
            [
             0.1111111111111111,
             "#46039f"
            ],
            [
             0.2222222222222222,
             "#7201a8"
            ],
            [
             0.3333333333333333,
             "#9c179e"
            ],
            [
             0.4444444444444444,
             "#bd3786"
            ],
            [
             0.5555555555555556,
             "#d8576b"
            ],
            [
             0.6666666666666666,
             "#ed7953"
            ],
            [
             0.7777777777777778,
             "#fb9f3a"
            ],
            [
             0.8888888888888888,
             "#fdca26"
            ],
            [
             1.0,
             "#f0f921"
            ]
           ]
          },
          "colorway": [
           "#636efa",
           "#EF553B",
           "#00cc96",
           "#ab63fa",
           "#FFA15A",
           "#19d3f3",
           "#FF6692",
           "#B6E880",
           "#FF97FF",
           "#FECB52"
          ],
          "font": {
           "color": "#2a3f5f"
          },
          "geo": {
           "bgcolor": "white",
           "lakecolor": "white",
           "landcolor": "white",
           "showlakes": true,
           "showland": true,
           "subunitcolor": "#C8D4E3"
          },
          "hoverlabel": {
           "align": "left"
          },
          "hovermode": "closest",
          "mapbox": {
           "style": "light"
          },
          "paper_bgcolor": "white",
          "plot_bgcolor": "white",
          "polar": {
           "angularaxis": {
            "gridcolor": "#EBF0F8",
            "linecolor": "#EBF0F8",
            "ticks": ""
           },
           "bgcolor": "white",
           "radialaxis": {
            "gridcolor": "#EBF0F8",
            "linecolor": "#EBF0F8",
            "ticks": ""
           }
          },
          "scene": {
           "xaxis": {
            "backgroundcolor": "white",
            "gridcolor": "#DFE8F3",
            "gridwidth": 2,
            "linecolor": "#EBF0F8",
            "showbackground": true,
            "ticks": "",
            "zerolinecolor": "#EBF0F8"
           },
           "yaxis": {
            "backgroundcolor": "white",
            "gridcolor": "#DFE8F3",
            "gridwidth": 2,
            "linecolor": "#EBF0F8",
            "showbackground": true,
            "ticks": "",
            "zerolinecolor": "#EBF0F8"
           },
           "zaxis": {
            "backgroundcolor": "white",
            "gridcolor": "#DFE8F3",
            "gridwidth": 2,
            "linecolor": "#EBF0F8",
            "showbackground": true,
            "ticks": "",
            "zerolinecolor": "#EBF0F8"
           }
          },
          "shapedefaults": {
           "line": {
            "color": "#2a3f5f"
           }
          },
          "ternary": {
           "aaxis": {
            "gridcolor": "#DFE8F3",
            "linecolor": "#A2B1C6",
            "ticks": ""
           },
           "baxis": {
            "gridcolor": "#DFE8F3",
            "linecolor": "#A2B1C6",
            "ticks": ""
           },
           "bgcolor": "white",
           "caxis": {
            "gridcolor": "#DFE8F3",
            "linecolor": "#A2B1C6",
            "ticks": ""
           }
          },
          "title": {
           "x": 0.05
          },
          "xaxis": {
           "automargin": true,
           "gridcolor": "#EBF0F8",
           "linecolor": "#EBF0F8",
           "ticks": "",
           "title": {
            "standoff": 15
           },
           "zerolinecolor": "#EBF0F8",
           "zerolinewidth": 2
          },
          "yaxis": {
           "automargin": true,
           "gridcolor": "#EBF0F8",
           "linecolor": "#EBF0F8",
           "ticks": "",
           "title": {
            "standoff": 15
           },
           "zerolinecolor": "#EBF0F8",
           "zerolinewidth": 2
          }
         }
        },
        "xaxis": {
         "rangeslider": {
          "visible": false
         },
         "title": {
          "text": "Time"
         },
         "range": [
          "2025-06-28T18:32:00+00:00",
          "2025-06-29T06:31:00+00:00"
         ]
        },
        "title": {
         "text": "Best 12-Hour Fragment – Sideways"
        },
        "yaxis": {
         "title": {
          "text": "Price"
         }
        },
        "height": 600,
        "hovermode": "x unified"
       },
       "config": {
        "plotlyServerURL": "https://plot.ly"
       }
      }
     },
     "metadata": {},
     "output_type": "display_data"
    },
    {
     "data": {
      "application/vnd.plotly.v1+json": {
       "data": [
        {
         "close": {
          "dtype": "f8",
          "bdata": "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"
         },
         "decreasing": {
          "line": {
           "color": "red"
          }
         },
         "high": {
          "dtype": "f8",
          "bdata": "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"
         },
         "increasing": {
          "line": {
           "color": "lime"
          }
         },
         "low": {
          "dtype": "f8",
          "bdata": "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"
         },
         "name": "Price",
         "open": {
          "dtype": "f8",
          "bdata": "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"
         },
         "x": [
          "2025-06-30T00:32:00+00:00",
          "2025-06-30T00:33:00+00:00",
          "2025-06-30T00:34:00+00:00",
          "2025-06-30T00:35:00+00:00",
          "2025-06-30T00:36:00+00:00",
          "2025-06-30T00:37:00+00:00",
          "2025-06-30T00:38:00+00:00",
          "2025-06-30T00:39:00+00:00",
          "2025-06-30T00:40:00+00:00",
          "2025-06-30T00:41:00+00:00",
          "2025-06-30T00:42:00+00:00",
          "2025-06-30T00:43:00+00:00",
          "2025-06-30T00:44:00+00:00",
          "2025-06-30T00:45:00+00:00",
          "2025-06-30T00:46:00+00:00",
          "2025-06-30T00:47:00+00:00",
          "2025-06-30T00:48:00+00:00",
          "2025-06-30T00:49:00+00:00",
          "2025-06-30T00:50:00+00:00",
          "2025-06-30T00:51:00+00:00",
          "2025-06-30T00:52:00+00:00",
          "2025-06-30T00:53:00+00:00",
          "2025-06-30T00:54:00+00:00",
          "2025-06-30T00:55:00+00:00",
          "2025-06-30T00:56:00+00:00",
          "2025-06-30T00:57:00+00:00",
          "2025-06-30T00:58:00+00:00",
          "2025-06-30T00:59:00+00:00",
          "2025-06-30T01:00:00+00:00",
          "2025-06-30T01:01:00+00:00",
          "2025-06-30T01:02:00+00:00",
          "2025-06-30T01:03:00+00:00",
          "2025-06-30T01:04:00+00:00",
          "2025-06-30T01:05:00+00:00",
          "2025-06-30T01:06:00+00:00",
          "2025-06-30T01:07:00+00:00",
          "2025-06-30T01:08:00+00:00",
          "2025-06-30T01:09:00+00:00",
          "2025-06-30T01:10:00+00:00",
          "2025-06-30T01:11:00+00:00",
          "2025-06-30T01:12:00+00:00",
          "2025-06-30T01:13:00+00:00",
          "2025-06-30T01:14:00+00:00",
          "2025-06-30T01:15:00+00:00",
          "2025-06-30T01:16:00+00:00",
          "2025-06-30T01:17:00+00:00",
          "2025-06-30T01:18:00+00:00",
          "2025-06-30T01:19:00+00:00",
          "2025-06-30T01:20:00+00:00",
          "2025-06-30T01:21:00+00:00",
          "2025-06-30T01:22:00+00:00",
          "2025-06-30T01:23:00+00:00",
          "2025-06-30T01:24:00+00:00",
          "2025-06-30T01:25:00+00:00",
          "2025-06-30T01:26:00+00:00",
          "2025-06-30T01:27:00+00:00",
          "2025-06-30T01:28:00+00:00",
          "2025-06-30T01:29:00+00:00",
          "2025-06-30T01:30:00+00:00",
          "2025-06-30T01:31:00+00:00",
          "2025-06-30T01:32:00+00:00",
          "2025-06-30T01:33:00+00:00",
          "2025-06-30T01:34:00+00:00",
          "2025-06-30T01:35:00+00:00",
          "2025-06-30T01:36:00+00:00",
          "2025-06-30T01:37:00+00:00",
          "2025-06-30T01:38:00+00:00",
          "2025-06-30T01:39:00+00:00",
          "2025-06-30T01:40:00+00:00",
          "2025-06-30T01:41:00+00:00",
          "2025-06-30T01:42:00+00:00",
          "2025-06-30T01:43:00+00:00",
          "2025-06-30T01:44:00+00:00",
          "2025-06-30T01:45:00+00:00",
          "2025-06-30T01:46:00+00:00",
          "2025-06-30T01:47:00+00:00",
          "2025-06-30T01:48:00+00:00",
          "2025-06-30T01:49:00+00:00",
          "2025-06-30T01:50:00+00:00",
          "2025-06-30T01:51:00+00:00",
          "2025-06-30T01:52:00+00:00",
          "2025-06-30T01:53:00+00:00",
          "2025-06-30T01:54:00+00:00",
          "2025-06-30T01:55:00+00:00",
          "2025-06-30T01:56:00+00:00",
          "2025-06-30T01:57:00+00:00",
          "2025-06-30T01:58:00+00:00",
          "2025-06-30T01:59:00+00:00",
          "2025-06-30T02:00:00+00:00",
          "2025-06-30T02:01:00+00:00",
          "2025-06-30T02:02:00+00:00",
          "2025-06-30T02:03:00+00:00",
          "2025-06-30T02:04:00+00:00",
          "2025-06-30T02:05:00+00:00",
          "2025-06-30T02:06:00+00:00",
          "2025-06-30T02:07:00+00:00",
          "2025-06-30T02:08:00+00:00",
          "2025-06-30T02:09:00+00:00",
          "2025-06-30T02:10:00+00:00",
          "2025-06-30T02:11:00+00:00",
          "2025-06-30T02:12:00+00:00",
          "2025-06-30T02:13:00+00:00",
          "2025-06-30T02:14:00+00:00",
          "2025-06-30T02:15:00+00:00",
          "2025-06-30T02:16:00+00:00",
          "2025-06-30T02:17:00+00:00",
          "2025-06-30T02:18:00+00:00",
          "2025-06-30T02:19:00+00:00",
          "2025-06-30T02:20:00+00:00",
          "2025-06-30T02:21:00+00:00",
          "2025-06-30T02:22:00+00:00",
          "2025-06-30T02:23:00+00:00",
          "2025-06-30T02:24:00+00:00",
          "2025-06-30T02:25:00+00:00",
          "2025-06-30T02:26:00+00:00",
          "2025-06-30T02:27:00+00:00",
          "2025-06-30T02:28:00+00:00",
          "2025-06-30T02:29:00+00:00",
          "2025-06-30T02:30:00+00:00",
          "2025-06-30T02:31:00+00:00",
          "2025-06-30T02:32:00+00:00",
          "2025-06-30T02:33:00+00:00",
          "2025-06-30T02:34:00+00:00",
          "2025-06-30T02:35:00+00:00",
          "2025-06-30T02:36:00+00:00",
          "2025-06-30T02:37:00+00:00",
          "2025-06-30T02:38:00+00:00",
          "2025-06-30T02:39:00+00:00",
          "2025-06-30T02:40:00+00:00",
          "2025-06-30T02:41:00+00:00",
          "2025-06-30T02:42:00+00:00",
          "2025-06-30T02:43:00+00:00",
          "2025-06-30T02:44:00+00:00",
          "2025-06-30T02:45:00+00:00",
          "2025-06-30T02:46:00+00:00",
          "2025-06-30T02:47:00+00:00",
          "2025-06-30T02:48:00+00:00",
          "2025-06-30T02:49:00+00:00",
          "2025-06-30T02:50:00+00:00",
          "2025-06-30T02:51:00+00:00",
          "2025-06-30T02:52:00+00:00",
          "2025-06-30T02:53:00+00:00",
          "2025-06-30T02:54:00+00:00",
          "2025-06-30T02:55:00+00:00",
          "2025-06-30T02:56:00+00:00",
          "2025-06-30T02:57:00+00:00",
          "2025-06-30T02:58:00+00:00",
          "2025-06-30T02:59:00+00:00",
          "2025-06-30T03:00:00+00:00",
          "2025-06-30T03:01:00+00:00",
          "2025-06-30T03:02:00+00:00",
          "2025-06-30T03:03:00+00:00",
          "2025-06-30T03:04:00+00:00",
          "2025-06-30T03:05:00+00:00",
          "2025-06-30T03:06:00+00:00",
          "2025-06-30T03:07:00+00:00",
          "2025-06-30T03:08:00+00:00",
          "2025-06-30T03:09:00+00:00",
          "2025-06-30T03:10:00+00:00",
          "2025-06-30T03:11:00+00:00",
          "2025-06-30T03:12:00+00:00",
          "2025-06-30T03:13:00+00:00",
          "2025-06-30T03:14:00+00:00",
          "2025-06-30T03:15:00+00:00",
          "2025-06-30T03:16:00+00:00",
          "2025-06-30T03:17:00+00:00",
          "2025-06-30T03:18:00+00:00",
          "2025-06-30T03:19:00+00:00",
          "2025-06-30T03:20:00+00:00",
          "2025-06-30T03:21:00+00:00",
          "2025-06-30T03:22:00+00:00",
          "2025-06-30T03:23:00+00:00",
          "2025-06-30T03:24:00+00:00",
          "2025-06-30T03:25:00+00:00",
          "2025-06-30T03:26:00+00:00",
          "2025-06-30T03:27:00+00:00",
          "2025-06-30T03:28:00+00:00",
          "2025-06-30T03:29:00+00:00",
          "2025-06-30T03:30:00+00:00",
          "2025-06-30T03:31:00+00:00",
          "2025-06-30T03:32:00+00:00",
          "2025-06-30T03:33:00+00:00",
          "2025-06-30T03:34:00+00:00",
          "2025-06-30T03:35:00+00:00",
          "2025-06-30T03:36:00+00:00",
          "2025-06-30T03:37:00+00:00",
          "2025-06-30T03:38:00+00:00",
          "2025-06-30T03:39:00+00:00",
          "2025-06-30T03:40:00+00:00",
          "2025-06-30T03:41:00+00:00",
          "2025-06-30T03:42:00+00:00",
          "2025-06-30T03:43:00+00:00",
          "2025-06-30T03:44:00+00:00",
          "2025-06-30T03:45:00+00:00",
          "2025-06-30T03:46:00+00:00",
          "2025-06-30T03:47:00+00:00",
          "2025-06-30T03:48:00+00:00",
          "2025-06-30T03:49:00+00:00",
          "2025-06-30T03:50:00+00:00",
          "2025-06-30T03:51:00+00:00",
          "2025-06-30T03:52:00+00:00",
          "2025-06-30T03:53:00+00:00",
          "2025-06-30T03:54:00+00:00",
          "2025-06-30T03:55:00+00:00",
          "2025-06-30T03:56:00+00:00",
          "2025-06-30T03:57:00+00:00",
          "2025-06-30T03:58:00+00:00",
          "2025-06-30T03:59:00+00:00",
          "2025-06-30T04:00:00+00:00",
          "2025-06-30T04:01:00+00:00",
          "2025-06-30T04:02:00+00:00",
          "2025-06-30T04:03:00+00:00",
          "2025-06-30T04:04:00+00:00",
          "2025-06-30T04:05:00+00:00",
          "2025-06-30T04:06:00+00:00",
          "2025-06-30T04:07:00+00:00",
          "2025-06-30T04:08:00+00:00",
          "2025-06-30T04:09:00+00:00",
          "2025-06-30T04:10:00+00:00",
          "2025-06-30T04:11:00+00:00",
          "2025-06-30T04:12:00+00:00",
          "2025-06-30T04:13:00+00:00",
          "2025-06-30T04:14:00+00:00",
          "2025-06-30T04:15:00+00:00",
          "2025-06-30T04:16:00+00:00",
          "2025-06-30T04:17:00+00:00",
          "2025-06-30T04:18:00+00:00",
          "2025-06-30T04:19:00+00:00",
          "2025-06-30T04:20:00+00:00",
          "2025-06-30T04:21:00+00:00",
          "2025-06-30T04:22:00+00:00",
          "2025-06-30T04:23:00+00:00",
          "2025-06-30T04:24:00+00:00",
          "2025-06-30T04:25:00+00:00",
          "2025-06-30T04:26:00+00:00",
          "2025-06-30T04:27:00+00:00",
          "2025-06-30T04:28:00+00:00",
          "2025-06-30T04:29:00+00:00",
          "2025-06-30T04:30:00+00:00",
          "2025-06-30T04:31:00+00:00",
          "2025-06-30T04:32:00+00:00",
          "2025-06-30T04:33:00+00:00",
          "2025-06-30T04:34:00+00:00",
          "2025-06-30T04:35:00+00:00",
          "2025-06-30T04:36:00+00:00",
          "2025-06-30T04:37:00+00:00",
          "2025-06-30T04:38:00+00:00",
          "2025-06-30T04:39:00+00:00",
          "2025-06-30T04:40:00+00:00",
          "2025-06-30T04:41:00+00:00",
          "2025-06-30T04:42:00+00:00",
          "2025-06-30T04:43:00+00:00",
          "2025-06-30T04:44:00+00:00",
          "2025-06-30T04:45:00+00:00",
          "2025-06-30T04:46:00+00:00",
          "2025-06-30T04:47:00+00:00",
          "2025-06-30T04:48:00+00:00",
          "2025-06-30T04:49:00+00:00",
          "2025-06-30T04:50:00+00:00",
          "2025-06-30T04:51:00+00:00",
          "2025-06-30T04:52:00+00:00",
          "2025-06-30T04:53:00+00:00",
          "2025-06-30T04:54:00+00:00",
          "2025-06-30T04:55:00+00:00",
          "2025-06-30T04:56:00+00:00",
          "2025-06-30T04:57:00+00:00",
          "2025-06-30T04:58:00+00:00",
          "2025-06-30T04:59:00+00:00",
          "2025-06-30T05:00:00+00:00",
          "2025-06-30T05:01:00+00:00",
          "2025-06-30T05:02:00+00:00",
          "2025-06-30T05:03:00+00:00",
          "2025-06-30T05:04:00+00:00",
          "2025-06-30T05:05:00+00:00",
          "2025-06-30T05:06:00+00:00",
          "2025-06-30T05:07:00+00:00",
          "2025-06-30T05:08:00+00:00",
          "2025-06-30T05:09:00+00:00",
          "2025-06-30T05:10:00+00:00",
          "2025-06-30T05:11:00+00:00",
          "2025-06-30T05:12:00+00:00",
          "2025-06-30T05:13:00+00:00",
          "2025-06-30T05:14:00+00:00",
          "2025-06-30T05:15:00+00:00",
          "2025-06-30T05:16:00+00:00",
          "2025-06-30T05:17:00+00:00",
          "2025-06-30T05:18:00+00:00",
          "2025-06-30T05:19:00+00:00",
          "2025-06-30T05:20:00+00:00",
          "2025-06-30T05:21:00+00:00",
          "2025-06-30T05:22:00+00:00",
          "2025-06-30T05:23:00+00:00",
          "2025-06-30T05:24:00+00:00",
          "2025-06-30T05:25:00+00:00",
          "2025-06-30T05:26:00+00:00",
          "2025-06-30T05:27:00+00:00",
          "2025-06-30T05:28:00+00:00",
          "2025-06-30T05:29:00+00:00",
          "2025-06-30T05:30:00+00:00",
          "2025-06-30T05:31:00+00:00",
          "2025-06-30T05:32:00+00:00",
          "2025-06-30T05:33:00+00:00",
          "2025-06-30T05:34:00+00:00",
          "2025-06-30T05:35:00+00:00",
          "2025-06-30T05:36:00+00:00",
          "2025-06-30T05:37:00+00:00",
          "2025-06-30T05:38:00+00:00",
          "2025-06-30T05:39:00+00:00",
          "2025-06-30T05:40:00+00:00",
          "2025-06-30T05:41:00+00:00",
          "2025-06-30T05:42:00+00:00",
          "2025-06-30T05:43:00+00:00",
          "2025-06-30T05:44:00+00:00",
          "2025-06-30T05:45:00+00:00",
          "2025-06-30T05:46:00+00:00",
          "2025-06-30T05:47:00+00:00",
          "2025-06-30T05:48:00+00:00",
          "2025-06-30T05:49:00+00:00",
          "2025-06-30T05:50:00+00:00",
          "2025-06-30T05:51:00+00:00",
          "2025-06-30T05:52:00+00:00",
          "2025-06-30T05:53:00+00:00",
          "2025-06-30T05:54:00+00:00",
          "2025-06-30T05:55:00+00:00",
          "2025-06-30T05:56:00+00:00",
          "2025-06-30T05:57:00+00:00",
          "2025-06-30T05:58:00+00:00",
          "2025-06-30T05:59:00+00:00",
          "2025-06-30T06:00:00+00:00",
          "2025-06-30T06:01:00+00:00",
          "2025-06-30T06:02:00+00:00",
          "2025-06-30T06:03:00+00:00",
          "2025-06-30T06:04:00+00:00",
          "2025-06-30T06:05:00+00:00",
          "2025-06-30T06:06:00+00:00",
          "2025-06-30T06:07:00+00:00",
          "2025-06-30T06:08:00+00:00",
          "2025-06-30T06:09:00+00:00",
          "2025-06-30T06:10:00+00:00",
          "2025-06-30T06:11:00+00:00",
          "2025-06-30T06:12:00+00:00",
          "2025-06-30T06:13:00+00:00",
          "2025-06-30T06:14:00+00:00",
          "2025-06-30T06:15:00+00:00",
          "2025-06-30T06:16:00+00:00",
          "2025-06-30T06:17:00+00:00",
          "2025-06-30T06:18:00+00:00",
          "2025-06-30T06:19:00+00:00",
          "2025-06-30T06:20:00+00:00",
          "2025-06-30T06:21:00+00:00",
          "2025-06-30T06:22:00+00:00",
          "2025-06-30T06:23:00+00:00",
          "2025-06-30T06:24:00+00:00",
          "2025-06-30T06:25:00+00:00",
          "2025-06-30T06:26:00+00:00",
          "2025-06-30T06:27:00+00:00",
          "2025-06-30T06:28:00+00:00",
          "2025-06-30T06:29:00+00:00",
          "2025-06-30T06:30:00+00:00",
          "2025-06-30T06:31:00+00:00",
          "2025-06-30T06:32:00+00:00",
          "2025-06-30T06:33:00+00:00",
          "2025-06-30T06:34:00+00:00",
          "2025-06-30T06:35:00+00:00",
          "2025-06-30T06:36:00+00:00",
          "2025-06-30T06:37:00+00:00",
          "2025-06-30T06:38:00+00:00",
          "2025-06-30T06:39:00+00:00",
          "2025-06-30T06:40:00+00:00",
          "2025-06-30T06:41:00+00:00",
          "2025-06-30T06:42:00+00:00",
          "2025-06-30T06:43:00+00:00",
          "2025-06-30T06:44:00+00:00",
          "2025-06-30T06:45:00+00:00",
          "2025-06-30T06:46:00+00:00",
          "2025-06-30T06:47:00+00:00",
          "2025-06-30T06:48:00+00:00",
          "2025-06-30T06:49:00+00:00",
          "2025-06-30T06:50:00+00:00",
          "2025-06-30T06:51:00+00:00",
          "2025-06-30T06:52:00+00:00",
          "2025-06-30T06:53:00+00:00",
          "2025-06-30T06:54:00+00:00",
          "2025-06-30T06:55:00+00:00",
          "2025-06-30T06:56:00+00:00",
          "2025-06-30T06:57:00+00:00",
          "2025-06-30T06:58:00+00:00",
          "2025-06-30T06:59:00+00:00",
          "2025-06-30T07:00:00+00:00",
          "2025-06-30T07:01:00+00:00",
          "2025-06-30T07:02:00+00:00",
          "2025-06-30T07:03:00+00:00",
          "2025-06-30T07:04:00+00:00",
          "2025-06-30T07:05:00+00:00",
          "2025-06-30T07:06:00+00:00",
          "2025-06-30T07:07:00+00:00",
          "2025-06-30T07:08:00+00:00",
          "2025-06-30T07:09:00+00:00",
          "2025-06-30T07:10:00+00:00",
          "2025-06-30T07:11:00+00:00",
          "2025-06-30T07:12:00+00:00",
          "2025-06-30T07:13:00+00:00",
          "2025-06-30T07:14:00+00:00",
          "2025-06-30T07:15:00+00:00",
          "2025-06-30T07:16:00+00:00",
          "2025-06-30T07:17:00+00:00",
          "2025-06-30T07:18:00+00:00",
          "2025-06-30T07:19:00+00:00",
          "2025-06-30T07:20:00+00:00",
          "2025-06-30T07:21:00+00:00",
          "2025-06-30T07:22:00+00:00",
          "2025-06-30T07:23:00+00:00",
          "2025-06-30T07:24:00+00:00",
          "2025-06-30T07:25:00+00:00",
          "2025-06-30T07:26:00+00:00",
          "2025-06-30T07:27:00+00:00",
          "2025-06-30T07:28:00+00:00",
          "2025-06-30T07:29:00+00:00",
          "2025-06-30T07:30:00+00:00",
          "2025-06-30T07:31:00+00:00",
          "2025-06-30T07:32:00+00:00",
          "2025-06-30T07:33:00+00:00",
          "2025-06-30T07:34:00+00:00",
          "2025-06-30T07:35:00+00:00",
          "2025-06-30T07:36:00+00:00",
          "2025-06-30T07:37:00+00:00",
          "2025-06-30T07:38:00+00:00",
          "2025-06-30T07:39:00+00:00",
          "2025-06-30T07:40:00+00:00",
          "2025-06-30T07:41:00+00:00",
          "2025-06-30T07:42:00+00:00",
          "2025-06-30T07:43:00+00:00",
          "2025-06-30T07:44:00+00:00",
          "2025-06-30T07:45:00+00:00",
          "2025-06-30T07:46:00+00:00",
          "2025-06-30T07:47:00+00:00",
          "2025-06-30T07:48:00+00:00",
          "2025-06-30T07:49:00+00:00",
          "2025-06-30T07:50:00+00:00",
          "2025-06-30T07:51:00+00:00",
          "2025-06-30T07:52:00+00:00",
          "2025-06-30T07:53:00+00:00",
          "2025-06-30T07:54:00+00:00",
          "2025-06-30T07:55:00+00:00",
          "2025-06-30T07:56:00+00:00",
          "2025-06-30T07:57:00+00:00",
          "2025-06-30T07:58:00+00:00",
          "2025-06-30T07:59:00+00:00",
          "2025-06-30T08:00:00+00:00",
          "2025-06-30T08:01:00+00:00",
          "2025-06-30T08:02:00+00:00",
          "2025-06-30T08:03:00+00:00",
          "2025-06-30T08:04:00+00:00",
          "2025-06-30T08:05:00+00:00",
          "2025-06-30T08:06:00+00:00",
          "2025-06-30T08:07:00+00:00",
          "2025-06-30T08:08:00+00:00",
          "2025-06-30T08:09:00+00:00",
          "2025-06-30T08:10:00+00:00",
          "2025-06-30T08:11:00+00:00",
          "2025-06-30T08:12:00+00:00",
          "2025-06-30T08:13:00+00:00",
          "2025-06-30T08:14:00+00:00",
          "2025-06-30T08:15:00+00:00",
          "2025-06-30T08:16:00+00:00",
          "2025-06-30T08:17:00+00:00",
          "2025-06-30T08:18:00+00:00",
          "2025-06-30T08:19:00+00:00",
          "2025-06-30T08:20:00+00:00",
          "2025-06-30T08:21:00+00:00",
          "2025-06-30T08:22:00+00:00",
          "2025-06-30T08:23:00+00:00",
          "2025-06-30T08:24:00+00:00",
          "2025-06-30T08:25:00+00:00",
          "2025-06-30T08:26:00+00:00",
          "2025-06-30T08:27:00+00:00",
          "2025-06-30T08:28:00+00:00",
          "2025-06-30T08:29:00+00:00",
          "2025-06-30T08:30:00+00:00",
          "2025-06-30T08:31:00+00:00",
          "2025-06-30T08:32:00+00:00",
          "2025-06-30T08:33:00+00:00",
          "2025-06-30T08:34:00+00:00",
          "2025-06-30T08:35:00+00:00",
          "2025-06-30T08:36:00+00:00",
          "2025-06-30T08:37:00+00:00",
          "2025-06-30T08:38:00+00:00",
          "2025-06-30T08:39:00+00:00",
          "2025-06-30T08:40:00+00:00",
          "2025-06-30T08:41:00+00:00",
          "2025-06-30T08:42:00+00:00",
          "2025-06-30T08:43:00+00:00",
          "2025-06-30T08:44:00+00:00",
          "2025-06-30T08:45:00+00:00",
          "2025-06-30T08:46:00+00:00",
          "2025-06-30T08:47:00+00:00",
          "2025-06-30T08:48:00+00:00",
          "2025-06-30T08:49:00+00:00",
          "2025-06-30T08:50:00+00:00",
          "2025-06-30T08:51:00+00:00",
          "2025-06-30T08:52:00+00:00",
          "2025-06-30T08:53:00+00:00",
          "2025-06-30T08:54:00+00:00",
          "2025-06-30T08:55:00+00:00",
          "2025-06-30T08:56:00+00:00",
          "2025-06-30T08:57:00+00:00",
          "2025-06-30T08:58:00+00:00",
          "2025-06-30T08:59:00+00:00",
          "2025-06-30T09:00:00+00:00",
          "2025-06-30T09:01:00+00:00",
          "2025-06-30T09:02:00+00:00",
          "2025-06-30T09:03:00+00:00",
          "2025-06-30T09:04:00+00:00",
          "2025-06-30T09:05:00+00:00",
          "2025-06-30T09:06:00+00:00",
          "2025-06-30T09:07:00+00:00",
          "2025-06-30T09:08:00+00:00",
          "2025-06-30T09:09:00+00:00",
          "2025-06-30T09:10:00+00:00",
          "2025-06-30T09:11:00+00:00",
          "2025-06-30T09:12:00+00:00",
          "2025-06-30T09:13:00+00:00",
          "2025-06-30T09:14:00+00:00",
          "2025-06-30T09:15:00+00:00",
          "2025-06-30T09:16:00+00:00",
          "2025-06-30T09:17:00+00:00",
          "2025-06-30T09:18:00+00:00",
          "2025-06-30T09:19:00+00:00",
          "2025-06-30T09:20:00+00:00",
          "2025-06-30T09:21:00+00:00",
          "2025-06-30T09:22:00+00:00",
          "2025-06-30T09:23:00+00:00",
          "2025-06-30T09:24:00+00:00",
          "2025-06-30T09:25:00+00:00",
          "2025-06-30T09:26:00+00:00",
          "2025-06-30T09:27:00+00:00",
          "2025-06-30T09:28:00+00:00",
          "2025-06-30T09:29:00+00:00",
          "2025-06-30T09:30:00+00:00",
          "2025-06-30T09:31:00+00:00",
          "2025-06-30T09:32:00+00:00",
          "2025-06-30T09:33:00+00:00",
          "2025-06-30T09:34:00+00:00",
          "2025-06-30T09:35:00+00:00",
          "2025-06-30T09:36:00+00:00",
          "2025-06-30T09:37:00+00:00",
          "2025-06-30T09:38:00+00:00",
          "2025-06-30T09:39:00+00:00",
          "2025-06-30T09:40:00+00:00",
          "2025-06-30T09:41:00+00:00",
          "2025-06-30T09:42:00+00:00",
          "2025-06-30T09:43:00+00:00",
          "2025-06-30T09:44:00+00:00",
          "2025-06-30T09:45:00+00:00",
          "2025-06-30T09:46:00+00:00",
          "2025-06-30T09:47:00+00:00",
          "2025-06-30T09:48:00+00:00",
          "2025-06-30T09:49:00+00:00",
          "2025-06-30T09:50:00+00:00",
          "2025-06-30T09:51:00+00:00",
          "2025-06-30T09:52:00+00:00",
          "2025-06-30T09:53:00+00:00",
          "2025-06-30T09:54:00+00:00",
          "2025-06-30T09:55:00+00:00",
          "2025-06-30T09:56:00+00:00",
          "2025-06-30T09:57:00+00:00",
          "2025-06-30T09:58:00+00:00",
          "2025-06-30T09:59:00+00:00",
          "2025-06-30T10:00:00+00:00",
          "2025-06-30T10:01:00+00:00",
          "2025-06-30T10:02:00+00:00",
          "2025-06-30T10:03:00+00:00",
          "2025-06-30T10:04:00+00:00",
          "2025-06-30T10:05:00+00:00",
          "2025-06-30T10:06:00+00:00",
          "2025-06-30T10:07:00+00:00",
          "2025-06-30T10:08:00+00:00",
          "2025-06-30T10:09:00+00:00",
          "2025-06-30T10:10:00+00:00",
          "2025-06-30T10:11:00+00:00",
          "2025-06-30T10:12:00+00:00",
          "2025-06-30T10:13:00+00:00",
          "2025-06-30T10:14:00+00:00",
          "2025-06-30T10:15:00+00:00",
          "2025-06-30T10:16:00+00:00",
          "2025-06-30T10:17:00+00:00",
          "2025-06-30T10:18:00+00:00",
          "2025-06-30T10:19:00+00:00",
          "2025-06-30T10:20:00+00:00",
          "2025-06-30T10:21:00+00:00",
          "2025-06-30T10:22:00+00:00",
          "2025-06-30T10:23:00+00:00",
          "2025-06-30T10:24:00+00:00",
          "2025-06-30T10:25:00+00:00",
          "2025-06-30T10:26:00+00:00",
          "2025-06-30T10:27:00+00:00",
          "2025-06-30T10:28:00+00:00",
          "2025-06-30T10:29:00+00:00",
          "2025-06-30T10:30:00+00:00",
          "2025-06-30T10:31:00+00:00",
          "2025-06-30T10:32:00+00:00",
          "2025-06-30T10:33:00+00:00",
          "2025-06-30T10:34:00+00:00",
          "2025-06-30T10:35:00+00:00",
          "2025-06-30T10:36:00+00:00",
          "2025-06-30T10:37:00+00:00",
          "2025-06-30T10:38:00+00:00",
          "2025-06-30T10:39:00+00:00",
          "2025-06-30T10:40:00+00:00",
          "2025-06-30T10:41:00+00:00",
          "2025-06-30T10:42:00+00:00",
          "2025-06-30T10:43:00+00:00",
          "2025-06-30T10:44:00+00:00",
          "2025-06-30T10:45:00+00:00",
          "2025-06-30T10:46:00+00:00",
          "2025-06-30T10:47:00+00:00",
          "2025-06-30T10:48:00+00:00",
          "2025-06-30T10:49:00+00:00",
          "2025-06-30T10:50:00+00:00",
          "2025-06-30T10:51:00+00:00",
          "2025-06-30T10:52:00+00:00",
          "2025-06-30T10:53:00+00:00",
          "2025-06-30T10:54:00+00:00",
          "2025-06-30T10:55:00+00:00",
          "2025-06-30T10:56:00+00:00",
          "2025-06-30T10:57:00+00:00",
          "2025-06-30T10:58:00+00:00",
          "2025-06-30T10:59:00+00:00",
          "2025-06-30T11:00:00+00:00",
          "2025-06-30T11:01:00+00:00",
          "2025-06-30T11:02:00+00:00",
          "2025-06-30T11:03:00+00:00",
          "2025-06-30T11:04:00+00:00",
          "2025-06-30T11:05:00+00:00",
          "2025-06-30T11:06:00+00:00",
          "2025-06-30T11:07:00+00:00",
          "2025-06-30T11:08:00+00:00",
          "2025-06-30T11:09:00+00:00",
          "2025-06-30T11:10:00+00:00",
          "2025-06-30T11:11:00+00:00",
          "2025-06-30T11:12:00+00:00",
          "2025-06-30T11:13:00+00:00",
          "2025-06-30T11:14:00+00:00",
          "2025-06-30T11:15:00+00:00",
          "2025-06-30T11:16:00+00:00",
          "2025-06-30T11:17:00+00:00",
          "2025-06-30T11:18:00+00:00",
          "2025-06-30T11:19:00+00:00",
          "2025-06-30T11:20:00+00:00",
          "2025-06-30T11:21:00+00:00",
          "2025-06-30T11:22:00+00:00",
          "2025-06-30T11:23:00+00:00",
          "2025-06-30T11:24:00+00:00",
          "2025-06-30T11:25:00+00:00",
          "2025-06-30T11:26:00+00:00",
          "2025-06-30T11:27:00+00:00",
          "2025-06-30T11:28:00+00:00",
          "2025-06-30T11:29:00+00:00",
          "2025-06-30T11:30:00+00:00",
          "2025-06-30T11:31:00+00:00",
          "2025-06-30T11:32:00+00:00",
          "2025-06-30T11:33:00+00:00",
          "2025-06-30T11:34:00+00:00",
          "2025-06-30T11:35:00+00:00",
          "2025-06-30T11:36:00+00:00",
          "2025-06-30T11:37:00+00:00",
          "2025-06-30T11:38:00+00:00",
          "2025-06-30T11:39:00+00:00",
          "2025-06-30T11:40:00+00:00",
          "2025-06-30T11:41:00+00:00",
          "2025-06-30T11:42:00+00:00",
          "2025-06-30T11:43:00+00:00",
          "2025-06-30T11:44:00+00:00",
          "2025-06-30T11:45:00+00:00",
          "2025-06-30T11:46:00+00:00",
          "2025-06-30T11:47:00+00:00",
          "2025-06-30T11:48:00+00:00",
          "2025-06-30T11:49:00+00:00",
          "2025-06-30T11:50:00+00:00",
          "2025-06-30T11:51:00+00:00",
          "2025-06-30T11:52:00+00:00",
          "2025-06-30T11:53:00+00:00",
          "2025-06-30T11:54:00+00:00",
          "2025-06-30T11:55:00+00:00",
          "2025-06-30T11:56:00+00:00",
          "2025-06-30T11:57:00+00:00",
          "2025-06-30T11:58:00+00:00",
          "2025-06-30T11:59:00+00:00",
          "2025-06-30T12:00:00+00:00",
          "2025-06-30T12:01:00+00:00",
          "2025-06-30T12:02:00+00:00",
          "2025-06-30T12:03:00+00:00",
          "2025-06-30T12:04:00+00:00",
          "2025-06-30T12:05:00+00:00",
          "2025-06-30T12:06:00+00:00",
          "2025-06-30T12:07:00+00:00",
          "2025-06-30T12:08:00+00:00",
          "2025-06-30T12:09:00+00:00",
          "2025-06-30T12:10:00+00:00",
          "2025-06-30T12:11:00+00:00",
          "2025-06-30T12:12:00+00:00",
          "2025-06-30T12:13:00+00:00",
          "2025-06-30T12:14:00+00:00",
          "2025-06-30T12:15:00+00:00",
          "2025-06-30T12:16:00+00:00",
          "2025-06-30T12:17:00+00:00",
          "2025-06-30T12:18:00+00:00",
          "2025-06-30T12:19:00+00:00",
          "2025-06-30T12:20:00+00:00",
          "2025-06-30T12:21:00+00:00",
          "2025-06-30T12:22:00+00:00",
          "2025-06-30T12:23:00+00:00",
          "2025-06-30T12:24:00+00:00",
          "2025-06-30T12:25:00+00:00",
          "2025-06-30T12:26:00+00:00",
          "2025-06-30T12:27:00+00:00",
          "2025-06-30T12:28:00+00:00",
          "2025-06-30T12:29:00+00:00",
          "2025-06-30T12:30:00+00:00",
          "2025-06-30T12:31:00+00:00"
         ],
         "type": "candlestick"
        }
       ],
       "layout": {
        "template": {
         "data": {
          "barpolar": [
           {
            "marker": {
             "line": {
              "color": "white",
              "width": 0.5
             },
             "pattern": {
              "fillmode": "overlay",
              "size": 10,
              "solidity": 0.2
             }
            },
            "type": "barpolar"
           }
          ],
          "bar": [
           {
            "error_x": {
             "color": "#2a3f5f"
            },
            "error_y": {
             "color": "#2a3f5f"
            },
            "marker": {
             "line": {
              "color": "white",
              "width": 0.5
             },
             "pattern": {
              "fillmode": "overlay",
              "size": 10,
              "solidity": 0.2
             }
            },
            "type": "bar"
           }
          ],
          "carpet": [
           {
            "aaxis": {
             "endlinecolor": "#2a3f5f",
             "gridcolor": "#C8D4E3",
             "linecolor": "#C8D4E3",
             "minorgridcolor": "#C8D4E3",
             "startlinecolor": "#2a3f5f"
            },
            "baxis": {
             "endlinecolor": "#2a3f5f",
             "gridcolor": "#C8D4E3",
             "linecolor": "#C8D4E3",
             "minorgridcolor": "#C8D4E3",
             "startlinecolor": "#2a3f5f"
            },
            "type": "carpet"
           }
          ],
          "choropleth": [
           {
            "colorbar": {
             "outlinewidth": 0,
             "ticks": ""
            },
            "type": "choropleth"
           }
          ],
          "contourcarpet": [
           {
            "colorbar": {
             "outlinewidth": 0,
             "ticks": ""
            },
            "type": "contourcarpet"
           }
          ],
          "contour": [
           {
            "colorbar": {
             "outlinewidth": 0,
             "ticks": ""
            },
            "colorscale": [
             [
              0.0,
              "#0d0887"
             ],
             [
              0.1111111111111111,
              "#46039f"
             ],
             [
              0.2222222222222222,
              "#7201a8"
             ],
             [
              0.3333333333333333,
              "#9c179e"
             ],
             [
              0.4444444444444444,
              "#bd3786"
             ],
             [
              0.5555555555555556,
              "#d8576b"
             ],
             [
              0.6666666666666666,
              "#ed7953"
             ],
             [
              0.7777777777777778,
              "#fb9f3a"
             ],
             [
              0.8888888888888888,
              "#fdca26"
             ],
             [
              1.0,
              "#f0f921"
             ]
            ],
            "type": "contour"
           }
          ],
          "heatmap": [
           {
            "colorbar": {
             "outlinewidth": 0,
             "ticks": ""
            },
            "colorscale": [
             [
              0.0,
              "#0d0887"
             ],
             [
              0.1111111111111111,
              "#46039f"
             ],
             [
              0.2222222222222222,
              "#7201a8"
             ],
             [
              0.3333333333333333,
              "#9c179e"
             ],
             [
              0.4444444444444444,
              "#bd3786"
             ],
             [
              0.5555555555555556,
              "#d8576b"
             ],
             [
              0.6666666666666666,
              "#ed7953"
             ],
             [
              0.7777777777777778,
              "#fb9f3a"
             ],
             [
              0.8888888888888888,
              "#fdca26"
             ],
             [
              1.0,
              "#f0f921"
             ]
            ],
            "type": "heatmap"
           }
          ],
          "histogram2dcontour": [
           {
            "colorbar": {
             "outlinewidth": 0,
             "ticks": ""
            },
            "colorscale": [
             [
              0.0,
              "#0d0887"
             ],
             [
              0.1111111111111111,
              "#46039f"
             ],
             [
              0.2222222222222222,
              "#7201a8"
             ],
             [
              0.3333333333333333,
              "#9c179e"
             ],
             [
              0.4444444444444444,
              "#bd3786"
             ],
             [
              0.5555555555555556,
              "#d8576b"
             ],
             [
              0.6666666666666666,
              "#ed7953"
             ],
             [
              0.7777777777777778,
              "#fb9f3a"
             ],
             [
              0.8888888888888888,
              "#fdca26"
             ],
             [
              1.0,
              "#f0f921"
             ]
            ],
            "type": "histogram2dcontour"
           }
          ],
          "histogram2d": [
           {
            "colorbar": {
             "outlinewidth": 0,
             "ticks": ""
            },
            "colorscale": [
             [
              0.0,
              "#0d0887"
             ],
             [
              0.1111111111111111,
              "#46039f"
             ],
             [
              0.2222222222222222,
              "#7201a8"
             ],
             [
              0.3333333333333333,
              "#9c179e"
             ],
             [
              0.4444444444444444,
              "#bd3786"
             ],
             [
              0.5555555555555556,
              "#d8576b"
             ],
             [
              0.6666666666666666,
              "#ed7953"
             ],
             [
              0.7777777777777778,
              "#fb9f3a"
             ],
             [
              0.8888888888888888,
              "#fdca26"
             ],
             [
              1.0,
              "#f0f921"
             ]
            ],
            "type": "histogram2d"
           }
          ],
          "histogram": [
           {
            "marker": {
             "pattern": {
              "fillmode": "overlay",
              "size": 10,
              "solidity": 0.2
             }
            },
            "type": "histogram"
           }
          ],
          "mesh3d": [
           {
            "colorbar": {
             "outlinewidth": 0,
             "ticks": ""
            },
            "type": "mesh3d"
           }
          ],
          "parcoords": [
           {
            "line": {
             "colorbar": {
              "outlinewidth": 0,
              "ticks": ""
             }
            },
            "type": "parcoords"
           }
          ],
          "pie": [
           {
            "automargin": true,
            "type": "pie"
           }
          ],
          "scatter3d": [
           {
            "line": {
             "colorbar": {
              "outlinewidth": 0,
              "ticks": ""
             }
            },
            "marker": {
             "colorbar": {
              "outlinewidth": 0,
              "ticks": ""
             }
            },
            "type": "scatter3d"
           }
          ],
          "scattercarpet": [
           {
            "marker": {
             "colorbar": {
              "outlinewidth": 0,
              "ticks": ""
             }
            },
            "type": "scattercarpet"
           }
          ],
          "scattergeo": [
           {
            "marker": {
             "colorbar": {
              "outlinewidth": 0,
              "ticks": ""
             }
            },
            "type": "scattergeo"
           }
          ],
          "scattergl": [
           {
            "marker": {
             "colorbar": {
              "outlinewidth": 0,
              "ticks": ""
             }
            },
            "type": "scattergl"
           }
          ],
          "scattermapbox": [
           {
            "marker": {
             "colorbar": {
              "outlinewidth": 0,
              "ticks": ""
             }
            },
            "type": "scattermapbox"
           }
          ],
          "scattermap": [
           {
            "marker": {
             "colorbar": {
              "outlinewidth": 0,
              "ticks": ""
             }
            },
            "type": "scattermap"
           }
          ],
          "scatterpolargl": [
           {
            "marker": {
             "colorbar": {
              "outlinewidth": 0,
              "ticks": ""
             }
            },
            "type": "scatterpolargl"
           }
          ],
          "scatterpolar": [
           {
            "marker": {
             "colorbar": {
              "outlinewidth": 0,
              "ticks": ""
             }
            },
            "type": "scatterpolar"
           }
          ],
          "scatter": [
           {
            "fillpattern": {
             "fillmode": "overlay",
             "size": 10,
             "solidity": 0.2
            },
            "type": "scatter"
           }
          ],
          "scatterternary": [
           {
            "marker": {
             "colorbar": {
              "outlinewidth": 0,
              "ticks": ""
             }
            },
            "type": "scatterternary"
           }
          ],
          "surface": [
           {
            "colorbar": {
             "outlinewidth": 0,
             "ticks": ""
            },
            "colorscale": [
             [
              0.0,
              "#0d0887"
             ],
             [
              0.1111111111111111,
              "#46039f"
             ],
             [
              0.2222222222222222,
              "#7201a8"
             ],
             [
              0.3333333333333333,
              "#9c179e"
             ],
             [
              0.4444444444444444,
              "#bd3786"
             ],
             [
              0.5555555555555556,
              "#d8576b"
             ],
             [
              0.6666666666666666,
              "#ed7953"
             ],
             [
              0.7777777777777778,
              "#fb9f3a"
             ],
             [
              0.8888888888888888,
              "#fdca26"
             ],
             [
              1.0,
              "#f0f921"
             ]
            ],
            "type": "surface"
           }
          ],
          "table": [
           {
            "cells": {
             "fill": {
              "color": "#EBF0F8"
             },
             "line": {
              "color": "white"
             }
            },
            "header": {
             "fill": {
              "color": "#C8D4E3"
             },
             "line": {
              "color": "white"
             }
            },
            "type": "table"
           }
          ]
         },
         "layout": {
          "annotationdefaults": {
           "arrowcolor": "#2a3f5f",
           "arrowhead": 0,
           "arrowwidth": 1
          },
          "autotypenumbers": "strict",
          "coloraxis": {
           "colorbar": {
            "outlinewidth": 0,
            "ticks": ""
           }
          },
          "colorscale": {
           "diverging": [
            [
             0,
             "#8e0152"
            ],
            [
             0.1,
             "#c51b7d"
            ],
            [
             0.2,
             "#de77ae"
            ],
            [
             0.3,
             "#f1b6da"
            ],
            [
             0.4,
             "#fde0ef"
            ],
            [
             0.5,
             "#f7f7f7"
            ],
            [
             0.6,
             "#e6f5d0"
            ],
            [
             0.7,
             "#b8e186"
            ],
            [
             0.8,
             "#7fbc41"
            ],
            [
             0.9,
             "#4d9221"
            ],
            [
             1,
             "#276419"
            ]
           ],
           "sequential": [
            [
             0.0,
             "#0d0887"
            ],
            [
             0.1111111111111111,
             "#46039f"
            ],
            [
             0.2222222222222222,
             "#7201a8"
            ],
            [
             0.3333333333333333,
             "#9c179e"
            ],
            [
             0.4444444444444444,
             "#bd3786"
            ],
            [
             0.5555555555555556,
             "#d8576b"
            ],
            [
             0.6666666666666666,
             "#ed7953"
            ],
            [
             0.7777777777777778,
             "#fb9f3a"
            ],
            [
             0.8888888888888888,
             "#fdca26"
            ],
            [
             1.0,
             "#f0f921"
            ]
           ],
           "sequentialminus": [
            [
             0.0,
             "#0d0887"
            ],
            [
             0.1111111111111111,
             "#46039f"
            ],
            [
             0.2222222222222222,
             "#7201a8"
            ],
            [
             0.3333333333333333,
             "#9c179e"
            ],
            [
             0.4444444444444444,
             "#bd3786"
            ],
            [
             0.5555555555555556,
             "#d8576b"
            ],
            [
             0.6666666666666666,
             "#ed7953"
            ],
            [
             0.7777777777777778,
             "#fb9f3a"
            ],
            [
             0.8888888888888888,
             "#fdca26"
            ],
            [
             1.0,
             "#f0f921"
            ]
           ]
          },
          "colorway": [
           "#636efa",
           "#EF553B",
           "#00cc96",
           "#ab63fa",
           "#FFA15A",
           "#19d3f3",
           "#FF6692",
           "#B6E880",
           "#FF97FF",
           "#FECB52"
          ],
          "font": {
           "color": "#2a3f5f"
          },
          "geo": {
           "bgcolor": "white",
           "lakecolor": "white",
           "landcolor": "white",
           "showlakes": true,
           "showland": true,
           "subunitcolor": "#C8D4E3"
          },
          "hoverlabel": {
           "align": "left"
          },
          "hovermode": "closest",
          "mapbox": {
           "style": "light"
          },
          "paper_bgcolor": "white",
          "plot_bgcolor": "white",
          "polar": {
           "angularaxis": {
            "gridcolor": "#EBF0F8",
            "linecolor": "#EBF0F8",
            "ticks": ""
           },
           "bgcolor": "white",
           "radialaxis": {
            "gridcolor": "#EBF0F8",
            "linecolor": "#EBF0F8",
            "ticks": ""
           }
          },
          "scene": {
           "xaxis": {
            "backgroundcolor": "white",
            "gridcolor": "#DFE8F3",
            "gridwidth": 2,
            "linecolor": "#EBF0F8",
            "showbackground": true,
            "ticks": "",
            "zerolinecolor": "#EBF0F8"
           },
           "yaxis": {
            "backgroundcolor": "white",
            "gridcolor": "#DFE8F3",
            "gridwidth": 2,
            "linecolor": "#EBF0F8",
            "showbackground": true,
            "ticks": "",
            "zerolinecolor": "#EBF0F8"
           },
           "zaxis": {
            "backgroundcolor": "white",
            "gridcolor": "#DFE8F3",
            "gridwidth": 2,
            "linecolor": "#EBF0F8",
            "showbackground": true,
            "ticks": "",
            "zerolinecolor": "#EBF0F8"
           }
          },
          "shapedefaults": {
           "line": {
            "color": "#2a3f5f"
           }
          },
          "ternary": {
           "aaxis": {
            "gridcolor": "#DFE8F3",
            "linecolor": "#A2B1C6",
            "ticks": ""
           },
           "baxis": {
            "gridcolor": "#DFE8F3",
            "linecolor": "#A2B1C6",
            "ticks": ""
           },
           "bgcolor": "white",
           "caxis": {
            "gridcolor": "#DFE8F3",
            "linecolor": "#A2B1C6",
            "ticks": ""
           }
          },
          "title": {
           "x": 0.05
          },
          "xaxis": {
           "automargin": true,
           "gridcolor": "#EBF0F8",
           "linecolor": "#EBF0F8",
           "ticks": "",
           "title": {
            "standoff": 15
           },
           "zerolinecolor": "#EBF0F8",
           "zerolinewidth": 2
          },
          "yaxis": {
           "automargin": true,
           "gridcolor": "#EBF0F8",
           "linecolor": "#EBF0F8",
           "ticks": "",
           "title": {
            "standoff": 15
           },
           "zerolinecolor": "#EBF0F8",
           "zerolinewidth": 2
          }
         }
        },
        "xaxis": {
         "rangeslider": {
          "visible": false
         },
         "title": {
          "text": "Time"
         },
         "range": [
          "2025-06-30T00:32:00+00:00",
          "2025-06-30T12:31:00+00:00"
         ]
        },
        "title": {
         "text": "Best 12-Hour Fragment – LowVol_DownTrend"
        },
        "yaxis": {
         "title": {
          "text": "Price"
         }
        },
        "height": 600,
        "hovermode": "x unified"
       },
       "config": {
        "plotlyServerURL": "https://plot.ly"
       }
      }
     },
     "metadata": {},
     "output_type": "display_data"
    },
    {
     "data": {
      "application/vnd.plotly.v1+json": {
       "data": [
        {
         "close": {
          "dtype": "f8",
          "bdata": "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"
         },
         "decreasing": {
          "line": {
           "color": "red"
          }
         },
         "high": {
          "dtype": "f8",
          "bdata": "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"
         },
         "increasing": {
          "line": {
           "color": "lime"
          }
         },
         "low": {
          "dtype": "f8",
          "bdata": "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"
         },
         "name": "Price",
         "open": {
          "dtype": "f8",
          "bdata": "AAAAACDL+UCuR+F6KMz5QM3MzMxkyvlA4XoUrhvL+UD2KFyPcsr5QAAAAACAyvlAAAAAAIDK+UCamZmZLcb5QEjhehTaxvlAMzMzMz/H+UAAAAAAAMj5QI/C9Sjgy/lAzczMzCzJ+UBmZmZmOsj5QAAAAACAxvlAj8L1KMDB+UAzMzMzl775QGZmZmYuv/lAAAAAAKC/+UDsUbge1b/5QMP1KFybwPlAZmZmZk7A+UDXo3A9pr75QClcj8IpvflA16NwPa66+UBxPQrX07r5QKRwPQpDuvlAKVyPwhW6+UDNzMzMBLv5QM3MzMwEu/lAexSuR5m6+UAAAAAAALv5QAAAAAAAu/lAAAAAAIC7+UAK16Nw8bz5QAAAAADQu/lAAAAAANC7+UD2KFyPXrz5QGZmZma6u/lA4XoUrnu9+UB7FK5HDb35QI/C9SjMvPlAAAAAAMy8+UCuR+F6eLz5QGZmZmZ2u/lAUrgehV+3+UAAAAAAfKz5QHE9Ctf7rPlA9ihcj4K/+UC4HoXrfcD5QHsUrkclxvlAFK5H4TLG+UA9CtejYMT5QFyPwvXkxflAUrgehevA+UCF61G4PsP5QK5H4XpcxvlAMzMzMyPH+UAAAAAAKMn5QDMzMzMvyPlAXI/C9YTI+UDXo3A9wsf5QMP1KFwnx/lAUrgehdPG+UC4HoXrAcn5QEjhehTuyPlA7FG4HlnJ+UDD9ShcS8z5QD0K16M4y/lA9ihcj47K+UAzMzMzi8r5QAAAAACAz/lAH4XrURTR+UC4HoXrRdL5QPYoXI9G0vlAj8L1KNTQ+UAfhetR1ND5QIXrUbh+0vlAj8L1KADS+UCF61G41tD5QHE9CtfbzflAw/UoXKvM+UCuR+F6/Mr5QOF6FK6Dy/lAhetRuKrO+UAAAAAAGND5QDMzMzPXzflApHA9Cg/P+UAAAAAAgM/5QJqZmZmF0PlA16NwPRLN+UBcj8L10M/5QEjhehTm0flAzczMzGzP+UCamZmZ+c35QJqZmZn5zflAzczMzAzO+UAfhetR/M35QAAAAABUzflASOF6FILJ+UCkcD0K48j5QMP1KFxfyPlAexSuR/3G+UDsUbge/cb5QBSuR+EiyvlAFK5H4Y7H+UAAAAAAsMf5QIXrUbiOxvlAAAAAAPjD+UBxPQrX98P5QNejcD1qxvlA4XoUrjfG+UAK16Nw8cT5QB+F61GcxflA7FG4Hg3H+UBI4XoU9sj5QB+F61G8zPlAKVyPwnXN+UAfhetRuM75QAAAAADgzvlAuB6F613O+UCamZmZncv5QPYoXI9iyvlAPQrXo7TK+UAK16Nwncv5QHE9CtcfzPlAH4XrUVDI+UBmZmZmxsj5QNejcD1+yflASOF6FH7J+UBI4XoUfsn5QFyPwvXIzPlA7FG4HsnM+UBxPQrXP875QOxRuB55zflAuB6F6/HO+UApXI/CPdH5QM3MzMwE1PlArkfheiDZ+UCamZmZbdf5QBSuR+Fy1vlAAAAAABDX+UBI4XoUWtn5QMP1KFyT2PlAj8L1KADX+UDsUbge8dj5QMP1KFzb2flA4XoUrv/b+UDD9ShcS9v5QD0K16MI2vlAw/UoXNPZ+UBcj8L1NNr5QClcj8Kh2vlAj8L1KPja+UCamZmZqdz5QOF6FK5b3vlAhetRuPbe+UCPwvUohN/5QGZmZmaq4PlAAAAAAJDe+UBxPQrX/+D5QPYoXI9K5flAj8L1KDDl+UDD9ShcF+X5QAAAAABU4/lAcT0K15/i+UCuR+F69OL5QI/C9Shs4/lAPQrXo8zh+UBxPQrXz+P5QAAAAAAU5PlACtejcDHo+UAAAAAAAOn5QIXrUbjm6vlAZmZmZirm+UBI4XoUpub5QAAAAACg5/lAAAAAAODm+UDsUbge3ej5QFyPwvWE6PlAw/UoXEPo+UApXI/CEej5QPYoXI+y6PlAw/UoXGPn+UCPwvUovOb5QGZmZmZW5/lAcT0K1+fq+UDsUbgeGez5QOF6FK4/7PlAhetRuFbu+UAfhetRHOv5QM3MzMzI6flArkfheqjr+UCuR+F6qOv5QHsUrkfV6/lACtejcO3p+UApXI/C4ev5QAAAAACA7flAcT0K10fu+UCPwvUonOv5QBSuR+EC6vlA4XoUrifs+UAK16NwZez5QHsUrkdl7PlA7FG4Hs3r+UBcj8L1rOv5QFyPwvWs6/lACtejcCXs+UAzMzMzK+35QAAAAAA87flAj8L1KHjt+UAfhetR6O75QFyPwvXA7PlAhetRuLLr+UAK16NwJez5QFyPwvWM7PlAj8L1KEDs+UCamZmZJez5QKRwPQpz7PlA7FG4Hg3t+UCPwvUogOr5QD0K16ME7PlAKVyPwnXu+UApXI/Cue75QPYoXI9y6/lACtejcG3q+UAAAAAA2Oz5QM3MzMyY6flAAAAAAADr+UCkcD0Kr+v5QOF6FK6X6vlAAAAAAIDt+UAUrkfhDu/5QKRwPQqr7PlApHA9CmPt+UCkcD0KY+35QKRwPQpj7flA4XoUrh/v+UDhehSuH+/5QNejcD0G7flAH4XrUbDq+UBxPQrX5+r5QAAAAADo6vlAAAAAAOjq+UDhehSu8+v5QJqZmZlp7PlAexSuRw3t+UDhehSuH+/5QOF6FK4f7/lAKVyPwjHw+UApXI/CMfD5QClcj8Ix8PlApHA9CnPx+UCkcD0Kc/H5QDMzMzNz8flApHA9CnPx+UBcj8L12O75QAAAAADQ8flA4XoUrvfw+UAAAAAAQPT5QArXo3CJ9PlArkfhejT1+UCkcD0KA/X5QAAAAABA9vlA16NwPQb4+UDXo3A9Bvj5QIXrUbiu9/lAhetRuAb4+UCamZmZ7fj5QB+F61GY9vlAj8L1KJj2+UBmZmZmZvX5QJqZmZl99vlAmpmZmUX1+UDsUbgeJfb5QFyPwvUk9vlAXI/C9ST2+UBxPQrXE/b5QAAAAABg9PlAcT0K1//0+UAAAAAAAPX5QOxRuB5h9PlAexSuR2H0+UDsUbgeYfT5QKRwPQqPAvpACtejcOEB+kCPwvUomAL6QFyPwvXoAfpAMzMzM1v/+UCPwvUoLAL6QDMzMzMrAvpAzczMzIAC+kAzMzMzSwL6QI/C9ShAAPpA4XoUrkcB+kAAAAAAQAD6QM3MzMzI//lAcT0K1+f/+UAzMzMzZ/35QAAAAADA/flAcT0K17/9+UDD9Shca/75QMP1KFxr/vlAAAAAAIAB+kAAAAAAgAH6QDMzMzNHAfpApHA9CkcB+kCPwvUogAH6QI/C9Shs//lAcT0K158B+kAAAAAAUAL6QAAAAAA0B/pA16NwPRoF+kDXo3A9GgX6QM3MzMyMB/pAAAAAAHAH+kAAAAAAcAj6QIXrUbieB/pAhetRuJ4H+kDsUbgeJQf6QOxRuB4xBvpAH4XrUQAG+kB7FK5HOQj6QOxRuB45CPpAj8L1KEAI+kDNzMzMbAb6QDMzMzNrBvpAcT0K178H+kB7FK5H7Qj6QDMzMzNTCfpAZmZmZp4J+kAAAAAAQAr6QArXo3AlC/pAj8L1KNAK+kAzMzMzOwz6QLgehevhDvpAw/UoXIsR+kCPwvUoyBL6QIXrUbhCEPpArkfheuAQ+kCamZmZJRL6QClcj8KNDvpAUrgehb8O+kDsUbge2Q/6QB+F61EcEPpAcT0K1+sS+kDsUbgegRL6QEjhehQOFPpAFK5H4SIT+kAzMzMzaxP6QArXo3DhE/pAMzMzM+cQ+kAUrkfhDhH6QEjhehTqD/pAUrgehZMQ+kDXo3A9zg36QArXo3AJDfpAhetRuJYN+kBSuB6FAw/6QLgeheuBFPpAcT0K178S+kDsUbgetRT6QPYoXI+SFfpAUrgehYMW+kCamZmZlRf6QGZmZmYOGPpAmpmZmSkb+kA9CtejxBv6QI/C9SiYGvpAexSuR5kb+kAzMzMztxz6QPYoXI9KHvpAj8L1KDAd+kCF61G4Jhv6QM3MzMx4F/pACtejcNEY+kAUrkfhAhv6QKRwPQrLHPpAAAAAADAd+kCkcD0KNx/6QKRwPQrfHvpAcT0K138f+kBSuB6Fwx36QEjhehT+HPpAcT0K18cd+kCuR+F6PB/6QAAAAACAH/pA9ihcjyog+kDXo3A9ZiD6QGZmZmbCHfpArkfheiAd+kBI4XoUWh36QHE9CteTH/pAXI/C9cQe+kCPwvUoOB/6QLgehetRHfpAuB6F67kb+kAAAAAAeBz6QB+F61HYHfpAw/UoXD8f+kCPwvUoBB36QGZmZmb+G/pAXI/C9ewb+kCF61G4ohr6QGZmZmYWG/pAXI/C9Uwa+kCamZmZCRj6QDMzMzNTGPpACtejcE0W+kAfhetRmBf6QNejcD1yFvpAZmZmZtoW+kDNzMzMmBf6QAAAAACQGfpAj8L1KJAZ+kDhehSuqxj6QBSuR+FqGfpAuB6F650Y+kApXI/C+Rf6QClcj8L5F/pAZmZmZooY+kBSuB6FWxn6QFK4HoVbGfpAzczMzPAZ+kAfhetRdB/6QKRwPQqXJfpAcT0K1x8n+kDXo3A9/iX6QDMzMzOTJvpAAAAAABQp+kAK16NwJST6QArXo3AlJPpAw/UoXHsj+kDsUbgeKSX6QJqZmZklJPpAPQrXo8Ql+kBxPQrXbyb6QB+F61G0J/pAcT0K12cn+kCamZmZoSb6QPYoXI+eJvpAhetRuO4n+kD2KFyP7if6QEjhehQuKvpAj8L1KPwn+kCkcD0Kmyj6QPYoXI9GJ/pA4XoUrjMn+kAAAAAAgCT6QHE9CtevMPpACtejcFU0+kAzMzMzQzT6QD0K16MgOPpAAAAAAPg4+kBI4XoU2jj6QK5H4Xq4NvpAcT0K1z83+kC4HoXryTb6QClcj8KJNvpAzczMzFw4+kAAAAAAgDj6QHE9CtevNfpACtejcNk2+kB7FK5H2Tb6QJqZmZnZOPpAMzMzM3s3+kAzMzMzuzv6QD0K16N0PvpAzczMzBw/+kBxPQrX/0T6QMP1KFxbR/pAAAAAADRI+kAzMzMzs0b6QK5H4XqkRvpAAAAAAABF+kBSuB6FG0b6QArXo3BlRPpAhetRuEpJ+kBI4XoU7kb6QAAAAACATPpAAAAAAOhJ+kAAAAAAYEb6QFyPwvX0RfpAKVyPwn1D+kBxPQrX30b6QKRwPQojSPpAcT0K1z9L+kDsUbgerUr6QAAAAACQSvpAH4XrUWhK+kBI4XoUGkr6QDMzMzPLSfpAAAAAAKBK+kDD9Shc10j6QFK4HoXXSPpArkfheuxI+kD2KFyP3j/6QB+F61FMP/pAAAAAANA8+kB7FK5HhUL6QFyPwvV0RfpAFK5H4RZJ+kCkcD0KL0r6QClcj8LVSfpAXI/C9dhM+kBcj8L12Ez6QD0K16O0TfpAcT0K1w9N+kAAAAAAEE36QIXrUbiiT/pAH4XrUYRN+kDsUbgeJUz6QEjhehRiSfpAcT0K159K+kDXo3A9okv6QAAAAAAASvpA7FG4Hs1J+kC4HoXrwUn6QD0K16OQSPpAKVyPwkFH+kApXI/CQUf6QOxRuB6ZR/pAMzMzM7NF+kBI4XoUlkX6QGZmZmZaRfpAzczMzNxE+kDNzMzM3ET6QDMzMzOzRfpA4XoUrt9C+kCF61G4ZkT6QClcj8K1SfpAKVyPwmFK+kA9CtejuEr6QLgeheuVR/pA4XoUriNI+kDhehSuI0j6QAAAAADAQ/pAPQrXo1RD+kAK16NwAUH6QAAAAADAQ/pAZmZmZvpG+kBmZmZm/kX6QD0K16OcRPpArkfheuhD+kBI4XoUukX6QI/C9Sh4QvpA9ihcj4JC+kC4HoXreUL6QHE9CtfLQPpACtejcOVC+kB7FK5H5UL6QArXo3DFQ/pAcT0K18tG+kBSuB6Fr0f6QHE9CtdbSPpAw/UoXFtJ+kDsUbgeJUj6QLgehesFSvpAAAAAAMBI+kBSuB6FF0n6QBSuR+FGSPpAw/UoXB9H+kBSuB6FH0f6QMP1KFwfR/pA9ihcj7ZH+kApXI/CIUf6QLgeheshR/pASOF6FH5G+kBmZmZmQkf6QAAAAAAgSPpAAAAAACBI+kBxPQrXH0j6QArXo3BZR/pAAAAAACBI+kBxPQrXH0j6QClcj8J1SPpAPQrXo2BG+kA9CtejYEb6QAAAAABAS/pAAAAAAEBL+kBxPQrXQ0v6QHE9CtdPS/pAXI/C9aBK+kCkcD0Kv0n6QBSuR+G+SfpArkfhelBK+kBxPQrXV0z6QAAAAAAATfpAcT0K119O+kAAAAAAYE76QJqZmZkxT/pAmpmZmTFP+kApXI/CMU/6QI/C9SjwTvpAmpmZmTFP+kApXI/CMU/6QNejcD0SUPpAexSuR1VP+kBmZmZmGk76QPYoXI/mTvpAw/UoXPdQ+kCuR+F6BE/6QGZmZmauT/pAZmZmZq5P+kAAAAAA4FD6QMP1KFwbUPpA7FG4HrlO+kD2KFyPGk76QGZmZmYaTvpAw/UoXM9P+kBxPQrXP1D6QAAAAABAUPpAcT0K1z9Q+kAK16NwYVH6QJqZmZlhUfpA9ihcj2pR+kBmZmZmalH6QFyPwvV0UPpA16NwPcZP+kBI4XoUxk/6QEjhehTGT/pAw/UoXIdO+kAzMzMzh076QBSuR+HmTvpAFK5H4eZO+kBxPQrXf1H6QMP1KFzzUfpAj8L1KABU+kAzMzMzj1T6QDMzMzOvUvpACtejcFFR+kCkcD0KL1L6QMP1KFzTUPpAw/UoXNNQ+kCamZmZsVL6QArXo3CxUvpA7FG4HuVS+kDsUbge5VL6QAAAAAAIVPpAAAAAALBT+kAAAAAAsFP6QAAAAACwU/pACtejcLFS+kDsUbge5VH6QFK4HoWXT/pArkfhekRO+kBcj8L1KE76QMP1KFw/UPpAj8L1KKhQ+kBxPQrXx1D6QAAAAAAAT/pAw/UoXANO+kBI4XoULk76QNejcD0uTvpA16NwPS5O+kBI4XoULk76QEjhehQuTvpASOF6FC5O+kBI4XoULk76QNejcD0uTvpAMzMzMy9M+kCkcD0K10j6QB+F61EASPpASOF6FIZG+kAAAAAAAET6QAAAAADAQ/pACtejcDVC+kB7FK5HlUH6QFK4HoWLQfpA16NwPXpB+kA9CtejUEH6QHE9CtfPRPpAcT0K1xNE+kB7FK5HLUH6QGZmZmamQPpAXI/C9eQ8+kDD9Shcozj6QNejcD0uOPpAj8L1KJw5+kCkcD0KTzr6QKRwPQoXPPpArkfhevg6+kCuR+F6dDr6QLgehev1OPpASOF6FO44+kAK16NwxTv6QHE9Ctd/PfpAMzMzMx89+kDhehSufz36QDMzMzMfPfpAAAAAAKA7+kCkcD0KHz36QKRwPQofPfpAzczMzBg9+kBxPQrXfz36QB+F61HYO/pAj8L1KNg7+kAAAAAAADv6QArXo3D5OPpA9ihcj443+kD2KFyPjjf6QPYoXI+KO/pAw/UoXEs7+kBcj8L1nDn6QMP1KFyXM/pAMzMzM5cz+kCkcD0KFzL6QBSuR+EWMvpA9ihcj+Iv+kDD9ShcjzH6QD0K16MgNfpAcT0K13sz+kAAAAAAIC/6QJqZmZlRMPpAAAAAALAs+kApXI/CNS76QDMzMzObLvpAAAAAAMAv+kBcj8L18DP6QClcj8KdNPpA"
         },
         "x": [
          "2025-07-02T00:32:00+00:00",
          "2025-07-02T00:33:00+00:00",
          "2025-07-02T00:34:00+00:00",
          "2025-07-02T00:35:00+00:00",
          "2025-07-02T00:36:00+00:00",
          "2025-07-02T00:37:00+00:00",
          "2025-07-02T00:38:00+00:00",
          "2025-07-02T00:39:00+00:00",
          "2025-07-02T00:40:00+00:00",
          "2025-07-02T00:41:00+00:00",
          "2025-07-02T00:42:00+00:00",
          "2025-07-02T00:43:00+00:00",
          "2025-07-02T00:44:00+00:00",
          "2025-07-02T00:45:00+00:00",
          "2025-07-02T00:46:00+00:00",
          "2025-07-02T00:47:00+00:00",
          "2025-07-02T00:48:00+00:00",
          "2025-07-02T00:49:00+00:00",
          "2025-07-02T00:50:00+00:00",
          "2025-07-02T00:51:00+00:00",
          "2025-07-02T00:52:00+00:00",
          "2025-07-02T00:53:00+00:00",
          "2025-07-02T00:54:00+00:00",
          "2025-07-02T00:55:00+00:00",
          "2025-07-02T00:56:00+00:00",
          "2025-07-02T00:57:00+00:00",
          "2025-07-02T00:58:00+00:00",
          "2025-07-02T00:59:00+00:00",
          "2025-07-02T01:00:00+00:00",
          "2025-07-02T01:01:00+00:00",
          "2025-07-02T01:02:00+00:00",
          "2025-07-02T01:03:00+00:00",
          "2025-07-02T01:04:00+00:00",
          "2025-07-02T01:05:00+00:00",
          "2025-07-02T01:06:00+00:00",
          "2025-07-02T01:07:00+00:00",
          "2025-07-02T01:08:00+00:00",
          "2025-07-02T01:09:00+00:00",
          "2025-07-02T01:10:00+00:00",
          "2025-07-02T01:11:00+00:00",
          "2025-07-02T01:12:00+00:00",
          "2025-07-02T01:13:00+00:00",
          "2025-07-02T01:14:00+00:00",
          "2025-07-02T01:15:00+00:00",
          "2025-07-02T01:16:00+00:00",
          "2025-07-02T01:17:00+00:00",
          "2025-07-02T01:18:00+00:00",
          "2025-07-02T01:19:00+00:00",
          "2025-07-02T01:20:00+00:00",
          "2025-07-02T01:21:00+00:00",
          "2025-07-02T01:22:00+00:00",
          "2025-07-02T01:23:00+00:00",
          "2025-07-02T01:24:00+00:00",
          "2025-07-02T01:25:00+00:00",
          "2025-07-02T01:26:00+00:00",
          "2025-07-02T01:27:00+00:00",
          "2025-07-02T01:28:00+00:00",
          "2025-07-02T01:29:00+00:00",
          "2025-07-02T01:30:00+00:00",
          "2025-07-02T01:31:00+00:00",
          "2025-07-02T01:32:00+00:00",
          "2025-07-02T01:33:00+00:00",
          "2025-07-02T01:34:00+00:00",
          "2025-07-02T01:35:00+00:00",
          "2025-07-02T01:36:00+00:00",
          "2025-07-02T01:37:00+00:00",
          "2025-07-02T01:38:00+00:00",
          "2025-07-02T01:39:00+00:00",
          "2025-07-02T01:40:00+00:00",
          "2025-07-02T01:41:00+00:00",
          "2025-07-02T01:42:00+00:00",
          "2025-07-02T01:43:00+00:00",
          "2025-07-02T01:44:00+00:00",
          "2025-07-02T01:45:00+00:00",
          "2025-07-02T01:46:00+00:00",
          "2025-07-02T01:47:00+00:00",
          "2025-07-02T01:48:00+00:00",
          "2025-07-02T01:49:00+00:00",
          "2025-07-02T01:50:00+00:00",
          "2025-07-02T01:51:00+00:00",
          "2025-07-02T01:52:00+00:00",
          "2025-07-02T01:53:00+00:00",
          "2025-07-02T01:54:00+00:00",
          "2025-07-02T01:55:00+00:00",
          "2025-07-02T01:56:00+00:00",
          "2025-07-02T01:57:00+00:00",
          "2025-07-02T01:58:00+00:00",
          "2025-07-02T01:59:00+00:00",
          "2025-07-02T02:00:00+00:00",
          "2025-07-02T02:01:00+00:00",
          "2025-07-02T02:02:00+00:00",
          "2025-07-02T02:03:00+00:00",
          "2025-07-02T02:04:00+00:00",
          "2025-07-02T02:05:00+00:00",
          "2025-07-02T02:06:00+00:00",
          "2025-07-02T02:07:00+00:00",
          "2025-07-02T02:08:00+00:00",
          "2025-07-02T02:09:00+00:00",
          "2025-07-02T02:10:00+00:00",
          "2025-07-02T02:11:00+00:00",
          "2025-07-02T02:12:00+00:00",
          "2025-07-02T02:13:00+00:00",
          "2025-07-02T02:14:00+00:00",
          "2025-07-02T02:15:00+00:00",
          "2025-07-02T02:16:00+00:00",
          "2025-07-02T02:17:00+00:00",
          "2025-07-02T02:18:00+00:00",
          "2025-07-02T02:19:00+00:00",
          "2025-07-02T02:20:00+00:00",
          "2025-07-02T02:21:00+00:00",
          "2025-07-02T02:22:00+00:00",
          "2025-07-02T02:23:00+00:00",
          "2025-07-02T02:24:00+00:00",
          "2025-07-02T02:25:00+00:00",
          "2025-07-02T02:26:00+00:00",
          "2025-07-02T02:27:00+00:00",
          "2025-07-02T02:28:00+00:00",
          "2025-07-02T02:29:00+00:00",
          "2025-07-02T02:30:00+00:00",
          "2025-07-02T02:31:00+00:00",
          "2025-07-02T02:32:00+00:00",
          "2025-07-02T02:33:00+00:00",
          "2025-07-02T02:34:00+00:00",
          "2025-07-02T02:35:00+00:00",
          "2025-07-02T02:36:00+00:00",
          "2025-07-02T02:37:00+00:00",
          "2025-07-02T02:38:00+00:00",
          "2025-07-02T02:39:00+00:00",
          "2025-07-02T02:40:00+00:00",
          "2025-07-02T02:41:00+00:00",
          "2025-07-02T02:42:00+00:00",
          "2025-07-02T02:43:00+00:00",
          "2025-07-02T02:44:00+00:00",
          "2025-07-02T02:45:00+00:00",
          "2025-07-02T02:46:00+00:00",
          "2025-07-02T02:47:00+00:00",
          "2025-07-02T02:48:00+00:00",
          "2025-07-02T02:49:00+00:00",
          "2025-07-02T02:50:00+00:00",
          "2025-07-02T02:51:00+00:00",
          "2025-07-02T02:52:00+00:00",
          "2025-07-02T02:53:00+00:00",
          "2025-07-02T02:54:00+00:00",
          "2025-07-02T02:55:00+00:00",
          "2025-07-02T02:56:00+00:00",
          "2025-07-02T02:57:00+00:00",
          "2025-07-02T02:58:00+00:00",
          "2025-07-02T02:59:00+00:00",
          "2025-07-02T03:00:00+00:00",
          "2025-07-02T03:01:00+00:00",
          "2025-07-02T03:02:00+00:00",
          "2025-07-02T03:03:00+00:00",
          "2025-07-02T03:04:00+00:00",
          "2025-07-02T03:05:00+00:00",
          "2025-07-02T03:06:00+00:00",
          "2025-07-02T03:07:00+00:00",
          "2025-07-02T03:08:00+00:00",
          "2025-07-02T03:09:00+00:00",
          "2025-07-02T03:10:00+00:00",
          "2025-07-02T03:11:00+00:00",
          "2025-07-02T03:12:00+00:00",
          "2025-07-02T03:13:00+00:00",
          "2025-07-02T03:14:00+00:00",
          "2025-07-02T03:15:00+00:00",
          "2025-07-02T03:16:00+00:00",
          "2025-07-02T03:17:00+00:00",
          "2025-07-02T03:18:00+00:00",
          "2025-07-02T03:19:00+00:00",
          "2025-07-02T03:20:00+00:00",
          "2025-07-02T03:21:00+00:00",
          "2025-07-02T03:22:00+00:00",
          "2025-07-02T03:23:00+00:00",
          "2025-07-02T03:24:00+00:00",
          "2025-07-02T03:25:00+00:00",
          "2025-07-02T03:26:00+00:00",
          "2025-07-02T03:27:00+00:00",
          "2025-07-02T03:28:00+00:00",
          "2025-07-02T03:29:00+00:00",
          "2025-07-02T03:30:00+00:00",
          "2025-07-02T03:31:00+00:00",
          "2025-07-02T03:32:00+00:00",
          "2025-07-02T03:33:00+00:00",
          "2025-07-02T03:34:00+00:00",
          "2025-07-02T03:35:00+00:00",
          "2025-07-02T03:36:00+00:00",
          "2025-07-02T03:37:00+00:00",
          "2025-07-02T03:38:00+00:00",
          "2025-07-02T03:39:00+00:00",
          "2025-07-02T03:40:00+00:00",
          "2025-07-02T03:41:00+00:00",
          "2025-07-02T03:42:00+00:00",
          "2025-07-02T03:43:00+00:00",
          "2025-07-02T03:44:00+00:00",
          "2025-07-02T03:45:00+00:00",
          "2025-07-02T03:46:00+00:00",
          "2025-07-02T03:47:00+00:00",
          "2025-07-02T03:48:00+00:00",
          "2025-07-02T03:49:00+00:00",
          "2025-07-02T03:50:00+00:00",
          "2025-07-02T03:51:00+00:00",
          "2025-07-02T03:52:00+00:00",
          "2025-07-02T03:53:00+00:00",
          "2025-07-02T03:54:00+00:00",
          "2025-07-02T03:55:00+00:00",
          "2025-07-02T03:56:00+00:00",
          "2025-07-02T03:57:00+00:00",
          "2025-07-02T03:58:00+00:00",
          "2025-07-02T03:59:00+00:00",
          "2025-07-02T04:00:00+00:00",
          "2025-07-02T04:01:00+00:00",
          "2025-07-02T04:02:00+00:00",
          "2025-07-02T04:03:00+00:00",
          "2025-07-02T04:04:00+00:00",
          "2025-07-02T04:05:00+00:00",
          "2025-07-02T04:06:00+00:00",
          "2025-07-02T04:07:00+00:00",
          "2025-07-02T04:08:00+00:00",
          "2025-07-02T04:09:00+00:00",
          "2025-07-02T04:10:00+00:00",
          "2025-07-02T04:11:00+00:00",
          "2025-07-02T04:12:00+00:00",
          "2025-07-02T04:13:00+00:00",
          "2025-07-02T04:14:00+00:00",
          "2025-07-02T04:15:00+00:00",
          "2025-07-02T04:16:00+00:00",
          "2025-07-02T04:17:00+00:00",
          "2025-07-02T04:18:00+00:00",
          "2025-07-02T04:19:00+00:00",
          "2025-07-02T04:20:00+00:00",
          "2025-07-02T04:21:00+00:00",
          "2025-07-02T04:22:00+00:00",
          "2025-07-02T04:23:00+00:00",
          "2025-07-02T04:24:00+00:00",
          "2025-07-02T04:25:00+00:00",
          "2025-07-02T04:26:00+00:00",
          "2025-07-02T04:27:00+00:00",
          "2025-07-02T04:28:00+00:00",
          "2025-07-02T04:29:00+00:00",
          "2025-07-02T04:30:00+00:00",
          "2025-07-02T04:31:00+00:00",
          "2025-07-02T04:32:00+00:00",
          "2025-07-02T04:33:00+00:00",
          "2025-07-02T04:34:00+00:00",
          "2025-07-02T04:35:00+00:00",
          "2025-07-02T04:36:00+00:00",
          "2025-07-02T04:37:00+00:00",
          "2025-07-02T04:38:00+00:00",
          "2025-07-02T04:39:00+00:00",
          "2025-07-02T04:40:00+00:00",
          "2025-07-02T04:41:00+00:00",
          "2025-07-02T04:42:00+00:00",
          "2025-07-02T04:43:00+00:00",
          "2025-07-02T04:44:00+00:00",
          "2025-07-02T04:45:00+00:00",
          "2025-07-02T04:46:00+00:00",
          "2025-07-02T04:47:00+00:00",
          "2025-07-02T04:48:00+00:00",
          "2025-07-02T04:49:00+00:00",
          "2025-07-02T04:50:00+00:00",
          "2025-07-02T04:51:00+00:00",
          "2025-07-02T04:52:00+00:00",
          "2025-07-02T04:53:00+00:00",
          "2025-07-02T04:54:00+00:00",
          "2025-07-02T04:55:00+00:00",
          "2025-07-02T04:56:00+00:00",
          "2025-07-02T04:57:00+00:00",
          "2025-07-02T04:58:00+00:00",
          "2025-07-02T04:59:00+00:00",
          "2025-07-02T05:00:00+00:00",
          "2025-07-02T05:01:00+00:00",
          "2025-07-02T05:02:00+00:00",
          "2025-07-02T05:03:00+00:00",
          "2025-07-02T05:04:00+00:00",
          "2025-07-02T05:05:00+00:00",
          "2025-07-02T05:06:00+00:00",
          "2025-07-02T05:07:00+00:00",
          "2025-07-02T05:08:00+00:00",
          "2025-07-02T05:09:00+00:00",
          "2025-07-02T05:10:00+00:00",
          "2025-07-02T05:11:00+00:00",
          "2025-07-02T05:12:00+00:00",
          "2025-07-02T05:13:00+00:00",
          "2025-07-02T05:14:00+00:00",
          "2025-07-02T05:15:00+00:00",
          "2025-07-02T05:16:00+00:00",
          "2025-07-02T05:17:00+00:00",
          "2025-07-02T05:18:00+00:00",
          "2025-07-02T05:19:00+00:00",
          "2025-07-02T05:20:00+00:00",
          "2025-07-02T05:21:00+00:00",
          "2025-07-02T05:22:00+00:00",
          "2025-07-02T05:23:00+00:00",
          "2025-07-02T05:24:00+00:00",
          "2025-07-02T05:25:00+00:00",
          "2025-07-02T05:26:00+00:00",
          "2025-07-02T05:27:00+00:00",
          "2025-07-02T05:28:00+00:00",
          "2025-07-02T05:29:00+00:00",
          "2025-07-02T05:30:00+00:00",
          "2025-07-02T05:31:00+00:00",
          "2025-07-02T05:32:00+00:00",
          "2025-07-02T05:33:00+00:00",
          "2025-07-02T05:34:00+00:00",
          "2025-07-02T05:35:00+00:00",
          "2025-07-02T05:36:00+00:00",
          "2025-07-02T05:37:00+00:00",
          "2025-07-02T05:38:00+00:00",
          "2025-07-02T05:39:00+00:00",
          "2025-07-02T05:40:00+00:00",
          "2025-07-02T05:41:00+00:00",
          "2025-07-02T05:42:00+00:00",
          "2025-07-02T05:43:00+00:00",
          "2025-07-02T05:44:00+00:00",
          "2025-07-02T05:45:00+00:00",
          "2025-07-02T05:46:00+00:00",
          "2025-07-02T05:47:00+00:00",
          "2025-07-02T05:48:00+00:00",
          "2025-07-02T05:49:00+00:00",
          "2025-07-02T05:50:00+00:00",
          "2025-07-02T05:51:00+00:00",
          "2025-07-02T05:52:00+00:00",
          "2025-07-02T05:53:00+00:00",
          "2025-07-02T05:54:00+00:00",
          "2025-07-02T05:55:00+00:00",
          "2025-07-02T05:56:00+00:00",
          "2025-07-02T05:57:00+00:00",
          "2025-07-02T05:58:00+00:00",
          "2025-07-02T05:59:00+00:00",
          "2025-07-02T06:00:00+00:00",
          "2025-07-02T06:01:00+00:00",
          "2025-07-02T06:02:00+00:00",
          "2025-07-02T06:03:00+00:00",
          "2025-07-02T06:04:00+00:00",
          "2025-07-02T06:05:00+00:00",
          "2025-07-02T06:06:00+00:00",
          "2025-07-02T06:07:00+00:00",
          "2025-07-02T06:08:00+00:00",
          "2025-07-02T06:09:00+00:00",
          "2025-07-02T06:10:00+00:00",
          "2025-07-02T06:11:00+00:00",
          "2025-07-02T06:12:00+00:00",
          "2025-07-02T06:13:00+00:00",
          "2025-07-02T06:14:00+00:00",
          "2025-07-02T06:15:00+00:00",
          "2025-07-02T06:16:00+00:00",
          "2025-07-02T06:17:00+00:00",
          "2025-07-02T06:18:00+00:00",
          "2025-07-02T06:19:00+00:00",
          "2025-07-02T06:20:00+00:00",
          "2025-07-02T06:21:00+00:00",
          "2025-07-02T06:22:00+00:00",
          "2025-07-02T06:23:00+00:00",
          "2025-07-02T06:24:00+00:00",
          "2025-07-02T06:25:00+00:00",
          "2025-07-02T06:26:00+00:00",
          "2025-07-02T06:27:00+00:00",
          "2025-07-02T06:28:00+00:00",
          "2025-07-02T06:29:00+00:00",
          "2025-07-02T06:30:00+00:00",
          "2025-07-02T06:31:00+00:00",
          "2025-07-02T06:32:00+00:00",
          "2025-07-02T06:33:00+00:00",
          "2025-07-02T06:34:00+00:00",
          "2025-07-02T06:35:00+00:00",
          "2025-07-02T06:36:00+00:00",
          "2025-07-02T06:37:00+00:00",
          "2025-07-02T06:38:00+00:00",
          "2025-07-02T06:39:00+00:00",
          "2025-07-02T06:40:00+00:00",
          "2025-07-02T06:41:00+00:00",
          "2025-07-02T06:42:00+00:00",
          "2025-07-02T06:43:00+00:00",
          "2025-07-02T06:44:00+00:00",
          "2025-07-02T06:45:00+00:00",
          "2025-07-02T06:46:00+00:00",
          "2025-07-02T06:47:00+00:00",
          "2025-07-02T06:48:00+00:00",
          "2025-07-02T06:49:00+00:00",
          "2025-07-02T06:50:00+00:00",
          "2025-07-02T06:51:00+00:00",
          "2025-07-02T06:52:00+00:00",
          "2025-07-02T06:53:00+00:00",
          "2025-07-02T06:54:00+00:00",
          "2025-07-02T06:55:00+00:00",
          "2025-07-02T06:56:00+00:00",
          "2025-07-02T06:57:00+00:00",
          "2025-07-02T06:58:00+00:00",
          "2025-07-02T06:59:00+00:00",
          "2025-07-02T07:00:00+00:00",
          "2025-07-02T07:01:00+00:00",
          "2025-07-02T07:02:00+00:00",
          "2025-07-02T07:03:00+00:00",
          "2025-07-02T07:04:00+00:00",
          "2025-07-02T07:05:00+00:00",
          "2025-07-02T07:06:00+00:00",
          "2025-07-02T07:07:00+00:00",
          "2025-07-02T07:08:00+00:00",
          "2025-07-02T07:09:00+00:00",
          "2025-07-02T07:10:00+00:00",
          "2025-07-02T07:11:00+00:00",
          "2025-07-02T07:12:00+00:00",
          "2025-07-02T07:13:00+00:00",
          "2025-07-02T07:14:00+00:00",
          "2025-07-02T07:15:00+00:00",
          "2025-07-02T07:16:00+00:00",
          "2025-07-02T07:17:00+00:00",
          "2025-07-02T07:18:00+00:00",
          "2025-07-02T07:19:00+00:00",
          "2025-07-02T07:20:00+00:00",
          "2025-07-02T07:21:00+00:00",
          "2025-07-02T07:22:00+00:00",
          "2025-07-02T07:23:00+00:00",
          "2025-07-02T07:24:00+00:00",
          "2025-07-02T07:25:00+00:00",
          "2025-07-02T07:26:00+00:00",
          "2025-07-02T07:27:00+00:00",
          "2025-07-02T07:28:00+00:00",
          "2025-07-02T07:29:00+00:00",
          "2025-07-02T07:30:00+00:00",
          "2025-07-02T07:31:00+00:00",
          "2025-07-02T07:32:00+00:00",
          "2025-07-02T07:33:00+00:00",
          "2025-07-02T07:34:00+00:00",
          "2025-07-02T07:35:00+00:00",
          "2025-07-02T07:36:00+00:00",
          "2025-07-02T07:37:00+00:00",
          "2025-07-02T07:38:00+00:00",
          "2025-07-02T07:39:00+00:00",
          "2025-07-02T07:40:00+00:00",
          "2025-07-02T07:41:00+00:00",
          "2025-07-02T07:42:00+00:00",
          "2025-07-02T07:43:00+00:00",
          "2025-07-02T07:44:00+00:00",
          "2025-07-02T07:45:00+00:00",
          "2025-07-02T07:46:00+00:00",
          "2025-07-02T07:47:00+00:00",
          "2025-07-02T07:48:00+00:00",
          "2025-07-02T07:49:00+00:00",
          "2025-07-02T07:50:00+00:00",
          "2025-07-02T07:51:00+00:00",
          "2025-07-02T07:52:00+00:00",
          "2025-07-02T07:53:00+00:00",
          "2025-07-02T07:54:00+00:00",
          "2025-07-02T07:55:00+00:00",
          "2025-07-02T07:56:00+00:00",
          "2025-07-02T07:57:00+00:00",
          "2025-07-02T07:58:00+00:00",
          "2025-07-02T07:59:00+00:00",
          "2025-07-02T08:00:00+00:00",
          "2025-07-02T08:01:00+00:00",
          "2025-07-02T08:02:00+00:00",
          "2025-07-02T08:03:00+00:00",
          "2025-07-02T08:04:00+00:00",
          "2025-07-02T08:05:00+00:00",
          "2025-07-02T08:06:00+00:00",
          "2025-07-02T08:07:00+00:00",
          "2025-07-02T08:08:00+00:00",
          "2025-07-02T08:09:00+00:00",
          "2025-07-02T08:10:00+00:00",
          "2025-07-02T08:11:00+00:00",
          "2025-07-02T08:12:00+00:00",
          "2025-07-02T08:13:00+00:00",
          "2025-07-02T08:14:00+00:00",
          "2025-07-02T08:15:00+00:00",
          "2025-07-02T08:16:00+00:00",
          "2025-07-02T08:17:00+00:00",
          "2025-07-02T08:18:00+00:00",
          "2025-07-02T08:19:00+00:00",
          "2025-07-02T08:20:00+00:00",
          "2025-07-02T08:21:00+00:00",
          "2025-07-02T08:22:00+00:00",
          "2025-07-02T08:23:00+00:00",
          "2025-07-02T08:24:00+00:00",
          "2025-07-02T08:25:00+00:00",
          "2025-07-02T08:26:00+00:00",
          "2025-07-02T08:27:00+00:00",
          "2025-07-02T08:28:00+00:00",
          "2025-07-02T08:29:00+00:00",
          "2025-07-02T08:30:00+00:00",
          "2025-07-02T08:31:00+00:00",
          "2025-07-02T08:32:00+00:00",
          "2025-07-02T08:33:00+00:00",
          "2025-07-02T08:34:00+00:00",
          "2025-07-02T08:35:00+00:00",
          "2025-07-02T08:36:00+00:00",
          "2025-07-02T08:37:00+00:00",
          "2025-07-02T08:38:00+00:00",
          "2025-07-02T08:39:00+00:00",
          "2025-07-02T08:40:00+00:00",
          "2025-07-02T08:41:00+00:00",
          "2025-07-02T08:42:00+00:00",
          "2025-07-02T08:43:00+00:00",
          "2025-07-02T08:44:00+00:00",
          "2025-07-02T08:45:00+00:00",
          "2025-07-02T08:46:00+00:00",
          "2025-07-02T08:47:00+00:00",
          "2025-07-02T08:48:00+00:00",
          "2025-07-02T08:49:00+00:00",
          "2025-07-02T08:50:00+00:00",
          "2025-07-02T08:51:00+00:00",
          "2025-07-02T08:52:00+00:00",
          "2025-07-02T08:53:00+00:00",
          "2025-07-02T08:54:00+00:00",
          "2025-07-02T08:55:00+00:00",
          "2025-07-02T08:56:00+00:00",
          "2025-07-02T08:57:00+00:00",
          "2025-07-02T08:58:00+00:00",
          "2025-07-02T08:59:00+00:00",
          "2025-07-02T09:00:00+00:00",
          "2025-07-02T09:01:00+00:00",
          "2025-07-02T09:02:00+00:00",
          "2025-07-02T09:03:00+00:00",
          "2025-07-02T09:04:00+00:00",
          "2025-07-02T09:05:00+00:00",
          "2025-07-02T09:06:00+00:00",
          "2025-07-02T09:07:00+00:00",
          "2025-07-02T09:08:00+00:00",
          "2025-07-02T09:09:00+00:00",
          "2025-07-02T09:10:00+00:00",
          "2025-07-02T09:11:00+00:00",
          "2025-07-02T09:12:00+00:00",
          "2025-07-02T09:13:00+00:00",
          "2025-07-02T09:14:00+00:00",
          "2025-07-02T09:15:00+00:00",
          "2025-07-02T09:16:00+00:00",
          "2025-07-02T09:17:00+00:00",
          "2025-07-02T09:18:00+00:00",
          "2025-07-02T09:19:00+00:00",
          "2025-07-02T09:20:00+00:00",
          "2025-07-02T09:21:00+00:00",
          "2025-07-02T09:22:00+00:00",
          "2025-07-02T09:23:00+00:00",
          "2025-07-02T09:24:00+00:00",
          "2025-07-02T09:25:00+00:00",
          "2025-07-02T09:26:00+00:00",
          "2025-07-02T09:27:00+00:00",
          "2025-07-02T09:28:00+00:00",
          "2025-07-02T09:29:00+00:00",
          "2025-07-02T09:30:00+00:00",
          "2025-07-02T09:31:00+00:00",
          "2025-07-02T09:32:00+00:00",
          "2025-07-02T09:33:00+00:00",
          "2025-07-02T09:34:00+00:00",
          "2025-07-02T09:35:00+00:00",
          "2025-07-02T09:36:00+00:00",
          "2025-07-02T09:37:00+00:00",
          "2025-07-02T09:38:00+00:00",
          "2025-07-02T09:39:00+00:00",
          "2025-07-02T09:40:00+00:00",
          "2025-07-02T09:41:00+00:00",
          "2025-07-02T09:42:00+00:00",
          "2025-07-02T09:43:00+00:00",
          "2025-07-02T09:44:00+00:00",
          "2025-07-02T09:45:00+00:00",
          "2025-07-02T09:46:00+00:00",
          "2025-07-02T09:47:00+00:00",
          "2025-07-02T09:48:00+00:00",
          "2025-07-02T09:49:00+00:00",
          "2025-07-02T09:50:00+00:00",
          "2025-07-02T09:51:00+00:00",
          "2025-07-02T09:52:00+00:00",
          "2025-07-02T09:53:00+00:00",
          "2025-07-02T09:54:00+00:00",
          "2025-07-02T09:55:00+00:00",
          "2025-07-02T09:56:00+00:00",
          "2025-07-02T09:57:00+00:00",
          "2025-07-02T09:58:00+00:00",
          "2025-07-02T09:59:00+00:00",
          "2025-07-02T10:00:00+00:00",
          "2025-07-02T10:01:00+00:00",
          "2025-07-02T10:02:00+00:00",
          "2025-07-02T10:03:00+00:00",
          "2025-07-02T10:04:00+00:00",
          "2025-07-02T10:05:00+00:00",
          "2025-07-02T10:06:00+00:00",
          "2025-07-02T10:07:00+00:00",
          "2025-07-02T10:08:00+00:00",
          "2025-07-02T10:09:00+00:00",
          "2025-07-02T10:10:00+00:00",
          "2025-07-02T10:11:00+00:00",
          "2025-07-02T10:12:00+00:00",
          "2025-07-02T10:13:00+00:00",
          "2025-07-02T10:14:00+00:00",
          "2025-07-02T10:15:00+00:00",
          "2025-07-02T10:16:00+00:00",
          "2025-07-02T10:17:00+00:00",
          "2025-07-02T10:18:00+00:00",
          "2025-07-02T10:19:00+00:00",
          "2025-07-02T10:20:00+00:00",
          "2025-07-02T10:21:00+00:00",
          "2025-07-02T10:22:00+00:00",
          "2025-07-02T10:23:00+00:00",
          "2025-07-02T10:24:00+00:00",
          "2025-07-02T10:25:00+00:00",
          "2025-07-02T10:26:00+00:00",
          "2025-07-02T10:27:00+00:00",
          "2025-07-02T10:28:00+00:00",
          "2025-07-02T10:29:00+00:00",
          "2025-07-02T10:30:00+00:00",
          "2025-07-02T10:31:00+00:00",
          "2025-07-02T10:32:00+00:00",
          "2025-07-02T10:33:00+00:00",
          "2025-07-02T10:34:00+00:00",
          "2025-07-02T10:35:00+00:00",
          "2025-07-02T10:36:00+00:00",
          "2025-07-02T10:37:00+00:00",
          "2025-07-02T10:38:00+00:00",
          "2025-07-02T10:39:00+00:00",
          "2025-07-02T10:40:00+00:00",
          "2025-07-02T10:41:00+00:00",
          "2025-07-02T10:42:00+00:00",
          "2025-07-02T10:43:00+00:00",
          "2025-07-02T10:44:00+00:00",
          "2025-07-02T10:45:00+00:00",
          "2025-07-02T10:46:00+00:00",
          "2025-07-02T10:47:00+00:00",
          "2025-07-02T10:48:00+00:00",
          "2025-07-02T10:49:00+00:00",
          "2025-07-02T10:50:00+00:00",
          "2025-07-02T10:51:00+00:00",
          "2025-07-02T10:52:00+00:00",
          "2025-07-02T10:53:00+00:00",
          "2025-07-02T10:54:00+00:00",
          "2025-07-02T10:55:00+00:00",
          "2025-07-02T10:56:00+00:00",
          "2025-07-02T10:57:00+00:00",
          "2025-07-02T10:58:00+00:00",
          "2025-07-02T10:59:00+00:00",
          "2025-07-02T11:00:00+00:00",
          "2025-07-02T11:01:00+00:00",
          "2025-07-02T11:02:00+00:00",
          "2025-07-02T11:03:00+00:00",
          "2025-07-02T11:04:00+00:00",
          "2025-07-02T11:05:00+00:00",
          "2025-07-02T11:06:00+00:00",
          "2025-07-02T11:07:00+00:00",
          "2025-07-02T11:08:00+00:00",
          "2025-07-02T11:09:00+00:00",
          "2025-07-02T11:10:00+00:00",
          "2025-07-02T11:11:00+00:00",
          "2025-07-02T11:12:00+00:00",
          "2025-07-02T11:13:00+00:00",
          "2025-07-02T11:14:00+00:00",
          "2025-07-02T11:15:00+00:00",
          "2025-07-02T11:16:00+00:00",
          "2025-07-02T11:17:00+00:00",
          "2025-07-02T11:18:00+00:00",
          "2025-07-02T11:19:00+00:00",
          "2025-07-02T11:20:00+00:00",
          "2025-07-02T11:21:00+00:00",
          "2025-07-02T11:22:00+00:00",
          "2025-07-02T11:23:00+00:00",
          "2025-07-02T11:24:00+00:00",
          "2025-07-02T11:25:00+00:00",
          "2025-07-02T11:26:00+00:00",
          "2025-07-02T11:27:00+00:00",
          "2025-07-02T11:28:00+00:00",
          "2025-07-02T11:29:00+00:00",
          "2025-07-02T11:30:00+00:00",
          "2025-07-02T11:31:00+00:00",
          "2025-07-02T11:32:00+00:00",
          "2025-07-02T11:33:00+00:00",
          "2025-07-02T11:34:00+00:00",
          "2025-07-02T11:35:00+00:00",
          "2025-07-02T11:36:00+00:00",
          "2025-07-02T11:37:00+00:00",
          "2025-07-02T11:38:00+00:00",
          "2025-07-02T11:39:00+00:00",
          "2025-07-02T11:40:00+00:00",
          "2025-07-02T11:41:00+00:00",
          "2025-07-02T11:42:00+00:00",
          "2025-07-02T11:43:00+00:00",
          "2025-07-02T11:44:00+00:00",
          "2025-07-02T11:45:00+00:00",
          "2025-07-02T11:46:00+00:00",
          "2025-07-02T11:47:00+00:00",
          "2025-07-02T11:48:00+00:00",
          "2025-07-02T11:49:00+00:00",
          "2025-07-02T11:50:00+00:00",
          "2025-07-02T11:51:00+00:00",
          "2025-07-02T11:52:00+00:00",
          "2025-07-02T11:53:00+00:00",
          "2025-07-02T11:54:00+00:00",
          "2025-07-02T11:55:00+00:00",
          "2025-07-02T11:56:00+00:00",
          "2025-07-02T11:57:00+00:00",
          "2025-07-02T11:58:00+00:00",
          "2025-07-02T11:59:00+00:00",
          "2025-07-02T12:00:00+00:00",
          "2025-07-02T12:01:00+00:00",
          "2025-07-02T12:02:00+00:00",
          "2025-07-02T12:03:00+00:00",
          "2025-07-02T12:04:00+00:00",
          "2025-07-02T12:05:00+00:00",
          "2025-07-02T12:06:00+00:00",
          "2025-07-02T12:07:00+00:00",
          "2025-07-02T12:08:00+00:00",
          "2025-07-02T12:09:00+00:00",
          "2025-07-02T12:10:00+00:00",
          "2025-07-02T12:11:00+00:00",
          "2025-07-02T12:12:00+00:00",
          "2025-07-02T12:13:00+00:00",
          "2025-07-02T12:14:00+00:00",
          "2025-07-02T12:15:00+00:00",
          "2025-07-02T12:16:00+00:00",
          "2025-07-02T12:17:00+00:00",
          "2025-07-02T12:18:00+00:00",
          "2025-07-02T12:19:00+00:00",
          "2025-07-02T12:20:00+00:00",
          "2025-07-02T12:21:00+00:00",
          "2025-07-02T12:22:00+00:00",
          "2025-07-02T12:23:00+00:00",
          "2025-07-02T12:24:00+00:00",
          "2025-07-02T12:25:00+00:00",
          "2025-07-02T12:26:00+00:00",
          "2025-07-02T12:27:00+00:00",
          "2025-07-02T12:28:00+00:00",
          "2025-07-02T12:29:00+00:00",
          "2025-07-02T12:30:00+00:00",
          "2025-07-02T12:31:00+00:00"
         ],
         "type": "candlestick"
        }
       ],
       "layout": {
        "template": {
         "data": {
          "barpolar": [
           {
            "marker": {
             "line": {
              "color": "white",
              "width": 0.5
             },
             "pattern": {
              "fillmode": "overlay",
              "size": 10,
              "solidity": 0.2
             }
            },
            "type": "barpolar"
           }
          ],
          "bar": [
           {
            "error_x": {
             "color": "#2a3f5f"
            },
            "error_y": {
             "color": "#2a3f5f"
            },
            "marker": {
             "line": {
              "color": "white",
              "width": 0.5
             },
             "pattern": {
              "fillmode": "overlay",
              "size": 10,
              "solidity": 0.2
             }
            },
            "type": "bar"
           }
          ],
          "carpet": [
           {
            "aaxis": {
             "endlinecolor": "#2a3f5f",
             "gridcolor": "#C8D4E3",
             "linecolor": "#C8D4E3",
             "minorgridcolor": "#C8D4E3",
             "startlinecolor": "#2a3f5f"
            },
            "baxis": {
             "endlinecolor": "#2a3f5f",
             "gridcolor": "#C8D4E3",
             "linecolor": "#C8D4E3",
             "minorgridcolor": "#C8D4E3",
             "startlinecolor": "#2a3f5f"
            },
            "type": "carpet"
           }
          ],
          "choropleth": [
           {
            "colorbar": {
             "outlinewidth": 0,
             "ticks": ""
            },
            "type": "choropleth"
           }
          ],
          "contourcarpet": [
           {
            "colorbar": {
             "outlinewidth": 0,
             "ticks": ""
            },
            "type": "contourcarpet"
           }
          ],
          "contour": [
           {
            "colorbar": {
             "outlinewidth": 0,
             "ticks": ""
            },
            "colorscale": [
             [
              0.0,
              "#0d0887"
             ],
             [
              0.1111111111111111,
              "#46039f"
             ],
             [
              0.2222222222222222,
              "#7201a8"
             ],
             [
              0.3333333333333333,
              "#9c179e"
             ],
             [
              0.4444444444444444,
              "#bd3786"
             ],
             [
              0.5555555555555556,
              "#d8576b"
             ],
             [
              0.6666666666666666,
              "#ed7953"
             ],
             [
              0.7777777777777778,
              "#fb9f3a"
             ],
             [
              0.8888888888888888,
              "#fdca26"
             ],
             [
              1.0,
              "#f0f921"
             ]
            ],
            "type": "contour"
           }
          ],
          "heatmap": [
           {
            "colorbar": {
             "outlinewidth": 0,
             "ticks": ""
            },
            "colorscale": [
             [
              0.0,
              "#0d0887"
             ],
             [
              0.1111111111111111,
              "#46039f"
             ],
             [
              0.2222222222222222,
              "#7201a8"
             ],
             [
              0.3333333333333333,
              "#9c179e"
             ],
             [
              0.4444444444444444,
              "#bd3786"
             ],
             [
              0.5555555555555556,
              "#d8576b"
             ],
             [
              0.6666666666666666,
              "#ed7953"
             ],
             [
              0.7777777777777778,
              "#fb9f3a"
             ],
             [
              0.8888888888888888,
              "#fdca26"
             ],
             [
              1.0,
              "#f0f921"
             ]
            ],
            "type": "heatmap"
           }
          ],
          "histogram2dcontour": [
           {
            "colorbar": {
             "outlinewidth": 0,
             "ticks": ""
            },
            "colorscale": [
             [
              0.0,
              "#0d0887"
             ],
             [
              0.1111111111111111,
              "#46039f"
             ],
             [
              0.2222222222222222,
              "#7201a8"
             ],
             [
              0.3333333333333333,
              "#9c179e"
             ],
             [
              0.4444444444444444,
              "#bd3786"
             ],
             [
              0.5555555555555556,
              "#d8576b"
             ],
             [
              0.6666666666666666,
              "#ed7953"
             ],
             [
              0.7777777777777778,
              "#fb9f3a"
             ],
             [
              0.8888888888888888,
              "#fdca26"
             ],
             [
              1.0,
              "#f0f921"
             ]
            ],
            "type": "histogram2dcontour"
           }
          ],
          "histogram2d": [
           {
            "colorbar": {
             "outlinewidth": 0,
             "ticks": ""
            },
            "colorscale": [
             [
              0.0,
              "#0d0887"
             ],
             [
              0.1111111111111111,
              "#46039f"
             ],
             [
              0.2222222222222222,
              "#7201a8"
             ],
             [
              0.3333333333333333,
              "#9c179e"
             ],
             [
              0.4444444444444444,
              "#bd3786"
             ],
             [
              0.5555555555555556,
              "#d8576b"
             ],
             [
              0.6666666666666666,
              "#ed7953"
             ],
             [
              0.7777777777777778,
              "#fb9f3a"
             ],
             [
              0.8888888888888888,
              "#fdca26"
             ],
             [
              1.0,
              "#f0f921"
             ]
            ],
            "type": "histogram2d"
           }
          ],
          "histogram": [
           {
            "marker": {
             "pattern": {
              "fillmode": "overlay",
              "size": 10,
              "solidity": 0.2
             }
            },
            "type": "histogram"
           }
          ],
          "mesh3d": [
           {
            "colorbar": {
             "outlinewidth": 0,
             "ticks": ""
            },
            "type": "mesh3d"
           }
          ],
          "parcoords": [
           {
            "line": {
             "colorbar": {
              "outlinewidth": 0,
              "ticks": ""
             }
            },
            "type": "parcoords"
           }
          ],
          "pie": [
           {
            "automargin": true,
            "type": "pie"
           }
          ],
          "scatter3d": [
           {
            "line": {
             "colorbar": {
              "outlinewidth": 0,
              "ticks": ""
             }
            },
            "marker": {
             "colorbar": {
              "outlinewidth": 0,
              "ticks": ""
             }
            },
            "type": "scatter3d"
           }
          ],
          "scattercarpet": [
           {
            "marker": {
             "colorbar": {
              "outlinewidth": 0,
              "ticks": ""
             }
            },
            "type": "scattercarpet"
           }
          ],
          "scattergeo": [
           {
            "marker": {
             "colorbar": {
              "outlinewidth": 0,
              "ticks": ""
             }
            },
            "type": "scattergeo"
           }
          ],
          "scattergl": [
           {
            "marker": {
             "colorbar": {
              "outlinewidth": 0,
              "ticks": ""
             }
            },
            "type": "scattergl"
           }
          ],
          "scattermapbox": [
           {
            "marker": {
             "colorbar": {
              "outlinewidth": 0,
              "ticks": ""
             }
            },
            "type": "scattermapbox"
           }
          ],
          "scattermap": [
           {
            "marker": {
             "colorbar": {
              "outlinewidth": 0,
              "ticks": ""
             }
            },
            "type": "scattermap"
           }
          ],
          "scatterpolargl": [
           {
            "marker": {
             "colorbar": {
              "outlinewidth": 0,
              "ticks": ""
             }
            },
            "type": "scatterpolargl"
           }
          ],
          "scatterpolar": [
           {
            "marker": {
             "colorbar": {
              "outlinewidth": 0,
              "ticks": ""
             }
            },
            "type": "scatterpolar"
           }
          ],
          "scatter": [
           {
            "fillpattern": {
             "fillmode": "overlay",
             "size": 10,
             "solidity": 0.2
            },
            "type": "scatter"
           }
          ],
          "scatterternary": [
           {
            "marker": {
             "colorbar": {
              "outlinewidth": 0,
              "ticks": ""
             }
            },
            "type": "scatterternary"
           }
          ],
          "surface": [
           {
            "colorbar": {
             "outlinewidth": 0,
             "ticks": ""
            },
            "colorscale": [
             [
              0.0,
              "#0d0887"
             ],
             [
              0.1111111111111111,
              "#46039f"
             ],
             [
              0.2222222222222222,
              "#7201a8"
             ],
             [
              0.3333333333333333,
              "#9c179e"
             ],
             [
              0.4444444444444444,
              "#bd3786"
             ],
             [
              0.5555555555555556,
              "#d8576b"
             ],
             [
              0.6666666666666666,
              "#ed7953"
             ],
             [
              0.7777777777777778,
              "#fb9f3a"
             ],
             [
              0.8888888888888888,
              "#fdca26"
             ],
             [
              1.0,
              "#f0f921"
             ]
            ],
            "type": "surface"
           }
          ],
          "table": [
           {
            "cells": {
             "fill": {
              "color": "#EBF0F8"
             },
             "line": {
              "color": "white"
             }
            },
            "header": {
             "fill": {
              "color": "#C8D4E3"
             },
             "line": {
              "color": "white"
             }
            },
            "type": "table"
           }
          ]
         },
         "layout": {
          "annotationdefaults": {
           "arrowcolor": "#2a3f5f",
           "arrowhead": 0,
           "arrowwidth": 1
          },
          "autotypenumbers": "strict",
          "coloraxis": {
           "colorbar": {
            "outlinewidth": 0,
            "ticks": ""
           }
          },
          "colorscale": {
           "diverging": [
            [
             0,
             "#8e0152"
            ],
            [
             0.1,
             "#c51b7d"
            ],
            [
             0.2,
             "#de77ae"
            ],
            [
             0.3,
             "#f1b6da"
            ],
            [
             0.4,
             "#fde0ef"
            ],
            [
             0.5,
             "#f7f7f7"
            ],
            [
             0.6,
             "#e6f5d0"
            ],
            [
             0.7,
             "#b8e186"
            ],
            [
             0.8,
             "#7fbc41"
            ],
            [
             0.9,
             "#4d9221"
            ],
            [
             1,
             "#276419"
            ]
           ],
           "sequential": [
            [
             0.0,
             "#0d0887"
            ],
            [
             0.1111111111111111,
             "#46039f"
            ],
            [
             0.2222222222222222,
             "#7201a8"
            ],
            [
             0.3333333333333333,
             "#9c179e"
            ],
            [
             0.4444444444444444,
             "#bd3786"
            ],
            [
             0.5555555555555556,
             "#d8576b"
            ],
            [
             0.6666666666666666,
             "#ed7953"
            ],
            [
             0.7777777777777778,
             "#fb9f3a"
            ],
            [
             0.8888888888888888,
             "#fdca26"
            ],
            [
             1.0,
             "#f0f921"
            ]
           ],
           "sequentialminus": [
            [
             0.0,
             "#0d0887"
            ],
            [
             0.1111111111111111,
             "#46039f"
            ],
            [
             0.2222222222222222,
             "#7201a8"
            ],
            [
             0.3333333333333333,
             "#9c179e"
            ],
            [
             0.4444444444444444,
             "#bd3786"
            ],
            [
             0.5555555555555556,
             "#d8576b"
            ],
            [
             0.6666666666666666,
             "#ed7953"
            ],
            [
             0.7777777777777778,
             "#fb9f3a"
            ],
            [
             0.8888888888888888,
             "#fdca26"
            ],
            [
             1.0,
             "#f0f921"
            ]
           ]
          },
          "colorway": [
           "#636efa",
           "#EF553B",
           "#00cc96",
           "#ab63fa",
           "#FFA15A",
           "#19d3f3",
           "#FF6692",
           "#B6E880",
           "#FF97FF",
           "#FECB52"
          ],
          "font": {
           "color": "#2a3f5f"
          },
          "geo": {
           "bgcolor": "white",
           "lakecolor": "white",
           "landcolor": "white",
           "showlakes": true,
           "showland": true,
           "subunitcolor": "#C8D4E3"
          },
          "hoverlabel": {
           "align": "left"
          },
          "hovermode": "closest",
          "mapbox": {
           "style": "light"
          },
          "paper_bgcolor": "white",
          "plot_bgcolor": "white",
          "polar": {
           "angularaxis": {
            "gridcolor": "#EBF0F8",
            "linecolor": "#EBF0F8",
            "ticks": ""
           },
           "bgcolor": "white",
           "radialaxis": {
            "gridcolor": "#EBF0F8",
            "linecolor": "#EBF0F8",
            "ticks": ""
           }
          },
          "scene": {
           "xaxis": {
            "backgroundcolor": "white",
            "gridcolor": "#DFE8F3",
            "gridwidth": 2,
            "linecolor": "#EBF0F8",
            "showbackground": true,
            "ticks": "",
            "zerolinecolor": "#EBF0F8"
           },
           "yaxis": {
            "backgroundcolor": "white",
            "gridcolor": "#DFE8F3",
            "gridwidth": 2,
            "linecolor": "#EBF0F8",
            "showbackground": true,
            "ticks": "",
            "zerolinecolor": "#EBF0F8"
           },
           "zaxis": {
            "backgroundcolor": "white",
            "gridcolor": "#DFE8F3",
            "gridwidth": 2,
            "linecolor": "#EBF0F8",
            "showbackground": true,
            "ticks": "",
            "zerolinecolor": "#EBF0F8"
           }
          },
          "shapedefaults": {
           "line": {
            "color": "#2a3f5f"
           }
          },
          "ternary": {
           "aaxis": {
            "gridcolor": "#DFE8F3",
            "linecolor": "#A2B1C6",
            "ticks": ""
           },
           "baxis": {
            "gridcolor": "#DFE8F3",
            "linecolor": "#A2B1C6",
            "ticks": ""
           },
           "bgcolor": "white",
           "caxis": {
            "gridcolor": "#DFE8F3",
            "linecolor": "#A2B1C6",
            "ticks": ""
           }
          },
          "title": {
           "x": 0.05
          },
          "xaxis": {
           "automargin": true,
           "gridcolor": "#EBF0F8",
           "linecolor": "#EBF0F8",
           "ticks": "",
           "title": {
            "standoff": 15
           },
           "zerolinecolor": "#EBF0F8",
           "zerolinewidth": 2
          },
          "yaxis": {
           "automargin": true,
           "gridcolor": "#EBF0F8",
           "linecolor": "#EBF0F8",
           "ticks": "",
           "title": {
            "standoff": 15
           },
           "zerolinecolor": "#EBF0F8",
           "zerolinewidth": 2
          }
         }
        },
        "xaxis": {
         "rangeslider": {
          "visible": false
         },
         "title": {
          "text": "Time"
         },
         "range": [
          "2025-07-02T00:32:00+00:00",
          "2025-07-02T12:31:00+00:00"
         ]
        },
        "title": {
         "text": "Best 12-Hour Fragment – LowVol_UpTrend"
        },
        "yaxis": {
         "title": {
          "text": "Price"
         }
        },
        "height": 600,
        "hovermode": "x unified"
       },
       "config": {
        "plotlyServerURL": "https://plot.ly"
       }
      }
     },
     "metadata": {},
     "output_type": "display_data"
    }
   ],
   "execution_count": 13
  },
  {
   "metadata": {
    "ExecuteTime": {
     "end_time": "2025-07-04T09:16:12.089402Z",
     "start_time": "2025-07-04T09:15:41.927382Z"
    }
   },
   "cell_type": "code",
   "source": [
    "# include both vol filter and confidence threshold\n",
    "\n",
    "from signals.model_preparation import prepare_features_only\n",
    "from train_model.signal_model import SignalModel\n",
    "from train_model.vol_model import VolatilityModel\n",
    "from logs.prediction_logger import PredictionLogger\n",
    "from logs.signal_logger import SignalHistoryLogger\n",
    "\n",
    "# === Load data ===\n",
    "df_fragments = pd.read_csv(csv_path, parse_dates=[\"timestamp\"])\n",
    "df_fragments.set_index(\"timestamp\", inplace=True)\n",
    "df_fragments.sort_index(inplace=True)\n",
    "\n",
    "# === Load models ===\n",
    "signal_model = SignalModel().load()\n",
    "vol_model = VolatilityModel().load()\n",
    "vol_features = vol_model.selected_features\n",
    "sig_features = signal_model.selected_features\n",
    "\n",
    "# === Result Summary ===\n",
    "summary = []\n",
    "\n",
    "# === Loop over each regime ===\n",
    "for regime in df_fragments[\"regime_name\"].unique():\n",
    "    print(f\"\\n=== Evaluating Regime: {regime} ===\")\n",
    "    df = df_fragments[df_fragments[\"regime_name\"] == regime].copy()\n",
    "    df = prepare_features_only(df).dropna()\n",
    "    print(f\"[{regime}] Rows after feature prep: {len(df)}\")\n",
    "\n",
    "    if df.empty or len(df) < 10:\n",
    "        print(f\"[{regime}] Skipped due to insufficient rows after preprocessing.\")\n",
    "        continue\n",
    "\n",
    "    signal_logger = SignalHistoryLogger()\n",
    "    prediction_logger = PredictionLogger(autosave=False)\n",
    "\n",
    "    for i in range(5, len(df) - 1):\n",
    "        window = df.iloc[:i + 1]\n",
    "        now = window.index[-2]\n",
    "\n",
    "        vol_input = window.iloc[[-2]].reindex(columns=vol_features, fill_value=0.0)\n",
    "        sig_input = window.iloc[[-2]].reindex(columns=sig_features, fill_value=0.0)\n",
    "\n",
    "        try:\n",
    "            vol_pred = vol_model.final_model.predict(vol_input)[0]\n",
    "            if vol_pred != 1:\n",
    "                # print(f\"[{now}] {regime} → Skipped due to low volatility prediction\")\n",
    "                continue\n",
    "\n",
    "            prob = signal_model.final_model.predict_proba(sig_input)[0][1]\n",
    "            if prob >= 0.85:\n",
    "                prediction = \"UP\"\n",
    "            elif prob <= 0.15:\n",
    "                prediction = \"DOWN\"\n",
    "            else:\n",
    "                # print(f\"[{now}] {regime} → Skipped due to low confidence ({prob:.2%})\")\n",
    "                continue\n",
    "\n",
    "            signal_type = \"xgboost_bullish\" if prediction == \"UP\" else \"xgboost_bearish\"\n",
    "            conf_str = f\"Conf={prob:.2%}\" if prediction == \"UP\" else f\"Conf={(1 - prob):.2%}\"\n",
    "            signal_logger.add_signal(signal_type, now, window[\"close\"].iloc[-2], conf_str)\n",
    "\n",
    "            prediction_logger.record_prediction(\n",
    "                timestamp=now,\n",
    "                prediction=prediction,\n",
    "                close_now=window['close'].iloc[-1],\n",
    "                close_prev=window['close'].iloc[-2],\n",
    "                confidence=prob\n",
    "            )\n",
    "\n",
    "        except Exception as e:\n",
    "            print(f\"[{now}] {regime} → ERROR during prediction: {e}\")\n",
    "            continue\n",
    "\n",
    "    df_result = prediction_logger.to_dataframe()\n",
    "    num_preds = len(df_result)\n",
    "    hit_rate = df_result[\"hit\"].mean() if num_preds > 0 else 0.0\n",
    "\n",
    "    print(f\"[{regime}] Finished with {num_preds} predictions, hit rate: {hit_rate:.2%}\")\n",
    "\n",
    "    if num_preds > 0:\n",
    "        summary.append({\n",
    "            \"regime\": regime,\n",
    "            \"hit_rate\": round(hit_rate * 100, 2),\n",
    "            \"num_predictions\": num_preds\n",
    "        })\n",
    "    else:\n",
    "        print(f\"[{regime}] No confident predictions made.\")\n",
    "\n",
    "# === Final Summary ===\n",
    "print(\"\\n=== Backtest Summary ===\")\n",
    "if summary:\n",
    "    summary_df = pd.DataFrame(summary)\n",
    "    summary_df = summary_df.sort_values(by=\"hit_rate\", ascending=False).reset_index(drop=True)\n",
    "    print(summary_df)\n",
    "else:\n",
    "    print(\"No valid predictions were made across all regimes.\")"
   ],
   "id": "ef8b47db0d52ce3",
   "outputs": [
    {
     "name": "stdout",
     "output_type": "stream",
     "text": [
      "[Load] Model and features loaded.\n",
      "[Load] Last trained: 2025-07-04T04:02:04.560046\n",
      "[VolLoad] Model loaded with 4 features.\n",
      "[VolLoad] Last trained: 2025-07-04T04:01:13.302181\n",
      "\n",
      "=== Evaluating Regime: HighVol_DownTrend ===\n",
      "[HighVol_DownTrend] Rows after feature prep: 501\n",
      "[HighVol_DownTrend] Finished with 68 predictions, hit rate: 39.71%\n",
      "\n",
      "=== Evaluating Regime: HighVol_UpTrend ===\n",
      "[HighVol_UpTrend] Rows after feature prep: 501\n",
      "[HighVol_UpTrend] Finished with 47 predictions, hit rate: 48.94%\n",
      "\n",
      "=== Evaluating Regime: Sideways ===\n",
      "[Sideways] Rows after feature prep: 501\n",
      "[Sideways] Finished with 0 predictions, hit rate: 0.00%\n",
      "[Sideways] No confident predictions made.\n",
      "\n",
      "=== Evaluating Regime: LowVol_DownTrend ===\n",
      "[LowVol_DownTrend] Rows after feature prep: 501\n",
      "[LowVol_DownTrend] Finished with 2 predictions, hit rate: 100.00%\n",
      "\n",
      "=== Evaluating Regime: LowVol_UpTrend ===\n",
      "[LowVol_UpTrend] Rows after feature prep: 501\n",
      "[LowVol_UpTrend] Finished with 0 predictions, hit rate: 0.00%\n",
      "[LowVol_UpTrend] No confident predictions made.\n",
      "\n",
      "=== Backtest Summary ===\n",
      "              regime  hit_rate  num_predictions\n",
      "0   LowVol_DownTrend    100.00                2\n",
      "1    HighVol_UpTrend     48.94               47\n",
      "2  HighVol_DownTrend     39.71               68\n"
     ]
    }
   ],
   "execution_count": 14
  },
  {
   "metadata": {
    "ExecuteTime": {
     "end_time": "2025-07-04T09:16:41.843785Z",
     "start_time": "2025-07-04T09:16:12.579373Z"
    }
   },
   "cell_type": "code",
   "source": [
    "# Remove confidence threshold\n",
    "\n",
    "# === Result Summary ===\n",
    "summary = []\n",
    "\n",
    "# === Loop over each regime ===\n",
    "for regime in df_fragments[\"regime_name\"].unique():\n",
    "    print(f\"\\n=== Evaluating Regime: {regime} ===\")\n",
    "    df = df_fragments[df_fragments[\"regime_name\"] == regime].copy()\n",
    "    df = prepare_features_only(df).dropna()\n",
    "    print(f\"[{regime}] Rows after feature prep: {len(df)}\")\n",
    "\n",
    "    if df.empty or len(df) < 10:\n",
    "        print(f\"[{regime}] Skipped due to insufficient rows after preprocessing.\")\n",
    "        continue\n",
    "\n",
    "    signal_logger = SignalHistoryLogger()\n",
    "    prediction_logger = PredictionLogger(autosave=False)\n",
    "\n",
    "    for i in range(5, len(df) - 1):\n",
    "        window = df.iloc[:i + 1]\n",
    "        now = window.index[-2]\n",
    "\n",
    "        vol_input = window.iloc[[-2]].reindex(columns=vol_features, fill_value=0.0)\n",
    "        sig_input = window.iloc[[-2]].reindex(columns=sig_features, fill_value=0.0)\n",
    "\n",
    "        try:\n",
    "            vol_pred = vol_model.final_model.predict(vol_input)[0]\n",
    "            if vol_pred != 1:\n",
    "                # print(f\"[{now}] {regime} → Skipped due to low volatility prediction\")\n",
    "\n",
    "                continue\n",
    "\n",
    "            prob = signal_model.final_model.predict_proba(sig_input)[0][1]\n",
    "            prediction = \"UP\" if prob >= 0.5 else \"DOWN\"\n",
    "\n",
    "            signal_type = \"xgboost_bullish\" if prediction == \"UP\" else \"xgboost_bearish\"\n",
    "            conf_str = f\"Conf={prob:.2%}\" if prediction == \"UP\" else f\"Conf={(1 - prob):.2%}\"\n",
    "            signal_logger.add_signal(signal_type, now, window[\"close\"].iloc[-2], conf_str)\n",
    "\n",
    "            prediction_logger.record_prediction(\n",
    "                timestamp=now,\n",
    "                prediction=prediction,\n",
    "                close_now=window['close'].iloc[-1],\n",
    "                close_prev=window['close'].iloc[-2],\n",
    "                confidence=prob\n",
    "            )\n",
    "\n",
    "        except Exception as e:\n",
    "            print(f\"[{now}] {regime} → ERROR during prediction: {e}\")\n",
    "            continue\n",
    "\n",
    "    df_result = prediction_logger.to_dataframe()\n",
    "    num_preds = len(df_result)\n",
    "    hit_rate = df_result[\"hit\"].mean() if num_preds > 0 else 0.0\n",
    "\n",
    "    print(f\"[{regime}] Finished with {num_preds} predictions, hit rate: {hit_rate:.2%}\")\n",
    "\n",
    "    if num_preds > 0:\n",
    "        summary.append({\n",
    "            \"regime\": regime,\n",
    "            \"hit_rate\": round(hit_rate * 100, 2),\n",
    "            \"num_predictions\": num_preds\n",
    "        })\n",
    "    else:\n",
    "        print(f\"[{regime}] No predictions made.\")\n",
    "\n",
    "# === Final Summary ===\n",
    "print(\"\\n=== Backtest Summary ===\")\n",
    "if summary:\n",
    "    summary_df = pd.DataFrame(summary)\n",
    "    summary_df = summary_df.sort_values(by=\"hit_rate\", ascending=False).reset_index(drop=True)\n",
    "    print(summary_df)\n",
    "else:\n",
    "    print(\"No valid predictions were made across all regimes.\")"
   ],
   "id": "edc4b0e2541089af",
   "outputs": [
    {
     "name": "stdout",
     "output_type": "stream",
     "text": [
      "\n",
      "=== Evaluating Regime: HighVol_DownTrend ===\n",
      "[HighVol_DownTrend] Rows after feature prep: 501\n",
      "[HighVol_DownTrend] Finished with 495 predictions, hit rate: 44.85%\n",
      "\n",
      "=== Evaluating Regime: HighVol_UpTrend ===\n",
      "[HighVol_UpTrend] Rows after feature prep: 501\n",
      "[HighVol_UpTrend] Finished with 495 predictions, hit rate: 44.04%\n",
      "\n",
      "=== Evaluating Regime: Sideways ===\n",
      "[Sideways] Rows after feature prep: 501\n",
      "[Sideways] Finished with 0 predictions, hit rate: 0.00%\n",
      "[Sideways] No predictions made.\n",
      "\n",
      "=== Evaluating Regime: LowVol_DownTrend ===\n",
      "[LowVol_DownTrend] Rows after feature prep: 501\n",
      "[LowVol_DownTrend] Finished with 2 predictions, hit rate: 100.00%\n",
      "\n",
      "=== Evaluating Regime: LowVol_UpTrend ===\n",
      "[LowVol_UpTrend] Rows after feature prep: 501\n",
      "[LowVol_UpTrend] Finished with 0 predictions, hit rate: 0.00%\n",
      "[LowVol_UpTrend] No predictions made.\n",
      "\n",
      "=== Backtest Summary ===\n",
      "              regime  hit_rate  num_predictions\n",
      "0   LowVol_DownTrend    100.00                2\n",
      "1  HighVol_DownTrend     44.85              495\n",
      "2    HighVol_UpTrend     44.04              495\n"
     ]
    }
   ],
   "execution_count": 15
  },
  {
   "metadata": {
    "ExecuteTime": {
     "end_time": "2025-07-04T09:17:00.550697Z",
     "start_time": "2025-07-04T09:16:42.037875Z"
    }
   },
   "cell_type": "code",
   "source": [
    "# Remove Vol filter\n",
    "\n",
    "# === Result Summary ===\n",
    "summary = []\n",
    "\n",
    "# === Loop over each regime ===\n",
    "for regime in df_fragments[\"regime_name\"].unique():\n",
    "    print(f\"\\n=== Evaluating Regime: {regime} ===\")\n",
    "    df = df_fragments[df_fragments[\"regime_name\"] == regime].copy()\n",
    "    df = prepare_features_only(df).dropna()\n",
    "    print(f\"[{regime}] Rows after feature prep: {len(df)}\")\n",
    "\n",
    "    if df.empty or len(df) < 10:\n",
    "        print(f\"[{regime}] Skipped due to insufficient rows after preprocessing.\")\n",
    "        continue\n",
    "\n",
    "    signal_logger = SignalHistoryLogger()\n",
    "    prediction_logger = PredictionLogger(autosave=False)\n",
    "\n",
    "    for i in range(5, len(df) - 1):\n",
    "        window = df.iloc[:i + 1]\n",
    "        now = window.index[-2]\n",
    "\n",
    "        # Skip vol filter — just compute inputs but don't condition on it\n",
    "        vol_input = window.iloc[[-2]].reindex(columns=vol_features, fill_value=0.0)\n",
    "        sig_input = window.iloc[[-2]].reindex(columns=sig_features, fill_value=0.0)\n",
    "\n",
    "        try:\n",
    "            prob = signal_model.final_model.predict_proba(sig_input)[0][1]\n",
    "            if prob >= 0.85:\n",
    "                prediction = \"UP\"\n",
    "            elif prob <= 0.15:\n",
    "                prediction = \"DOWN\"\n",
    "            else:\n",
    "                continue  # confidence too low\n",
    "\n",
    "            signal_type = \"xgboost_bullish\" if prediction == \"UP\" else \"xgboost_bearish\"\n",
    "            conf_str = f\"Conf={prob:.2%}\" if prediction == \"UP\" else f\"Conf={(1 - prob):.2%}\"\n",
    "            signal_logger.add_signal(signal_type, now, window[\"close\"].iloc[-2], conf_str)\n",
    "\n",
    "            prediction_logger.record_prediction(\n",
    "                timestamp=now,\n",
    "                prediction=prediction,\n",
    "                close_now=window['close'].iloc[-1],\n",
    "                close_prev=window['close'].iloc[-2],\n",
    "                confidence=prob\n",
    "            )\n",
    "\n",
    "        except Exception as e:\n",
    "            print(f\"[{now}] {regime} → ERROR during prediction: {e}\")\n",
    "            continue\n",
    "\n",
    "    df_result = prediction_logger.to_dataframe()\n",
    "    num_preds = len(df_result)\n",
    "    hit_rate = df_result[\"hit\"].mean() if num_preds > 0 else 0.0\n",
    "\n",
    "    print(f\"[{regime}] Finished with {num_preds} predictions, hit rate: {hit_rate:.2%}\")\n",
    "\n",
    "    if num_preds > 0:\n",
    "        summary.append({\n",
    "            \"regime\": regime,\n",
    "            \"hit_rate\": round(hit_rate * 100, 2),\n",
    "            \"num_predictions\": num_preds\n",
    "        })\n",
    "    else:\n",
    "        print(f\"[{regime}] No confident predictions made.\")\n",
    "\n",
    "# === Final Summary ===\n",
    "print(\"\\n=== Backtest Summary ===\")\n",
    "if summary:\n",
    "    summary_df = pd.DataFrame(summary)\n",
    "    summary_df = summary_df.sort_values(by=\"hit_rate\", ascending=False).reset_index(drop=True)\n",
    "    print(summary_df)\n",
    "else:\n",
    "    print(\"No valid predictions were made across all regimes.\")\n"
   ],
   "id": "fc317637feb52fa7",
   "outputs": [
    {
     "name": "stdout",
     "output_type": "stream",
     "text": [
      "\n",
      "=== Evaluating Regime: HighVol_DownTrend ===\n",
      "[HighVol_DownTrend] Rows after feature prep: 501\n",
      "[HighVol_DownTrend] Finished with 68 predictions, hit rate: 39.71%\n",
      "\n",
      "=== Evaluating Regime: HighVol_UpTrend ===\n",
      "[HighVol_UpTrend] Rows after feature prep: 501\n",
      "[HighVol_UpTrend] Finished with 47 predictions, hit rate: 48.94%\n",
      "\n",
      "=== Evaluating Regime: Sideways ===\n",
      "[Sideways] Rows after feature prep: 501\n",
      "[Sideways] Finished with 163 predictions, hit rate: 36.20%\n",
      "\n",
      "=== Evaluating Regime: LowVol_DownTrend ===\n",
      "[LowVol_DownTrend] Rows after feature prep: 501\n",
      "[LowVol_DownTrend] Finished with 63 predictions, hit rate: 57.14%\n",
      "\n",
      "=== Evaluating Regime: LowVol_UpTrend ===\n",
      "[LowVol_UpTrend] Rows after feature prep: 501\n",
      "[LowVol_UpTrend] Finished with 132 predictions, hit rate: 50.00%\n",
      "\n",
      "=== Backtest Summary ===\n",
      "              regime  hit_rate  num_predictions\n",
      "0   LowVol_DownTrend     57.14               63\n",
      "1     LowVol_UpTrend     50.00              132\n",
      "2    HighVol_UpTrend     48.94               47\n",
      "3  HighVol_DownTrend     39.71               68\n",
      "4           Sideways     36.20              163\n"
     ]
    }
   ],
   "execution_count": 16
  },
  {
   "metadata": {
    "ExecuteTime": {
     "end_time": "2025-07-04T09:08:23.580785Z",
     "start_time": "2025-07-04T09:08:23.575640Z"
    }
   },
   "cell_type": "code",
   "source": "",
   "id": "d53854ae1145510a",
   "outputs": [],
   "execution_count": null
  },
  {
   "metadata": {},
   "cell_type": "code",
   "outputs": [],
   "execution_count": null,
   "source": "",
   "id": "56a757323cb2a968"
  }
 ],
 "metadata": {
  "kernelspec": {
   "display_name": "base",
   "language": "python",
   "name": "python3"
  },
  "language_info": {
   "codemirror_mode": {
    "name": "ipython",
    "version": 3
   },
   "file_extension": ".py",
   "mimetype": "text/x-python",
   "name": "python",
   "nbconvert_exporter": "python",
   "pygments_lexer": "ipython3",
   "version": "3.12.9"
  }
 },
 "nbformat": 4,
 "nbformat_minor": 5
}
